{
  "nbformat": 4,
  "nbformat_minor": 0,
  "metadata": {
    "colab": {
      "name": "Label Corruption Inception",
      "provenance": [],
      "collapsed_sections": []
    },
    "kernelspec": {
      "name": "python3",
      "display_name": "Python 3"
    },
    "language_info": {
      "name": "python"
    },
    "accelerator": "GPU"
  },
  "cells": [
    {
      "cell_type": "code",
      "metadata": {
        "id": "kB7QA29UuuzU"
      },
      "source": [
        "import math\n",
        "import copy\n",
        "import numpy as np\n",
        "\n",
        "import torch\n",
        "import torch.nn as nn\n",
        "import torch.nn.functional as F\n",
        "\n",
        "import torch\n",
        "import torchvision\n",
        "import torchvision.transforms as transforms\n",
        "import matplotlib.pyplot as plt\n",
        "import numpy as np\n",
        "import torch.nn as nn\n",
        "import torch.nn.functional as F\n",
        "from torch.utils.data.sampler import SubsetRandomSampler\n",
        "from torchvision.datasets import CIFAR10\n",
        "from torch.utils.data import DataLoader\n",
        "import torch.optim as optim\n",
        "import matplotlib.pyplot as plt\n",
        "from sklearn.metrics import accuracy_score, confusion_matrix, classification_report, f1_score, precision_score, recall_score\n",
        "import pandas as pd\n",
        "import time\n",
        "\n",
        "import pickle"
      ],
      "execution_count": 1,
      "outputs": []
    },
    {
      "cell_type": "code",
      "metadata": {
        "id": "6MNMdY7LW7zi"
      },
      "source": [
        "class CIFAR10Corrupted(CIFAR10):\n",
        "    def __init__(self, corrupt_prob, num_classes=10, **kwargs):\n",
        "        super().__init__(**kwargs)\n",
        "        if corrupt_prob > 0:\n",
        "            self.n_classes = num_classes\n",
        "            self.corrupt_labels(corrupt_prob)\n",
        "\n",
        "    def corrupt_labels(self, corrupt_prob):\n",
        "        labels = np.array(self.targets)\n",
        "        np.random.seed(42)\n",
        "        mask = np.random.rand(len(labels)) <= corrupt_prob\n",
        "        rnd_labels = np.random.choice(self.n_classes, mask.sum())\n",
        "        labels[mask] = rnd_labels\n",
        "        labels = [int(x) for x in labels]\n",
        "        self.targets = labels"
      ],
      "execution_count": 2,
      "outputs": []
    },
    {
      "cell_type": "code",
      "metadata": {
        "id": "aKogcB3OW-xy"
      },
      "source": [
        "def get_cifar_dataloaders_corrupted(corrupt_prob=0, batch_size=32):\n",
        "    transform = transforms.Compose(\n",
        "        [transforms.ToTensor(),\n",
        "        transforms.Normalize((0.5, 0.5, 0.5), (0.5, 0.5, 0.5))])\n",
        "\n",
        "    trainset = CIFAR10Corrupted(root='./CIFAR', train=True, download=True, transform=transform, corrupt_prob=corrupt_prob)\n",
        "    train_loader = DataLoader(trainset, batch_size = batch_size, shuffle = True)\n",
        "    testset = CIFAR10Corrupted(root='./CIFAR', train=False, download=True, transform=transform, corrupt_prob=corrupt_prob)\n",
        "    test_loader = DataLoader(testset, batch_size=batch_size, shuffle=False)\n",
        "    return train_loader, test_loader\n",
        "\n"
      ],
      "execution_count": 3,
      "outputs": []
    },
    {
      "cell_type": "code",
      "metadata": {
        "id": "jKKVFe1KxJFN"
      },
      "source": [
        "class ConvModule(nn.Module):\n",
        "    def __init__(self, in_channels, out_channels, kernel_size, stride, padding):\n",
        "        super(ConvModule, self).__init__()\n",
        "        \n",
        "        self.conv = nn.Conv2d(in_channels, out_channels, kernel_size, stride, padding)\n",
        "        self.bn = nn.BatchNorm2d(out_channels)\n",
        "        self.act = nn.ReLU()\n",
        "        \n",
        "    def forward(self, x):\n",
        "        x = self.conv(x)\n",
        "        x = self.bn(x)\n",
        "        x = self.act(x)\n",
        "        return x\n",
        " \n",
        "class InceptionModule(nn.Module):\n",
        "    \n",
        "    def __init__(self, in_channels, f_1x1, f_3x3):\n",
        "        super(InceptionModule, self).__init__()\n",
        "        \n",
        "        self.branch1 = nn.Sequential(\n",
        "            ConvModule(in_channels, f_1x1, kernel_size=1, stride=1, padding=0)\n",
        "        )\n",
        "        \n",
        "        self.branch2 = nn.Sequential(\n",
        "            ConvModule(in_channels, f_3x3, kernel_size=3, stride=1, padding=1)\n",
        "        )\n",
        "                \n",
        "    def forward(self, x):\n",
        "        branch1 = self.branch1(x)\n",
        "        branch2 = self.branch2(x)\n",
        "        return torch.cat([branch1, branch2], 1)\n",
        "\n",
        "\n",
        "class DownsampleModule(nn.Module):\n",
        "    def __init__(self, in_channels, f_3x3):\n",
        "        super(DownsampleModule, self).__init__()\n",
        "    \n",
        "        self.branch1 = nn.Sequential(ConvModule(in_channels, f_3x3, kernel_size=3, stride=2, padding=0))\n",
        "        self.branch2 = nn.MaxPool2d(3, stride=2)\n",
        "    \n",
        "    def forward(self, x):\n",
        "        branch1 = self.branch1(x)\n",
        "        branch2 = self.branch2(x)\n",
        "        return torch.cat([branch1, branch2], 1)\n",
        "   \n",
        "class InceptionNet(nn.Module):\n",
        "    def __init__(self, num_classes = 10):\n",
        "        super().__init__()\n",
        "        \n",
        "        self.conv1 = ConvModule(in_channels =3,out_channels=96, kernel_size=3, stride=1, padding=0)\n",
        "        self.inception1 = InceptionModule(in_channels=96,f_1x1=32,f_3x3=32)\n",
        "        self.inception2 = InceptionModule(in_channels=64,f_1x1=32,f_3x3=48)\n",
        "        self.down1 = DownsampleModule(in_channels=80,f_3x3=80)\n",
        "        self.inception3 = InceptionModule(in_channels=160,f_1x1=112,f_3x3=48)\n",
        "        self.inception4 = InceptionModule(in_channels=160,f_1x1=96,f_3x3=64)\n",
        "        self.inception5 = InceptionModule(in_channels=160,f_1x1=80,f_3x3=80)\n",
        "        self.inception6 = InceptionModule(in_channels=160,f_1x1=48,f_3x3=96)   \n",
        "        self.down2 = DownsampleModule(in_channels=144,f_3x3=96)\n",
        "        self.inception7 = InceptionModule(in_channels=240,f_1x1=176,f_3x3=160)\n",
        "        self.inception8 = InceptionModule(in_channels=336,f_1x1=176,f_3x3=160)\n",
        "        self.meanpool = nn.AdaptiveAvgPool2d((7,7))\n",
        "        self.fc = nn.Linear(16464, num_classes)\n",
        "       \n",
        "    def forward(self, x):\n",
        "        x = self.conv1(x)\n",
        "        x = self.inception1(x)\n",
        "        x = self.inception2(x)\n",
        "        x = self.down1(x)\n",
        "        x = self.inception3(x)\n",
        "        x = self.inception4(x)\n",
        "        x = self.inception5(x)\n",
        "        x = self.inception6(x)\n",
        "        x = self.down2(x)\n",
        "        x = self.inception7(x)\n",
        "        x = self.inception8(x)\n",
        "        x = self.meanpool(x)\n",
        "        x = torch.flatten(x,1)\n",
        "        x = self.fc(x)\n",
        "        return x"
      ],
      "execution_count": 4,
      "outputs": []
    },
    {
      "cell_type": "code",
      "metadata": {
        "id": "Hz1oQr_mxLcs"
      },
      "source": [
        "def run_train_single_epoch(train_loader, model, device, criterion, optimizer):\n",
        "    running_loss = 0.0\n",
        "    num_correct = 0\n",
        "    for batch_num, data in enumerate(train_loader):\n",
        "        inputs, labels = data\n",
        "        inputs = inputs.to(device)\n",
        "        labels = labels.to(device)\n",
        "        outputs = model(inputs)\n",
        "        loss = criterion(outputs, labels)\n",
        "        optimizer.zero_grad()\n",
        "        loss.backward()\n",
        "        optimizer.step()\n",
        "        running_loss += loss.item()*len(inputs)\n",
        "        if batch_num%200==0:\n",
        "            print(\"Batch {} Loss: {}\".format(batch_num, loss.item()))\n",
        "        preds = outputs.argmax(1)\n",
        "        num_correct += (preds==labels).sum().item()\n",
        "    epoch_loss = running_loss/len(train_loader.sampler)\n",
        "    epoch_acc = num_correct/len(train_loader.sampler)\n",
        "    return epoch_loss, epoch_acc\n",
        "\n",
        "def run_validation_single_epoch(valid_loader, model, device, criterion):\n",
        "    running_loss = 0.0\n",
        "    num_correct = 0\n",
        "    for batch_num, data in enumerate(valid_loader):\n",
        "        inputs, labels = data\n",
        "        inputs = inputs.to(device)\n",
        "        labels = labels.to(device)\n",
        "        outputs = model(inputs)\n",
        "        loss = criterion(outputs, labels)\n",
        "        running_loss += loss.item()*len(inputs)\n",
        "        preds = outputs.argmax(1)\n",
        "        num_correct += (preds==labels).sum().item()\n",
        "    epoch_loss = running_loss/len(valid_loader.sampler)\n",
        "    epoch_acc = num_correct/len(valid_loader.sampler)\n",
        "    return epoch_loss, epoch_acc\n",
        "\n",
        "def training_loop(model, num_epochs, train_loader, valid_loader, device, \\\n",
        "                  criterion, optimizer, model_name):\n",
        "    train_losses, valid_losses = [], []\n",
        "    train_accs, valid_accs = [], []\n",
        "    highest_acc = 1e-10\n",
        "    for epoch in range(num_epochs):\n",
        "        model.train()\n",
        "        train_loss, train_acc = run_train_single_epoch(train_loader, model, device, criterion, optimizer)\n",
        "        model.eval()\n",
        "        valid_loss, valid_acc = run_validation_single_epoch(valid_loader, model, device, criterion)\n",
        "        print(\"[Epoch {}] Train Loss: {} Vaidation Loss: {} Train Acc: {} Validation Acc: {}\".format(\\\n",
        "              epoch, train_loss, valid_loss, train_acc, valid_acc))\n",
        "        train_losses.append(train_loss)\n",
        "        valid_losses.append(valid_loss)\n",
        "        train_accs.append(train_acc)\n",
        "        valid_accs.append(valid_acc)\n",
        "        if valid_acc > highest_acc:\n",
        "            torch.save(model.state_dict(), \"{}.pth\".format(model_name))\n",
        "            highest_acc = valid_acc\n",
        "        # else:\n",
        "        #     print(\"Early stopping.\")\n",
        "        #     break\n",
        "    print('Finished Training')\n",
        "    return train_losses, valid_losses, train_accs, valid_accs\n",
        "\n",
        "def run_testing(test_loader, model, device):\n",
        "    model.eval()\n",
        "    gt_all, preds_all = [], []\n",
        "    for batch_num, data in enumerate(test_loader):\n",
        "        inputs, labels = data\n",
        "        inputs = inputs.to(device)\n",
        "        labels = labels.to(device)\n",
        "        outputs = model(inputs)\n",
        "        preds = outputs.argmax(1)\n",
        "        gt_all.extend(labels.tolist())\n",
        "        preds_all.extend(preds.tolist())\n",
        "    return gt_all, preds_all\n",
        "    "
      ],
      "execution_count": 5,
      "outputs": []
    },
    {
      "cell_type": "code",
      "metadata": {
        "id": "_34xgQBr1Cjp"
      },
      "source": [
        "def plot_losses(training_loss_arr, validation_loss_arr, training_acc_arr, validation_acc_arr, \\\n",
        "                title):\n",
        "    num_epochs = len(training_loss_arr)\n",
        "    plt.figure(figsize=(16,6))\n",
        "    plt.subplot(1,2,1)\n",
        "    ax = plt.gca()\n",
        "    ax.plot(range(num_epochs), training_loss_arr, '-bo', label=\"Training Loss\")\n",
        "    ax.plot(range(num_epochs), validation_loss_arr, '-ro', label=\"Validation Loss\")\n",
        "    ax.legend()\n",
        "    ax.set_xlabel(\"Epochs\")\n",
        "    ax.set_ylabel(\"Loss\")\n",
        "    ax.set_title(title)\n",
        "    plt.subplot(1,2,2)\n",
        "    ax = plt.gca()\n",
        "    ax.plot(range(num_epochs), training_acc_arr, '-bo', label=\"Training Acc\")\n",
        "    ax.plot(range(num_epochs), validation_acc_arr, '-ro', label=\"Validation Acc\")\n",
        "    ax.legend()\n",
        "    ax.set_xlabel(\"Epochs\")\n",
        "    ax.set_ylabel(\"Accuracy\")\n",
        "    ax.set_title(title)    "
      ],
      "execution_count": 6,
      "outputs": []
    },
    {
      "cell_type": "code",
      "metadata": {
        "id": "8vPz9pPJSrup"
      },
      "source": [
        "final_dict = dict()"
      ],
      "execution_count": 7,
      "outputs": []
    },
    {
      "cell_type": "code",
      "metadata": {
        "colab": {
          "base_uri": "https://localhost:8080/"
        },
        "id": "5vvHX9oFKMPk",
        "outputId": "75b2be90-7ad6-4f95-c513-454a4c7a029b"
      },
      "source": [
        "train_loader, test_loader = get_cifar_dataloaders_corrupted(0)\n",
        "criterion = nn.CrossEntropyLoss()\n",
        "\n",
        "device = torch.device(\"cuda:0\" if torch.cuda.is_available() else \"cpu\")\n",
        "print(device)\n"
      ],
      "execution_count": 8,
      "outputs": [
        {
          "output_type": "stream",
          "text": [
            "Files already downloaded and verified\n",
            "Files already downloaded and verified\n",
            "cuda:0\n"
          ],
          "name": "stdout"
        }
      ]
    },
    {
      "cell_type": "code",
      "metadata": {
        "id": "dkESDnTEK9kG"
      },
      "source": [
        "model = InceptionNet()\n",
        "model = model.to(device)\n",
        "optimizer = optim.SGD(model.parameters(), lr=1e-3, momentum=0.9)\n"
      ],
      "execution_count": 9,
      "outputs": []
    },
    {
      "cell_type": "code",
      "metadata": {
        "colab": {
          "base_uri": "https://localhost:8080/"
        },
        "id": "MNgXXaQoLXES",
        "outputId": "2f03c846-c149-4a30-a289-2e8f051e048c"
      },
      "source": [
        "train_losses, valid_losses, train_accs, validation_accs = training_loop(model, 10, train_loader, test_loader,\n",
        "                                          device, criterion, optimizer, \"InceptionNet_corr_0\")"
      ],
      "execution_count": 10,
      "outputs": [
        {
          "output_type": "stream",
          "text": [
            "Batch 0 Loss: 2.2966246604919434\n",
            "Batch 200 Loss: 2.021329402923584\n",
            "Batch 400 Loss: 0.880563497543335\n",
            "Batch 600 Loss: 1.3201464414596558\n",
            "Batch 800 Loss: 0.8019658327102661\n",
            "Batch 1000 Loss: 1.3721511363983154\n",
            "Batch 1200 Loss: 1.5434796810150146\n",
            "Batch 1400 Loss: 1.0798041820526123\n",
            "[Epoch 0] Train Loss: 1.2301021377944947 Vaidation Loss: 0.8943298434257507 Train Acc: 0.5803 Validation Acc: 0.7011\n",
            "Batch 0 Loss: 0.6190153360366821\n",
            "Batch 200 Loss: 0.857844889163971\n",
            "Batch 400 Loss: 0.6717768311500549\n",
            "Batch 600 Loss: 0.796800971031189\n",
            "Batch 800 Loss: 0.30702951550483704\n",
            "Batch 1000 Loss: 0.7582938075065613\n",
            "Batch 1200 Loss: 0.9920988082885742\n",
            "Batch 1400 Loss: 0.6340700387954712\n",
            "[Epoch 1] Train Loss: 0.7391407148075104 Vaidation Loss: 0.7003715689659119 Train Acc: 0.74824 Validation Acc: 0.761\n",
            "Batch 0 Loss: 0.5350766181945801\n",
            "Batch 200 Loss: 0.6065288186073303\n",
            "Batch 400 Loss: 0.3015226721763611\n",
            "Batch 600 Loss: 0.46114352345466614\n",
            "Batch 800 Loss: 0.6953554749488831\n",
            "Batch 1000 Loss: 0.5497102737426758\n",
            "Batch 1200 Loss: 0.5431492328643799\n",
            "Batch 1400 Loss: 0.6282036304473877\n",
            "[Epoch 2] Train Loss: 0.5426495008039475 Vaidation Loss: 0.6604101371765136 Train Acc: 0.81182 Validation Acc: 0.7842\n",
            "Batch 0 Loss: 0.31583043932914734\n",
            "Batch 200 Loss: 0.3115968406200409\n",
            "Batch 400 Loss: 0.40037113428115845\n",
            "Batch 600 Loss: 0.3873266279697418\n",
            "Batch 800 Loss: 0.4520474374294281\n",
            "Batch 1000 Loss: 0.39709964394569397\n",
            "Batch 1200 Loss: 0.5245378017425537\n",
            "Batch 1400 Loss: 0.47304585576057434\n",
            "[Epoch 3] Train Loss: 0.40043400566577914 Vaidation Loss: 0.6660383147716522 Train Acc: 0.86086 Validation Acc: 0.7915\n",
            "Batch 0 Loss: 0.27504029870033264\n",
            "Batch 200 Loss: 0.4094248414039612\n",
            "Batch 400 Loss: 0.27525025606155396\n",
            "Batch 600 Loss: 0.27953416109085083\n",
            "Batch 800 Loss: 0.20503902435302734\n",
            "Batch 1000 Loss: 0.23728975653648376\n",
            "Batch 1200 Loss: 0.215028777718544\n",
            "Batch 1400 Loss: 0.13233275711536407\n",
            "[Epoch 4] Train Loss: 0.292582455997467 Vaidation Loss: 0.6677224471092225 Train Acc: 0.89856 Validation Acc: 0.803\n",
            "Batch 0 Loss: 0.13809499144554138\n",
            "Batch 200 Loss: 0.12883777916431427\n",
            "Batch 400 Loss: 0.28351297974586487\n",
            "Batch 600 Loss: 0.14428892731666565\n",
            "Batch 800 Loss: 0.13250674307346344\n",
            "Batch 1000 Loss: 0.19364194571971893\n",
            "Batch 1200 Loss: 0.10688858479261398\n",
            "Batch 1400 Loss: 0.19259309768676758\n",
            "[Epoch 5] Train Loss: 0.20773409347891808 Vaidation Loss: 0.5920470335245133 Train Acc: 0.92798 Validation Acc: 0.8206\n",
            "Batch 0 Loss: 0.12948183715343475\n",
            "Batch 200 Loss: 0.17458105087280273\n",
            "Batch 400 Loss: 0.1610693633556366\n",
            "Batch 600 Loss: 0.17664235830307007\n",
            "Batch 800 Loss: 0.15455588698387146\n",
            "Batch 1000 Loss: 0.1928074210882187\n",
            "Batch 1200 Loss: 0.21674101054668427\n",
            "Batch 1400 Loss: 0.39395591616630554\n",
            "[Epoch 6] Train Loss: 0.14244984179317952 Vaidation Loss: 0.5825117172479629 Train Acc: 0.95044 Validation Acc: 0.8283\n",
            "Batch 0 Loss: 0.032746609300374985\n",
            "Batch 200 Loss: 0.10876726359128952\n",
            "Batch 400 Loss: 0.0696253851056099\n",
            "Batch 600 Loss: 0.2167416363954544\n",
            "Batch 800 Loss: 0.0586884431540966\n",
            "Batch 1000 Loss: 0.07573283463716507\n",
            "Batch 1200 Loss: 0.03211279585957527\n",
            "Batch 1400 Loss: 0.040999963879585266\n",
            "[Epoch 7] Train Loss: 0.08700628061950207 Vaidation Loss: 0.574648473572731 Train Acc: 0.9725 Validation Acc: 0.837\n",
            "Batch 0 Loss: 0.04044348746538162\n",
            "Batch 200 Loss: 0.007436062209308147\n",
            "Batch 400 Loss: 0.07141011953353882\n",
            "Batch 600 Loss: 0.045644376426935196\n",
            "Batch 800 Loss: 0.06799759715795517\n",
            "Batch 1000 Loss: 0.00850179884582758\n",
            "Batch 1200 Loss: 0.034503623843193054\n",
            "Batch 1400 Loss: 0.04047858715057373\n",
            "[Epoch 8] Train Loss: 0.0541361961184442 Vaidation Loss: 0.5827628641963005 Train Acc: 0.98488 Validation Acc: 0.8358\n",
            "Batch 0 Loss: 0.004975196439772844\n",
            "Batch 200 Loss: 0.013677512295544147\n",
            "Batch 400 Loss: 0.02065313048660755\n",
            "Batch 600 Loss: 0.009306349791586399\n",
            "Batch 800 Loss: 0.033208440989255905\n",
            "Batch 1000 Loss: 0.008572767488658428\n",
            "Batch 1200 Loss: 0.04274466261267662\n",
            "Batch 1400 Loss: 0.09536930918693542\n",
            "[Epoch 9] Train Loss: 0.032667337967157366 Vaidation Loss: 0.6303766930341721 Train Acc: 0.99182 Validation Acc: 0.8361\n",
            "Finished Training\n"
          ],
          "name": "stdout"
        }
      ]
    },
    {
      "cell_type": "code",
      "metadata": {
        "id": "29yF-QC0LbX4",
        "colab": {
          "base_uri": "https://localhost:8080/",
          "height": 404
        },
        "outputId": "166f4d36-b61e-4e5a-e805-3dc9258204a7"
      },
      "source": [
        "plot_losses(train_losses, valid_losses, train_accs, validation_accs, \"InceptionNet 0% corruption\")"
      ],
      "execution_count": 11,
      "outputs": [
        {
          "output_type": "display_data",
          "data": {
            "image/png": "[encoded data removed]",
            "text/plain": [
              "<Figure size 1152x432 with 2 Axes>"
            ]
          },
          "metadata": {
            "tags": [],
            "needs_background": "light"
          }
        }
      ]
    },
    {
      "cell_type": "code",
      "metadata": {
        "id": "uRXpocMQLf71",
        "colab": {
          "base_uri": "https://localhost:8080/"
        },
        "outputId": "c2bbe3ee-cecf-49f7-d052-18e474c4c765"
      },
      "source": [
        "model = InceptionNet()\n",
        "sd = torch.load(\"InceptionNet_corr_0.pth\")\n",
        "model.load_state_dict(sd)\n",
        "model = model.to(device)\n",
        "testy, pred = run_testing(test_loader, model, device)\n",
        "\n",
        "print(\"Accuracy:\", accuracy_score(testy, pred))\n",
        "print(\"Confusion Matrix:\\n\", confusion_matrix(testy, pred))\n"
      ],
      "execution_count": 12,
      "outputs": [
        {
          "output_type": "stream",
          "text": [
            "Accuracy: 0.837\n",
            "Confusion Matrix:\n",
            " [[881  15  14   8   5   5   5   6  35  26]\n",
            " [  7 950   0   1   2   3   0   2   8  27]\n",
            " [ 74   2 717  49  53  31  48  13   6   7]\n",
            " [ 20  13  41 699  44  97  38  27  13   8]\n",
            " [ 23   1  33  43 823   8  23  39   6   1]\n",
            " [ 15   6  22 127  29 749  12  38   1   1]\n",
            " [  8   6  14  46  14  10 880  11   9   2]\n",
            " [ 16   1  13  24  28  27   1 879   5   6]\n",
            " [ 45  20   2   7   1   2   1   3 909  10]\n",
            " [ 24  60   1   5   0   1   4   2  20 883]]\n"
          ],
          "name": "stdout"
        }
      ]
    },
    {
      "cell_type": "code",
      "metadata": {
        "id": "Yrz3pv4_Yx_X"
      },
      "source": [
        "final_dict[0] = {}\n",
        "final_dict[0][\"train_losses\"] = train_losses\n",
        "final_dict[0][\"valid_losses\"] = valid_losses\n",
        "final_dict[0][\"train_accs\"] = train_accs\n",
        "final_dict[0][\"validation_accs\"] = validation_accs\n",
        "final_dict[0][\"best_test_acc\"] = accuracy_score(testy, pred)\n"
      ],
      "execution_count": 13,
      "outputs": []
    },
    {
      "cell_type": "code",
      "metadata": {
        "id": "KtjjzocXSx5m",
        "colab": {
          "base_uri": "https://localhost:8080/"
        },
        "outputId": "6c0a6e25-c686-4266-c83a-4b46087416c9"
      },
      "source": [
        "train_loader, test_loader = get_cifar_dataloaders_corrupted(0.2)\n",
        "criterion = nn.CrossEntropyLoss()\n",
        "\n",
        "device = torch.device(\"cuda:0\" if torch.cuda.is_available() else \"cpu\")\n",
        "print(device)\n"
      ],
      "execution_count": 14,
      "outputs": [
        {
          "output_type": "stream",
          "text": [
            "Files already downloaded and verified\n",
            "Files already downloaded and verified\n",
            "cuda:0\n"
          ],
          "name": "stdout"
        }
      ]
    },
    {
      "cell_type": "code",
      "metadata": {
        "id": "MNPVD-NvSx5p"
      },
      "source": [
        "model = InceptionNet()\n",
        "model = model.to(device)\n",
        "optimizer = optim.SGD(model.parameters(), lr=1e-3, momentum=0.9)\n"
      ],
      "execution_count": 15,
      "outputs": []
    },
    {
      "cell_type": "code",
      "metadata": {
        "id": "N-ED8AuMSx5p",
        "colab": {
          "base_uri": "https://localhost:8080/"
        },
        "outputId": "4229a0dd-d6c2-495f-e535-c8ec818e2b26"
      },
      "source": [
        "train_losses, valid_losses, train_accs, validation_accs = training_loop(model, 10, train_loader, test_loader,\n",
        "                                          device, criterion, optimizer, \"InceptionNet_corr_20\")"
      ],
      "execution_count": 16,
      "outputs": [
        {
          "output_type": "stream",
          "text": [
            "Batch 0 Loss: 2.3671553134918213\n",
            "Batch 200 Loss: 2.468792676925659\n",
            "Batch 400 Loss: 1.9719972610473633\n",
            "Batch 600 Loss: 1.9756159782409668\n",
            "Batch 800 Loss: 1.5178799629211426\n",
            "Batch 1000 Loss: 1.106667160987854\n",
            "Batch 1200 Loss: 1.5584248304367065\n",
            "Batch 1400 Loss: 1.64621901512146\n",
            "[Epoch 0] Train Loss: 1.8375717015457154 Vaidation Loss: 1.566264579963684 Train Acc: 0.42756 Validation Acc: 0.5343\n",
            "Batch 0 Loss: 1.7152074575424194\n",
            "Batch 200 Loss: 1.5192862749099731\n",
            "Batch 400 Loss: 1.1609277725219727\n",
            "Batch 600 Loss: 1.205207347869873\n",
            "Batch 800 Loss: 0.9884896874427795\n",
            "Batch 1000 Loss: 1.3900974988937378\n",
            "Batch 1200 Loss: 1.318469762802124\n",
            "Batch 1400 Loss: 1.070607304573059\n",
            "[Epoch 1] Train Loss: 1.4814714067840575 Vaidation Loss: 1.5075380741119384 Train Acc: 0.56422 Validation Acc: 0.5755\n",
            "Batch 0 Loss: 1.2056312561035156\n",
            "Batch 200 Loss: 1.498072862625122\n",
            "Batch 400 Loss: 1.5052790641784668\n",
            "Batch 600 Loss: 1.0829542875289917\n",
            "Batch 800 Loss: 1.3386074304580688\n",
            "Batch 1000 Loss: 1.3388856649398804\n",
            "Batch 1200 Loss: 1.278580665588379\n",
            "Batch 1400 Loss: 1.1674269437789917\n",
            "[Epoch 2] Train Loss: 1.3423244009780884 Vaidation Loss: 1.4643217966079711 Train Acc: 0.61856 Validation Acc: 0.5812\n",
            "Batch 0 Loss: 1.083356499671936\n",
            "Batch 200 Loss: 1.5382049083709717\n",
            "Batch 400 Loss: 1.1682935953140259\n",
            "Batch 600 Loss: 1.276934027671814\n",
            "Batch 800 Loss: 1.1394221782684326\n",
            "Batch 1000 Loss: 0.9065450429916382\n",
            "Batch 1200 Loss: 0.9721536636352539\n",
            "Batch 1400 Loss: 1.0008286237716675\n",
            "[Epoch 3] Train Loss: 1.2397560315704346 Vaidation Loss: 1.4546046854019166 Train Acc: 0.65258 Validation Acc: 0.5949\n",
            "Batch 0 Loss: 0.9768744707107544\n",
            "Batch 200 Loss: 0.91269451379776\n",
            "Batch 400 Loss: 1.1270841360092163\n",
            "Batch 600 Loss: 1.3163657188415527\n",
            "Batch 800 Loss: 1.1989723443984985\n",
            "Batch 1000 Loss: 1.2616899013519287\n",
            "Batch 1200 Loss: 0.8731231093406677\n",
            "Batch 1400 Loss: 1.3730911016464233\n",
            "[Epoch 4] Train Loss: 1.1488422033309937 Vaidation Loss: 1.4530280345916748 Train Acc: 0.6755 Validation Acc: 0.604\n",
            "Batch 0 Loss: 1.112693190574646\n",
            "Batch 200 Loss: 1.0566551685333252\n",
            "Batch 400 Loss: 1.1134113073349\n",
            "Batch 600 Loss: 0.8562066555023193\n",
            "Batch 800 Loss: 0.851499617099762\n",
            "Batch 1000 Loss: 1.2354834079742432\n",
            "Batch 1200 Loss: 1.1052277088165283\n",
            "Batch 1400 Loss: 1.217694640159607\n",
            "[Epoch 5] Train Loss: 1.0574706930541993 Vaidation Loss: 1.5430723815917968 Train Acc: 0.69758 Validation Acc: 0.5944\n",
            "Batch 0 Loss: 0.7355162501335144\n",
            "Batch 200 Loss: 0.8040506839752197\n",
            "Batch 400 Loss: 1.2042251825332642\n",
            "Batch 600 Loss: 0.7837809920310974\n",
            "Batch 800 Loss: 1.210386037826538\n",
            "Batch 1000 Loss: 0.5555512309074402\n",
            "Batch 1200 Loss: 1.010158896446228\n",
            "Batch 1400 Loss: 1.0949212312698364\n",
            "[Epoch 6] Train Loss: 0.9581242477607727 Vaidation Loss: 1.613760948371887 Train Acc: 0.71874 Validation Acc: 0.5818\n",
            "Batch 0 Loss: 0.6351548433303833\n",
            "Batch 200 Loss: 1.125454068183899\n",
            "Batch 400 Loss: 1.0344760417938232\n",
            "Batch 600 Loss: 0.7269322276115417\n",
            "Batch 800 Loss: 0.809359073638916\n",
            "Batch 1000 Loss: 1.079201102256775\n",
            "Batch 1200 Loss: 0.6889961957931519\n",
            "Batch 1400 Loss: 0.8451809883117676\n",
            "[Epoch 7] Train Loss: 0.8441464286804199 Vaidation Loss: 1.6771712480545045 Train Acc: 0.7468 Validation Acc: 0.5834\n",
            "Batch 0 Loss: 0.6587878465652466\n",
            "Batch 200 Loss: 0.7026835680007935\n",
            "Batch 400 Loss: 0.423617959022522\n",
            "Batch 600 Loss: 0.6797492504119873\n",
            "Batch 800 Loss: 0.5673502683639526\n",
            "Batch 1000 Loss: 0.9055805206298828\n",
            "Batch 1200 Loss: 1.2982203960418701\n",
            "Batch 1400 Loss: 0.7105770707130432\n",
            "[Epoch 8] Train Loss: 0.7295313467693328 Vaidation Loss: 1.8037858428955078 Train Acc: 0.7754 Validation Acc: 0.5715\n",
            "Batch 0 Loss: 0.7321581244468689\n",
            "Batch 200 Loss: 0.35344943404197693\n",
            "Batch 400 Loss: 0.39413318037986755\n",
            "Batch 600 Loss: 1.0678404569625854\n",
            "Batch 800 Loss: 0.8837860226631165\n",
            "Batch 1000 Loss: 0.4627893269062042\n",
            "Batch 1200 Loss: 0.5998401641845703\n",
            "Batch 1400 Loss: 0.6860660910606384\n",
            "[Epoch 9] Train Loss: 0.6143382141780853 Vaidation Loss: 2.1433645250320437 Train Acc: 0.80482 Validation Acc: 0.4952\n",
            "Finished Training\n"
          ],
          "name": "stdout"
        }
      ]
    },
    {
      "cell_type": "code",
      "metadata": {
        "id": "c4R55wlPSx5q",
        "colab": {
          "base_uri": "https://localhost:8080/",
          "height": 404
        },
        "outputId": "f7308ce6-bb07-45ad-a9a4-e88856051528"
      },
      "source": [
        "plot_losses(train_losses, valid_losses, train_accs, validation_accs, \"InceptionNet 20% corruption\")"
      ],
      "execution_count": 17,
      "outputs": [
        {
          "output_type": "display_data",
          "data": {
            "image/png": "[encoded data removed]",
            "text/plain": [
              "<Figure size 1152x432 with 2 Axes>"
            ]
          },
          "metadata": {
            "tags": [],
            "needs_background": "light"
          }
        }
      ]
    },
    {
      "cell_type": "code",
      "metadata": {
        "id": "5UNY-Z1FSx5q",
        "colab": {
          "base_uri": "https://localhost:8080/"
        },
        "outputId": "366c897c-dc5e-4152-baa6-e44ca6aab186"
      },
      "source": [
        "model = InceptionNet()\n",
        "sd = torch.load(\"InceptionNet_corr_20.pth\")\n",
        "model.load_state_dict(sd)\n",
        "model = model.to(device)\n",
        "testy, pred = run_testing(test_loader, model, device)\n",
        "\n",
        "print(\"Accuracy:\", accuracy_score(testy, pred))\n",
        "print(\"Confusion Matrix:\\n\", confusion_matrix(testy, pred))\n"
      ],
      "execution_count": 18,
      "outputs": [
        {
          "output_type": "stream",
          "text": [
            "Accuracy: 0.604\n",
            "Confusion Matrix:\n",
            " [[702  23  62  43  32  25  18  25  54  12]\n",
            " [ 51 687  39  35  23  24  22  19  72  28]\n",
            " [100  32 579  72  72  32  33  24  25  20]\n",
            " [ 66  33  95 561  70  98  27  26  39  18]\n",
            " [ 49  23 111  78 606  19  19  35  28  18]\n",
            " [ 48  27 109 184  63 463  28  41  15  12]\n",
            " [ 34  22 145  98  55  37 553  22  39  13]\n",
            " [ 72  26  73  68  68  52  11 565  26  10]\n",
            " [ 91  21  45  40  15  20  12  17 714  22]\n",
            " [ 65  92  41  55  30  25  18  20  64 610]]\n"
          ],
          "name": "stdout"
        }
      ]
    },
    {
      "cell_type": "code",
      "metadata": {
        "id": "Xb5ufKRfSx5r"
      },
      "source": [
        "final_dict[20] = {}\n",
        "final_dict[20][\"train_losses\"] = train_losses\n",
        "final_dict[20][\"valid_losses\"] = valid_losses\n",
        "final_dict[20][\"train_accs\"] = train_accs\n",
        "final_dict[20][\"validation_accs\"] = validation_accs\n",
        "final_dict[20][\"best_test_acc\"]  = accuracy_score(testy, pred)\n"
      ],
      "execution_count": 19,
      "outputs": []
    },
    {
      "cell_type": "code",
      "metadata": {
        "id": "NkUA4jRGSyIU",
        "colab": {
          "base_uri": "https://localhost:8080/"
        },
        "outputId": "a9d31f84-ef91-4728-d91a-ca429429ab04"
      },
      "source": [
        "train_loader, test_loader = get_cifar_dataloaders_corrupted(0.4)\n",
        "criterion = nn.CrossEntropyLoss()\n",
        "\n",
        "device = torch.device(\"cuda:0\" if torch.cuda.is_available() else \"cpu\")\n",
        "print(device)\n"
      ],
      "execution_count": 20,
      "outputs": [
        {
          "output_type": "stream",
          "text": [
            "Files already downloaded and verified\n",
            "Files already downloaded and verified\n",
            "cuda:0\n"
          ],
          "name": "stdout"
        }
      ]
    },
    {
      "cell_type": "code",
      "metadata": {
        "id": "90921FKmSyIV"
      },
      "source": [
        "model = InceptionNet()\n",
        "model = model.to(device)\n",
        "optimizer = optim.SGD(model.parameters(), lr=1e-3, momentum=0.9)\n"
      ],
      "execution_count": 21,
      "outputs": []
    },
    {
      "cell_type": "code",
      "metadata": {
        "id": "jVgrL0Y4SyIV",
        "colab": {
          "base_uri": "https://localhost:8080/"
        },
        "outputId": "6b650004-a421-46f9-c949-419e1bec818c"
      },
      "source": [
        "train_losses, valid_losses, train_accs, validation_accs = training_loop(model, 10, train_loader, test_loader,\n",
        "                                          device, criterion, optimizer, \"InceptionNet_corr_40\")"
      ],
      "execution_count": 22,
      "outputs": [
        {
          "output_type": "stream",
          "text": [
            "Batch 0 Loss: 2.33540940284729\n",
            "Batch 200 Loss: 2.366856813430786\n",
            "Batch 400 Loss: 2.2762489318847656\n",
            "Batch 600 Loss: 2.1831188201904297\n",
            "Batch 800 Loss: 2.094660997390747\n",
            "Batch 1000 Loss: 1.9997894763946533\n",
            "Batch 1200 Loss: 2.2224602699279785\n",
            "Batch 1400 Loss: 1.9131624698638916\n",
            "[Epoch 0] Train Loss: 2.1553488302993773 Vaidation Loss: 1.9867485404968261 Train Acc: 0.29446 Validation Acc: 0.358\n",
            "Batch 0 Loss: 1.6547127962112427\n",
            "Batch 200 Loss: 1.8774195909500122\n",
            "Batch 400 Loss: 1.7562668323516846\n",
            "Batch 600 Loss: 1.868841290473938\n",
            "Batch 800 Loss: 1.8756873607635498\n",
            "Batch 1000 Loss: 1.9662165641784668\n",
            "Batch 1200 Loss: 2.096069097518921\n",
            "Batch 1400 Loss: 2.1361277103424072\n",
            "[Epoch 1] Train Loss: 1.906460111618042 Vaidation Loss: 1.909598090362549 Train Acc: 0.39944 Validation Acc: 0.4102\n",
            "Batch 0 Loss: 2.033663511276245\n",
            "Batch 200 Loss: 1.6684221029281616\n",
            "Batch 400 Loss: 1.9519033432006836\n",
            "Batch 600 Loss: 1.7519795894622803\n",
            "Batch 800 Loss: 1.7758368253707886\n",
            "Batch 1000 Loss: 1.9594786167144775\n",
            "Batch 1200 Loss: 1.9862006902694702\n",
            "Batch 1400 Loss: 2.106173038482666\n",
            "[Epoch 2] Train Loss: 1.823217928276062 Vaidation Loss: 1.8956743007659913 Train Acc: 0.44148 Validation Acc: 0.431\n",
            "Batch 0 Loss: 2.088038921356201\n",
            "Batch 200 Loss: 2.0354902744293213\n",
            "Batch 400 Loss: 1.3715004920959473\n",
            "Batch 600 Loss: 1.7738438844680786\n",
            "Batch 800 Loss: 1.6906073093414307\n",
            "Batch 1000 Loss: 2.014416456222534\n",
            "Batch 1200 Loss: 1.7219429016113281\n",
            "Batch 1400 Loss: 1.8722974061965942\n",
            "[Epoch 3] Train Loss: 1.75839403717041 Vaidation Loss: 1.8739036628723145 Train Acc: 0.4687 Validation Acc: 0.4554\n",
            "Batch 0 Loss: 1.4421106576919556\n",
            "Batch 200 Loss: 1.664557695388794\n",
            "Batch 400 Loss: 1.8940343856811523\n",
            "Batch 600 Loss: 1.771254539489746\n",
            "Batch 800 Loss: 1.4604612588882446\n",
            "Batch 1000 Loss: 1.5905183553695679\n",
            "Batch 1200 Loss: 1.514032006263733\n",
            "Batch 1400 Loss: 2.244509220123291\n",
            "[Epoch 4] Train Loss: 1.6950731851577758 Vaidation Loss: 1.9158644468307495 Train Acc: 0.48794 Validation Acc: 0.4243\n",
            "Batch 0 Loss: 1.7709341049194336\n",
            "Batch 200 Loss: 1.6168568134307861\n",
            "Batch 400 Loss: 1.7109766006469727\n",
            "Batch 600 Loss: 1.943873643875122\n",
            "Batch 800 Loss: 1.2798405885696411\n",
            "Batch 1000 Loss: 1.798985481262207\n",
            "Batch 1200 Loss: 1.4175784587860107\n",
            "Batch 1400 Loss: 1.679555058479309\n",
            "[Epoch 5] Train Loss: 1.6299734057235717 Vaidation Loss: 1.898169320678711 Train Acc: 0.50434 Validation Acc: 0.442\n",
            "Batch 0 Loss: 1.3226810693740845\n",
            "Batch 200 Loss: 1.5089130401611328\n",
            "Batch 400 Loss: 1.4602395296096802\n",
            "Batch 600 Loss: 1.6516145467758179\n",
            "Batch 800 Loss: 1.7815816402435303\n",
            "Batch 1000 Loss: 1.488144874572754\n",
            "Batch 1200 Loss: 1.70297110080719\n",
            "Batch 1400 Loss: 1.7934973239898682\n",
            "[Epoch 6] Train Loss: 1.5591817678070068 Vaidation Loss: 2.013006367111206 Train Acc: 0.52054 Validation Acc: 0.3972\n",
            "Batch 0 Loss: 1.6005611419677734\n",
            "Batch 200 Loss: 1.4932705163955688\n",
            "Batch 400 Loss: 1.4691109657287598\n",
            "Batch 600 Loss: 1.3216214179992676\n",
            "Batch 800 Loss: 1.8201197385787964\n",
            "Batch 1000 Loss: 1.5978341102600098\n",
            "Batch 1200 Loss: 1.9060521125793457\n",
            "Batch 1400 Loss: 1.7061656713485718\n",
            "[Epoch 7] Train Loss: 1.4834203229141236 Vaidation Loss: 2.0750786731719972 Train Acc: 0.5395 Validation Acc: 0.3983\n",
            "Batch 0 Loss: 1.652997612953186\n",
            "Batch 200 Loss: 1.1799043416976929\n",
            "Batch 400 Loss: 2.3088905811309814\n",
            "Batch 600 Loss: 1.2211722135543823\n",
            "Batch 800 Loss: 1.5374292135238647\n",
            "Batch 1000 Loss: 1.2487916946411133\n",
            "Batch 1200 Loss: 1.3771709203720093\n",
            "Batch 1400 Loss: 1.3705291748046875\n",
            "[Epoch 8] Train Loss: 1.3938952103805542 Vaidation Loss: 2.1057578350067137 Train Acc: 0.56004 Validation Acc: 0.409\n",
            "Batch 0 Loss: 1.3095133304595947\n",
            "Batch 200 Loss: 1.2764084339141846\n",
            "Batch 400 Loss: 1.1203721761703491\n",
            "Batch 600 Loss: 1.1719003915786743\n",
            "Batch 800 Loss: 1.0756568908691406\n",
            "Batch 1000 Loss: 1.654322624206543\n",
            "Batch 1200 Loss: 1.262454867362976\n",
            "Batch 1400 Loss: 0.9684836864471436\n",
            "[Epoch 9] Train Loss: 1.2945400513839722 Vaidation Loss: 2.1651408180236817 Train Acc: 0.58764 Validation Acc: 0.3995\n",
            "Finished Training\n"
          ],
          "name": "stdout"
        }
      ]
    },
    {
      "cell_type": "code",
      "metadata": {
        "id": "WMcjfa7oSyIV",
        "colab": {
          "base_uri": "https://localhost:8080/",
          "height": 404
        },
        "outputId": "ddcbe7ef-6463-4092-f00d-9463bed6d4e0"
      },
      "source": [
        "plot_losses(train_losses, valid_losses, train_accs, validation_accs, \"InceptionNet 40% corruption\")"
      ],
      "execution_count": 23,
      "outputs": [
        {
          "output_type": "display_data",
          "data": {
            "image/png": "[encoded data removed]",
            "text/plain": [
              "<Figure size 1152x432 with 2 Axes>"
            ]
          },
          "metadata": {
            "tags": [],
            "needs_background": "light"
          }
        }
      ]
    },
    {
      "cell_type": "code",
      "metadata": {
        "id": "xeBbd0B9SyIW",
        "colab": {
          "base_uri": "https://localhost:8080/"
        },
        "outputId": "5d403f4e-3a90-4b29-a7bf-aa0a39ed46aa"
      },
      "source": [
        "model = InceptionNet()\n",
        "sd = torch.load(\"InceptionNet_corr_40.pth\")\n",
        "model.load_state_dict(sd)\n",
        "model = model.to(device)\n",
        "testy, pred = run_testing(test_loader, model, device)\n",
        "\n",
        "print(\"Accuracy:\", accuracy_score(testy, pred))\n",
        "print(\"Confusion Matrix:\\n\", confusion_matrix(testy, pred))\n"
      ],
      "execution_count": 24,
      "outputs": [
        {
          "output_type": "stream",
          "text": [
            "Accuracy: 0.4554\n",
            "Confusion Matrix:\n",
            " [[558  55  36  52  64  47  49  37  76  46]\n",
            " [ 66 567  32  48  60  36  48  31  70  51]\n",
            " [127  49 305  68 119 103  76  53  62  32]\n",
            " [ 84  56  47 371 135 137  57  51  49  46]\n",
            " [ 72  45  64  55 494  55  74  53  51  28]\n",
            " [ 74  43  57 132 106 376  58  54  51  30]\n",
            " [ 57  35  46  81  90  55 532  41  45  30]\n",
            " [ 66  39  39  57 121  99  45 401  54  64]\n",
            " [129  58  32  38  47  31  47  47 511  31]\n",
            " [ 90 105  28  57  66  53  45  42  79 439]]\n"
          ],
          "name": "stdout"
        }
      ]
    },
    {
      "cell_type": "code",
      "metadata": {
        "id": "mlaoKsS_SyIW"
      },
      "source": [
        "final_dict[40] = {}\n",
        "final_dict[40][\"train_losses\"] = train_losses\n",
        "final_dict[40][\"valid_losses\"] = valid_losses\n",
        "final_dict[40][\"train_accs\"] = train_accs\n",
        "final_dict[40][\"validation_accs\"] = validation_accs\n",
        "final_dict[40][\"best_test_acc\"]  = accuracy_score(testy, pred)\n"
      ],
      "execution_count": 25,
      "outputs": []
    },
    {
      "cell_type": "code",
      "metadata": {
        "id": "vq2jHTn0SyY9",
        "colab": {
          "base_uri": "https://localhost:8080/"
        },
        "outputId": "374e918d-ec5b-42fb-c72a-6520711a8251"
      },
      "source": [
        "train_loader, test_loader = get_cifar_dataloaders_corrupted(0.6)\n",
        "criterion = nn.CrossEntropyLoss()\n",
        "\n",
        "device = torch.device(\"cuda:0\" if torch.cuda.is_available() else \"cpu\")\n",
        "print(device)\n"
      ],
      "execution_count": 26,
      "outputs": [
        {
          "output_type": "stream",
          "text": [
            "Files already downloaded and verified\n",
            "Files already downloaded and verified\n",
            "cuda:0\n"
          ],
          "name": "stdout"
        }
      ]
    },
    {
      "cell_type": "code",
      "metadata": {
        "id": "SwG4z_P5SyY-"
      },
      "source": [
        "model = InceptionNet()\n",
        "model = model.to(device)\n",
        "optimizer = optim.SGD(model.parameters(), lr=1e-3, momentum=0.9)\n"
      ],
      "execution_count": 27,
      "outputs": []
    },
    {
      "cell_type": "code",
      "metadata": {
        "id": "vQScs2leSyY-",
        "colab": {
          "base_uri": "https://localhost:8080/"
        },
        "outputId": "16bd819f-cff0-4d4e-c60e-95b4149b85f6"
      },
      "source": [
        "train_losses, valid_losses, train_accs, validation_accs = training_loop(model, 10, train_loader, test_loader,\n",
        "                                          device, criterion, optimizer, \"InceptionNet_corr_60\")"
      ],
      "execution_count": 28,
      "outputs": [
        {
          "output_type": "stream",
          "text": [
            "Batch 0 Loss: 2.4087162017822266\n",
            "Batch 200 Loss: 2.6759228706359863\n",
            "Batch 400 Loss: 2.533828020095825\n",
            "Batch 600 Loss: 2.014007329940796\n",
            "Batch 800 Loss: 2.175114154815674\n",
            "Batch 1000 Loss: 2.3232498168945312\n",
            "Batch 1200 Loss: 2.342381000518799\n",
            "Batch 1400 Loss: 2.1284689903259277\n",
            "[Epoch 0] Train Loss: 2.3135684673690795 Vaidation Loss: 2.1693429538726807 Train Acc: 0.19918 Validation Acc: 0.2551\n",
            "Batch 0 Loss: 2.080568790435791\n",
            "Batch 200 Loss: 1.9697701930999756\n",
            "Batch 400 Loss: 2.2656683921813965\n",
            "Batch 600 Loss: 2.2422547340393066\n",
            "Batch 800 Loss: 2.288656234741211\n",
            "Batch 1000 Loss: 2.3013217449188232\n",
            "Batch 1200 Loss: 2.0951087474823\n",
            "Batch 1400 Loss: 2.136146306991577\n",
            "[Epoch 1] Train Loss: 2.1581936528778076 Vaidation Loss: 2.1815813167572022 Train Acc: 0.26766 Validation Acc: 0.2686\n",
            "Batch 0 Loss: 2.082149028778076\n",
            "Batch 200 Loss: 2.157132148742676\n",
            "Batch 400 Loss: 2.201970338821411\n",
            "Batch 600 Loss: 2.1510040760040283\n",
            "Batch 800 Loss: 2.332545757293701\n",
            "Batch 1000 Loss: 2.016505002975464\n",
            "Batch 1200 Loss: 2.095510482788086\n",
            "Batch 1400 Loss: 2.1011862754821777\n",
            "[Epoch 2] Train Loss: 2.1117446356201173 Vaidation Loss: 2.1501756141662596 Train Acc: 0.29664 Validation Acc: 0.2827\n",
            "Batch 0 Loss: 2.106996536254883\n",
            "Batch 200 Loss: 2.12825608253479\n",
            "Batch 400 Loss: 2.16914963722229\n",
            "Batch 600 Loss: 2.154690980911255\n",
            "Batch 800 Loss: 2.2659730911254883\n",
            "Batch 1000 Loss: 2.2046849727630615\n",
            "Batch 1200 Loss: 1.8371520042419434\n",
            "Batch 1400 Loss: 1.8674951791763306\n",
            "[Epoch 3] Train Loss: 2.0747184023284913 Vaidation Loss: 2.163299200820923 Train Acc: 0.31658 Validation Acc: 0.2866\n",
            "Batch 0 Loss: 2.2140281200408936\n",
            "Batch 200 Loss: 1.8909764289855957\n",
            "Batch 400 Loss: 2.1490962505340576\n",
            "Batch 600 Loss: 2.015376329421997\n",
            "Batch 800 Loss: 2.132375478744507\n",
            "Batch 1000 Loss: 2.2193500995635986\n",
            "Batch 1200 Loss: 2.255084991455078\n",
            "Batch 1400 Loss: 1.8681700229644775\n",
            "[Epoch 4] Train Loss: 2.037871839828491 Vaidation Loss: 2.1425493717193604 Train Acc: 0.3294 Validation Acc: 0.2964\n",
            "Batch 0 Loss: 2.0669357776641846\n",
            "Batch 200 Loss: 1.9822545051574707\n",
            "Batch 400 Loss: 1.7551518678665161\n",
            "Batch 600 Loss: 1.9656438827514648\n",
            "Batch 800 Loss: 2.310225009918213\n",
            "Batch 1000 Loss: 2.0796689987182617\n",
            "Batch 1200 Loss: 2.2255942821502686\n",
            "Batch 1400 Loss: 2.2658166885375977\n",
            "[Epoch 5] Train Loss: 1.9970421488189698 Vaidation Loss: 2.1947146720886233 Train Acc: 0.3436 Validation Acc: 0.2908\n",
            "Batch 0 Loss: 1.8410595655441284\n",
            "Batch 200 Loss: 1.7528129816055298\n",
            "Batch 400 Loss: 1.8077552318572998\n",
            "Batch 600 Loss: 2.0740973949432373\n",
            "Batch 800 Loss: 1.966722011566162\n",
            "Batch 1000 Loss: 2.041717290878296\n",
            "Batch 1200 Loss: 1.9262515306472778\n",
            "Batch 1400 Loss: 2.1386382579803467\n",
            "[Epoch 6] Train Loss: 1.951289266052246 Vaidation Loss: 2.2033843338012695 Train Acc: 0.35724 Validation Acc: 0.2845\n",
            "Batch 0 Loss: 1.4610323905944824\n",
            "Batch 200 Loss: 1.7279831171035767\n",
            "Batch 400 Loss: 1.889430046081543\n",
            "Batch 600 Loss: 2.383232593536377\n",
            "Batch 800 Loss: 2.1179721355438232\n",
            "Batch 1000 Loss: 1.7682427167892456\n",
            "Batch 1200 Loss: 1.6585421562194824\n",
            "Batch 1400 Loss: 1.8769134283065796\n",
            "[Epoch 7] Train Loss: 1.9000660762405395 Vaidation Loss: 2.21623448677063 Train Acc: 0.3694 Validation Acc: 0.2825\n",
            "Batch 0 Loss: 1.7794259786605835\n",
            "Batch 200 Loss: 2.100559711456299\n",
            "Batch 400 Loss: 1.932568907737732\n",
            "Batch 600 Loss: 1.847472906112671\n",
            "Batch 800 Loss: 1.8641210794448853\n",
            "Batch 1000 Loss: 1.7822014093399048\n",
            "Batch 1200 Loss: 1.9124029874801636\n",
            "Batch 1400 Loss: 1.6647071838378906\n",
            "[Epoch 8] Train Loss: 1.8336702828598022 Vaidation Loss: 2.2689814029693602 Train Acc: 0.39088 Validation Acc: 0.2737\n",
            "Batch 0 Loss: 1.5067099332809448\n",
            "Batch 200 Loss: 1.8332712650299072\n",
            "Batch 400 Loss: 2.0014328956604004\n",
            "Batch 600 Loss: 1.8667877912521362\n",
            "Batch 800 Loss: 2.066701889038086\n",
            "Batch 1000 Loss: 1.6285452842712402\n",
            "Batch 1200 Loss: 2.070939302444458\n",
            "Batch 1400 Loss: 1.8479975461959839\n",
            "[Epoch 9] Train Loss: 1.7635263813400268 Vaidation Loss: 2.345968529510498 Train Acc: 0.41018 Validation Acc: 0.2578\n",
            "Finished Training\n"
          ],
          "name": "stdout"
        }
      ]
    },
    {
      "cell_type": "code",
      "metadata": {
        "id": "nTTNzdqgSyY_",
        "colab": {
          "base_uri": "https://localhost:8080/",
          "height": 404
        },
        "outputId": "809e9518-43a4-4c96-fb81-9aaa6f4b9e9f"
      },
      "source": [
        "plot_losses(train_losses, valid_losses, train_accs, validation_accs, \"InceptionNet 60% corruption\")"
      ],
      "execution_count": 29,
      "outputs": [
        {
          "output_type": "display_data",
          "data": {
            "image/png": "[encoded data removed]",
            "text/plain": [
              "<Figure size 1152x432 with 2 Axes>"
            ]
          },
          "metadata": {
            "tags": [],
            "needs_background": "light"
          }
        }
      ]
    },
    {
      "cell_type": "code",
      "metadata": {
        "id": "NPEUya5RSyZA",
        "colab": {
          "base_uri": "https://localhost:8080/"
        },
        "outputId": "1f463169-6b2a-4cff-c673-e9a8f4c592b5"
      },
      "source": [
        "model = InceptionNet()\n",
        "sd = torch.load(\"InceptionNet_corr_60.pth\")\n",
        "model.load_state_dict(sd)\n",
        "model = model.to(device)\n",
        "testy, pred = run_testing(test_loader, model, device)\n",
        "\n",
        "print(\"Accuracy:\", accuracy_score(testy, pred))\n",
        "print(\"Confusion Matrix:\\n\", confusion_matrix(testy, pred))\n"
      ],
      "execution_count": 30,
      "outputs": [
        {
          "output_type": "stream",
          "text": [
            "Accuracy: 0.2964\n",
            "Confusion Matrix:\n",
            " [[304  60 143  65  36  63  79  99  55 123]\n",
            " [ 52 344  93  65  35  72  81  84  55 145]\n",
            " [ 74  52 283  84  41  87  99 106  62  98]\n",
            " [ 53  54 120 213  40 154 124 105  56 102]\n",
            " [ 64  51 132  83 150  99 112 149  57  82]\n",
            " [ 47  57 111 101  29 277  86 103  66  97]\n",
            " [ 65  56  94  72  36  79 387  85  47  91]\n",
            " [ 67  65 112  75  39  99  82 341  41  88]\n",
            " [ 81  88  65  67  24  73  67  83 296 136]\n",
            " [ 47  86  90  63  31  63  86  88  63 369]]\n"
          ],
          "name": "stdout"
        }
      ]
    },
    {
      "cell_type": "code",
      "metadata": {
        "id": "FVCP8TOuSyZA"
      },
      "source": [
        "final_dict[60] = {}\n",
        "final_dict[60][\"train_losses\"] = train_losses\n",
        "final_dict[60][\"valid_losses\"] = valid_losses\n",
        "final_dict[60][\"train_accs\"] = train_accs\n",
        "final_dict[60][\"validation_accs\"] = validation_accs\n",
        "final_dict[60][\"best_test_acc\"]  = accuracy_score(testy, pred)\n"
      ],
      "execution_count": 31,
      "outputs": []
    },
    {
      "cell_type": "code",
      "metadata": {
        "id": "e6nv7_Z9Sylc",
        "colab": {
          "base_uri": "https://localhost:8080/"
        },
        "outputId": "0068edb7-60fe-49cc-cdb5-5ca3c2c26439"
      },
      "source": [
        "train_loader, test_loader = get_cifar_dataloaders_corrupted(0.8)\n",
        "criterion = nn.CrossEntropyLoss()\n",
        "\n",
        "device = torch.device(\"cuda:0\" if torch.cuda.is_available() else \"cpu\")\n",
        "print(device)\n"
      ],
      "execution_count": 32,
      "outputs": [
        {
          "output_type": "stream",
          "text": [
            "Files already downloaded and verified\n",
            "Files already downloaded and verified\n",
            "cuda:0\n"
          ],
          "name": "stdout"
        }
      ]
    },
    {
      "cell_type": "code",
      "metadata": {
        "id": "Vy_kvh2ISyld"
      },
      "source": [
        "model = InceptionNet()\n",
        "model = model.to(device)\n",
        "optimizer = optim.SGD(model.parameters(), lr=1e-3, momentum=0.9)\n"
      ],
      "execution_count": 33,
      "outputs": []
    },
    {
      "cell_type": "code",
      "metadata": {
        "id": "Vo6FUCo9Syld",
        "colab": {
          "base_uri": "https://localhost:8080/"
        },
        "outputId": "d0f3fbf9-49d9-494c-97f5-57cffdfb8f80"
      },
      "source": [
        "train_losses, valid_losses, train_accs, validation_accs = training_loop(model, 10, train_loader, test_loader,\n",
        "                                          device, criterion, optimizer, \"InceptionNet_corr_80\")"
      ],
      "execution_count": 34,
      "outputs": [
        {
          "output_type": "stream",
          "text": [
            "Batch 0 Loss: 2.220757484436035\n",
            "Batch 200 Loss: 3.0906989574432373\n",
            "Batch 400 Loss: 2.487333059310913\n",
            "Batch 600 Loss: 2.508023738861084\n",
            "Batch 800 Loss: 2.3235533237457275\n",
            "Batch 1000 Loss: 2.2725746631622314\n",
            "Batch 1200 Loss: 2.333346366882324\n",
            "Batch 1400 Loss: 2.3196938037872314\n",
            "[Epoch 0] Train Loss: 2.434643977432251 Vaidation Loss: 2.295670069885254 Train Acc: 0.1245 Validation Acc: 0.1489\n",
            "Batch 0 Loss: 2.3724188804626465\n",
            "Batch 200 Loss: 2.224088430404663\n",
            "Batch 400 Loss: 2.303980588912964\n",
            "Batch 600 Loss: 2.2898106575012207\n",
            "Batch 800 Loss: 2.237786054611206\n",
            "Batch 1000 Loss: 2.4236204624176025\n",
            "Batch 1200 Loss: 2.3619236946105957\n",
            "Batch 1400 Loss: 2.238661289215088\n",
            "[Epoch 1] Train Loss: 2.288613004989624 Vaidation Loss: 2.2943020389556885 Train Acc: 0.15574 Validation Acc: 0.1464\n",
            "Batch 0 Loss: 2.2904465198516846\n",
            "Batch 200 Loss: 2.2765893936157227\n",
            "Batch 400 Loss: 2.2924020290374756\n",
            "Batch 600 Loss: 2.332824230194092\n",
            "Batch 800 Loss: 2.1654019355773926\n",
            "Batch 1000 Loss: 2.2135636806488037\n",
            "Batch 1200 Loss: 2.278428554534912\n",
            "Batch 1400 Loss: 2.3359463214874268\n",
            "[Epoch 2] Train Loss: 2.2640856056976317 Vaidation Loss: 2.2878491584777834 Train Acc: 0.17544 Validation Acc: 0.1611\n",
            "Batch 0 Loss: 2.302281379699707\n",
            "Batch 200 Loss: 2.2202987670898438\n",
            "Batch 400 Loss: 2.1781015396118164\n",
            "Batch 600 Loss: 2.2086760997772217\n",
            "Batch 800 Loss: 2.267691135406494\n",
            "Batch 1000 Loss: 2.212904691696167\n",
            "Batch 1200 Loss: 2.2397654056549072\n",
            "Batch 1400 Loss: 2.3711888790130615\n",
            "[Epoch 3] Train Loss: 2.2449730944824218 Vaidation Loss: 2.3078983425140382 Train Acc: 0.1896 Validation Acc: 0.158\n",
            "Batch 0 Loss: 2.182640790939331\n",
            "Batch 200 Loss: 2.0444042682647705\n",
            "Batch 400 Loss: 2.216614246368408\n",
            "Batch 600 Loss: 2.2437350749969482\n",
            "Batch 800 Loss: 2.0823702812194824\n",
            "Batch 1000 Loss: 2.3434536457061768\n",
            "Batch 1200 Loss: 2.2728042602539062\n",
            "Batch 1400 Loss: 2.249220848083496\n",
            "[Epoch 4] Train Loss: 2.224863361740112 Vaidation Loss: 2.30951477394104 Train Acc: 0.19828 Validation Acc: 0.1548\n",
            "Batch 0 Loss: 2.1534876823425293\n",
            "Batch 200 Loss: 2.272937774658203\n",
            "Batch 400 Loss: 2.2221193313598633\n",
            "Batch 600 Loss: 2.2543530464172363\n",
            "Batch 800 Loss: 2.2092084884643555\n",
            "Batch 1000 Loss: 2.268357276916504\n",
            "Batch 1200 Loss: 2.0245914459228516\n",
            "Batch 1400 Loss: 2.1623995304107666\n",
            "[Epoch 5] Train Loss: 2.199167678070068 Vaidation Loss: 2.323332790374756 Train Acc: 0.21162 Validation Acc: 0.1587\n",
            "Batch 0 Loss: 2.191032886505127\n",
            "Batch 200 Loss: 2.1555235385894775\n",
            "Batch 400 Loss: 2.028639316558838\n",
            "Batch 600 Loss: 2.374950408935547\n",
            "Batch 800 Loss: 2.231579303741455\n",
            "Batch 1000 Loss: 2.4242465496063232\n",
            "Batch 1200 Loss: 2.243189811706543\n",
            "Batch 1400 Loss: 2.317483901977539\n",
            "[Epoch 6] Train Loss: 2.167080880393982 Vaidation Loss: 2.374342541885376 Train Acc: 0.2261 Validation Acc: 0.1542\n",
            "Batch 0 Loss: 2.122311592102051\n",
            "Batch 200 Loss: 2.2095212936401367\n",
            "Batch 400 Loss: 2.0680246353149414\n",
            "Batch 600 Loss: 2.215207099914551\n",
            "Batch 800 Loss: 2.18034291267395\n",
            "Batch 1000 Loss: 1.951517105102539\n",
            "Batch 1200 Loss: 2.1314311027526855\n",
            "Batch 1400 Loss: 2.1023941040039062\n",
            "[Epoch 7] Train Loss: 2.1264557261657715 Vaidation Loss: 2.3674041114807127 Train Acc: 0.24454 Validation Acc: 0.1501\n",
            "Batch 0 Loss: 1.9534622430801392\n",
            "Batch 200 Loss: 2.1198890209198\n",
            "Batch 400 Loss: 2.109447717666626\n",
            "Batch 600 Loss: 2.025930166244507\n",
            "Batch 800 Loss: 2.1264922618865967\n",
            "Batch 1000 Loss: 2.261279344558716\n",
            "Batch 1200 Loss: 2.2222511768341064\n",
            "Batch 1400 Loss: 2.2725071907043457\n",
            "[Epoch 8] Train Loss: 2.0828556465148926 Vaidation Loss: 2.417556799697876 Train Acc: 0.26482 Validation Acc: 0.1479\n",
            "Batch 0 Loss: 2.0145320892333984\n",
            "Batch 200 Loss: 1.81600821018219\n",
            "Batch 400 Loss: 1.948279857635498\n",
            "Batch 600 Loss: 2.2331488132476807\n",
            "Batch 800 Loss: 2.0445663928985596\n",
            "Batch 1000 Loss: 2.149367332458496\n",
            "Batch 1200 Loss: 1.8494137525558472\n",
            "Batch 1400 Loss: 2.145824670791626\n",
            "[Epoch 9] Train Loss: 2.025682618713379 Vaidation Loss: 2.501164086532593 Train Acc: 0.2885 Validation Acc: 0.1327\n",
            "Finished Training\n"
          ],
          "name": "stdout"
        }
      ]
    },
    {
      "cell_type": "code",
      "metadata": {
        "id": "b04FhI63Syle",
        "colab": {
          "base_uri": "https://localhost:8080/",
          "height": 404
        },
        "outputId": "d81d0f61-f9ad-43c2-c4ef-c7cd49baa886"
      },
      "source": [
        "plot_losses(train_losses, valid_losses, train_accs, validation_accs, \"InceptionNet 80% corruption\")"
      ],
      "execution_count": 35,
      "outputs": [
        {
          "output_type": "display_data",
          "data": {
            "image/png": "[encoded data removed]",
            "text/plain": [
              "<Figure size 1152x432 with 2 Axes>"
            ]
          },
          "metadata": {
            "tags": [],
            "needs_background": "light"
          }
        }
      ]
    },
    {
      "cell_type": "code",
      "metadata": {
        "id": "WPK9LERPSylf",
        "colab": {
          "base_uri": "https://localhost:8080/"
        },
        "outputId": "6820a8e0-31bb-4033-8863-efacb277c91d"
      },
      "source": [
        "model = InceptionNet()\n",
        "sd = torch.load(\"InceptionNet_corr_80.pth\")\n",
        "model.load_state_dict(sd)\n",
        "model = model.to(device)\n",
        "testy, pred = run_testing(test_loader, model, device)\n",
        "\n",
        "print(\"Accuracy:\", accuracy_score(testy, pred))\n",
        "print(\"Confusion Matrix:\\n\", confusion_matrix(testy, pred))\n"
      ],
      "execution_count": 36,
      "outputs": [
        {
          "output_type": "stream",
          "text": [
            "Accuracy: 0.1611\n",
            "Confusion Matrix:\n",
            " [[ 57 170 214  37   4  48 165 206  71  39]\n",
            " [ 23 292 141  28   2  46 184 204  54  55]\n",
            " [ 22 128 236  46   3  58 201 208  47  38]\n",
            " [ 21 162 182  45   5  73 224 211  40  57]\n",
            " [ 18 122 231  35  14  57 207 186  44  40]\n",
            " [ 25 141 193  54   7  96 192 181  47  45]\n",
            " [ 17 122 168  31   9  43 341 166  67  51]\n",
            " [ 22 143 165  25   6  66 170 293  57  51]\n",
            " [ 25 173 179  30   1  42 194 171 119  53]\n",
            " [ 27 219 149  37   4  47 177 186  54 118]]\n"
          ],
          "name": "stdout"
        }
      ]
    },
    {
      "cell_type": "code",
      "metadata": {
        "id": "yLTZuwdYSylf"
      },
      "source": [
        "final_dict[80] = {}\n",
        "final_dict[80][\"train_losses\"] = train_losses\n",
        "final_dict[80][\"valid_losses\"] = valid_losses\n",
        "final_dict[80][\"train_accs\"] = train_accs\n",
        "final_dict[80][\"validation_accs\"] = validation_accs\n",
        "final_dict[80][\"best_test_acc\"]  = accuracy_score(testy, pred)\n"
      ],
      "execution_count": 37,
      "outputs": []
    },
    {
      "cell_type": "code",
      "metadata": {
        "id": "N2mkbHx-Syxh",
        "colab": {
          "base_uri": "https://localhost:8080/"
        },
        "outputId": "60e8bf37-150a-4f7a-e3bc-8e5a5690a99a"
      },
      "source": [
        "train_loader, test_loader = get_cifar_dataloaders_corrupted(1.0)\n",
        "criterion = nn.CrossEntropyLoss()\n",
        "\n",
        "device = torch.device(\"cuda:0\" if torch.cuda.is_available() else \"cpu\")\n",
        "print(device)\n"
      ],
      "execution_count": 38,
      "outputs": [
        {
          "output_type": "stream",
          "text": [
            "Files already downloaded and verified\n",
            "Files already downloaded and verified\n",
            "cuda:0\n"
          ],
          "name": "stdout"
        }
      ]
    },
    {
      "cell_type": "code",
      "metadata": {
        "id": "HA1vdY6mSyxi"
      },
      "source": [
        "model = InceptionNet()\n",
        "model = model.to(device)\n",
        "optimizer = optim.SGD(model.parameters(), lr=1e-3, momentum=0.9)\n"
      ],
      "execution_count": 39,
      "outputs": []
    },
    {
      "cell_type": "code",
      "metadata": {
        "id": "fCkNPItWSyxi",
        "colab": {
          "base_uri": "https://localhost:8080/"
        },
        "outputId": "4f1e0f84-0c0c-46de-dde5-a7002064feac"
      },
      "source": [
        "train_losses, valid_losses, train_accs, validation_accs = training_loop(model, 10, train_loader, test_loader,\n",
        "                                          device, criterion, optimizer, \"InceptionNet_corr_100\")"
      ],
      "execution_count": 40,
      "outputs": [
        {
          "output_type": "stream",
          "text": [
            "Batch 0 Loss: 2.2835397720336914\n",
            "Batch 200 Loss: 2.745244026184082\n",
            "Batch 400 Loss: 2.642238140106201\n",
            "Batch 600 Loss: 2.3055098056793213\n",
            "Batch 800 Loss: 2.3714346885681152\n",
            "Batch 1000 Loss: 2.371880292892456\n",
            "Batch 1200 Loss: 2.3487892150878906\n",
            "Batch 1400 Loss: 2.32818341255188\n",
            "[Epoch 0] Train Loss: 2.4093898625183106 Vaidation Loss: 2.3538221725463866 Train Acc: 0.10094 Validation Acc: 0.1026\n",
            "Batch 0 Loss: 2.3010332584381104\n",
            "Batch 200 Loss: 2.2876574993133545\n",
            "Batch 400 Loss: 2.2809300422668457\n",
            "Batch 600 Loss: 2.2345428466796875\n",
            "Batch 800 Loss: 2.2927606105804443\n",
            "Batch 1000 Loss: 2.4008984565734863\n",
            "Batch 1200 Loss: 2.345268487930298\n",
            "Batch 1400 Loss: 2.30667781829834\n",
            "[Epoch 1] Train Loss: 2.316379468307495 Vaidation Loss: 2.3133903553009034 Train Acc: 0.10438 Validation Acc: 0.1015\n",
            "Batch 0 Loss: 2.2651798725128174\n",
            "Batch 200 Loss: 2.3130764961242676\n",
            "Batch 400 Loss: 2.3018980026245117\n",
            "Batch 600 Loss: 2.3049654960632324\n",
            "Batch 800 Loss: 2.3605048656463623\n",
            "Batch 1000 Loss: 2.240093231201172\n",
            "Batch 1200 Loss: 2.2743422985076904\n",
            "Batch 1400 Loss: 2.31899356842041\n",
            "[Epoch 2] Train Loss: 2.306081221923828 Vaidation Loss: 2.325382933807373 Train Acc: 0.11446 Validation Acc: 0.1007\n",
            "Batch 0 Loss: 2.3527767658233643\n",
            "Batch 200 Loss: 2.352369785308838\n",
            "Batch 400 Loss: 2.259827136993408\n",
            "Batch 600 Loss: 2.3122994899749756\n",
            "Batch 800 Loss: 2.244312286376953\n",
            "Batch 1000 Loss: 2.258589267730713\n",
            "Batch 1200 Loss: 2.3413193225860596\n",
            "Batch 1400 Loss: 2.2931344509124756\n",
            "[Epoch 3] Train Loss: 2.3000473714447023 Vaidation Loss: 2.318277694320679 Train Acc: 0.11654 Validation Acc: 0.1026\n",
            "Batch 0 Loss: 2.3094611167907715\n",
            "Batch 200 Loss: 2.2760653495788574\n",
            "Batch 400 Loss: 2.225630760192871\n",
            "Batch 600 Loss: 2.293630838394165\n",
            "Batch 800 Loss: 2.339482307434082\n",
            "Batch 1000 Loss: 2.355459213256836\n",
            "Batch 1200 Loss: 2.2780585289001465\n",
            "Batch 1400 Loss: 2.250983476638794\n",
            "[Epoch 4] Train Loss: 2.2928578930664063 Vaidation Loss: 2.330364406967163 Train Acc: 0.1256 Validation Acc: 0.1045\n",
            "Batch 0 Loss: 2.286679983139038\n",
            "Batch 200 Loss: 2.290194511413574\n",
            "Batch 400 Loss: 2.3499655723571777\n",
            "Batch 600 Loss: 2.223276376724243\n",
            "Batch 800 Loss: 2.326303005218506\n",
            "Batch 1000 Loss: 2.1882166862487793\n",
            "Batch 1200 Loss: 2.261094093322754\n",
            "Batch 1400 Loss: 2.2807180881500244\n",
            "[Epoch 5] Train Loss: 2.284861513977051 Vaidation Loss: 2.328844105529785 Train Acc: 0.1353 Validation Acc: 0.1\n",
            "Batch 0 Loss: 2.2385923862457275\n",
            "Batch 200 Loss: 2.2857093811035156\n",
            "Batch 400 Loss: 2.3293099403381348\n",
            "Batch 600 Loss: 2.257516384124756\n",
            "Batch 800 Loss: 2.304961681365967\n",
            "Batch 1000 Loss: 2.3518412113189697\n",
            "Batch 1200 Loss: 2.313969373703003\n",
            "Batch 1400 Loss: 2.306135892868042\n",
            "[Epoch 6] Train Loss: 2.277575372619629 Vaidation Loss: 2.3220087493896484 Train Acc: 0.1418 Validation Acc: 0.1034\n",
            "Batch 0 Loss: 2.2758684158325195\n",
            "Batch 200 Loss: 2.2151618003845215\n",
            "Batch 400 Loss: 2.2532408237457275\n",
            "Batch 600 Loss: 2.207610607147217\n",
            "Batch 800 Loss: 2.159665107727051\n",
            "Batch 1000 Loss: 2.2731873989105225\n",
            "Batch 1200 Loss: 2.267235279083252\n",
            "Batch 1400 Loss: 2.338521957397461\n",
            "[Epoch 7] Train Loss: 2.261996858520508 Vaidation Loss: 2.340558572769165 Train Acc: 0.15498 Validation Acc: 0.1034\n",
            "Batch 0 Loss: 2.1935787200927734\n",
            "Batch 200 Loss: 2.235595703125\n",
            "Batch 400 Loss: 2.292302370071411\n",
            "Batch 600 Loss: 2.246713638305664\n",
            "Batch 800 Loss: 2.345586061477661\n",
            "Batch 1000 Loss: 2.1864821910858154\n",
            "Batch 1200 Loss: 2.3601455688476562\n",
            "Batch 1400 Loss: 2.2664995193481445\n",
            "[Epoch 8] Train Loss: 2.2473159367370608 Vaidation Loss: 2.355015396499634 Train Acc: 0.16534 Validation Acc: 0.1008\n",
            "Batch 0 Loss: 2.104156970977783\n",
            "Batch 200 Loss: 2.3314645290374756\n",
            "Batch 400 Loss: 2.2148373126983643\n",
            "Batch 600 Loss: 2.196260452270508\n",
            "Batch 800 Loss: 2.164738655090332\n",
            "Batch 1000 Loss: 2.1815097332000732\n",
            "Batch 1200 Loss: 2.2403371334075928\n",
            "Batch 1400 Loss: 2.266263961791992\n",
            "[Epoch 9] Train Loss: 2.222315571975708 Vaidation Loss: 2.357988137435913 Train Acc: 0.18262 Validation Acc: 0.1012\n",
            "Finished Training\n"
          ],
          "name": "stdout"
        }
      ]
    },
    {
      "cell_type": "code",
      "metadata": {
        "id": "u0uJWei_Syxi",
        "colab": {
          "base_uri": "https://localhost:8080/",
          "height": 404
        },
        "outputId": "20a93b92-6d09-471d-f91c-35a0e94c9f7b"
      },
      "source": [
        "plot_losses(train_losses, valid_losses, train_accs, validation_accs, \"InceptionNet 100% corruption\")"
      ],
      "execution_count": 41,
      "outputs": [
        {
          "output_type": "display_data",
          "data": {
            "image/png": "[encoded data removed]",
            "text/plain": [
              "<Figure size 1152x432 with 2 Axes>"
            ]
          },
          "metadata": {
            "tags": [],
            "needs_background": "light"
          }
        }
      ]
    },
    {
      "cell_type": "code",
      "metadata": {
        "id": "gHn-sHHXSyxi",
        "colab": {
          "base_uri": "https://localhost:8080/"
        },
        "outputId": "154d737d-7e2d-44a6-b2cf-9b25b19691b8"
      },
      "source": [
        "model = InceptionNet()\n",
        "sd = torch.load(\"InceptionNet_corr_100.pth\")\n",
        "model.load_state_dict(sd)\n",
        "model = model.to(device)\n",
        "testy, pred = run_testing(test_loader, model, device)\n",
        "\n",
        "print(\"Accuracy:\", accuracy_score(testy, pred))\n",
        "print(\"Confusion Matrix:\\n\", confusion_matrix(testy, pred))\n"
      ],
      "execution_count": 42,
      "outputs": [
        {
          "output_type": "stream",
          "text": [
            "Accuracy: 0.1045\n",
            "Confusion Matrix:\n",
            " [[ 10 100   1  36   6 599   4 252   3   3]\n",
            " [  5 125   2  29   5 577   5 286   1   5]\n",
            " [  4  91   2  43   7 564   5 267   0   8]\n",
            " [  6 102   3  36  10 581   3 266   2   3]\n",
            " [  7  87   3  26   8 531   5 274   1   3]\n",
            " [  6 110   5  31   0 586   4 265   5   5]\n",
            " [  2 123   1  40   4 571   3 247   1   5]\n",
            " [  3  94   2  32   6 575   5 271   0   5]\n",
            " [  5  84   1  34   4 596   1 242   2   4]\n",
            " [  3  93   3  37   7 622   7 242   2   2]]\n"
          ],
          "name": "stdout"
        }
      ]
    },
    {
      "cell_type": "code",
      "metadata": {
        "id": "_jgKGC0WSyxj"
      },
      "source": [
        "final_dict[100] = {}\n",
        "final_dict[100][\"train_losses\"] = train_losses\n",
        "final_dict[100][\"valid_losses\"] = valid_losses\n",
        "final_dict[100][\"train_accs\"] = train_accs\n",
        "final_dict[100][\"validation_accs\"] = validation_accs\n",
        "final_dict[100][\"best_test_acc\"]  = accuracy_score(testy, pred)\n"
      ],
      "execution_count": 43,
      "outputs": []
    },
    {
      "cell_type": "code",
      "metadata": {
        "id": "up7SnPUnR1n2"
      },
      "source": [
        "with open('final.pickle', 'wb') as f:\n",
        "    pickle.dump(final_dict, f, protocol=pickle.HIGHEST_PROTOCOL)\n"
      ],
      "execution_count": 44,
      "outputs": []
    },
    {
      "cell_type": "code",
      "metadata": {
        "id": "meI1PIqQTKwW",
        "colab": {
          "base_uri": "https://localhost:8080/"
        },
        "outputId": "11bc4e2a-0b4a-4a4b-ecc7-f483d2713461"
      },
      "source": [
        "!curl bashupload.com -T final.pickle"
      ],
      "execution_count": 45,
      "outputs": [
        {
          "output_type": "stream",
          "text": [
            "  % Total    % Received % Xferd  Average Speed   Time    Time     Time  Current\n",
            "                                 Dload  Upload   Total   Spent    Left  Speed\n",
            "  0     0    0     0    0     0      0      0 --:--:-- --:--:-- --:--:--     0\n",
            "=========================\n",
            "\n",
            "Uploaded 1 file, 2 634 bytes\n",
            "\n",
            "wget http://bashupload.com/UkA_M/final.pickle\n",
            "\n",
            "=========================\n",
            "\n",
            "100  2766    0   132  100  2634    463   9242 --:--:-- --:--:-- --:--:--  9705\n"
          ],
          "name": "stdout"
        }
      ]
    },
    {
      "cell_type": "code",
      "metadata": {
        "colab": {
          "base_uri": "https://localhost:8080/"
        },
        "id": "j5p2-E7zdMNA",
        "outputId": "89b004b2-98cf-4a2e-e587-048956e2c886"
      },
      "source": [
        "!zip inception.zip *.*\n",
        "!curl bashupload.com -T inception.zip"
      ],
      "execution_count": 46,
      "outputs": [
        {
          "output_type": "stream",
          "text": [
            "  adding: final.pickle (deflated 18%)\n",
            "  adding: InceptionNet_corr_0.pth (deflated 8%)\n",
            "  adding: InceptionNet_corr_100.pth (deflated 8%)\n",
            "  adding: InceptionNet_corr_20.pth (deflated 8%)\n",
            "  adding: InceptionNet_corr_40.pth (deflated 8%)\n",
            "  adding: InceptionNet_corr_60.pth (deflated 8%)\n",
            "  adding: InceptionNet_corr_80.pth (deflated 8%)\n",
            "  % Total    % Received % Xferd  Average Speed   Time    Time     Time  Current\n",
            "                                 Dload  Upload   Total   Spent    Left  Speed\n",
            " 62 38.3M    0     0   62 23.8M      0  14.9M  0:00:02  0:00:01  0:00:01 14.9M\n",
            "=========================\n",
            "\n",
            "Uploaded 1 file, 40 242 041 bytes\n",
            "\n",
            "wget http://bashupload.com/8wuKp/inception.zip\n",
            "\n",
            "=========================\n",
            "\n",
            "100 38.3M    0   138  100 38.3M     46  12.8M  0:00:02  0:00:02 --:--:-- 12.8M\n"
          ],
          "name": "stdout"
        }
      ]
    },
    {
      "cell_type": "code",
      "metadata": {
        "id": "dmQJwS2WdO8a"
      },
      "source": [
        ""
      ],
      "execution_count": 46,
      "outputs": []
    }
  ]
}