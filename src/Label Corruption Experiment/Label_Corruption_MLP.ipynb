{
  "nbformat": 4,
  "nbformat_minor": 0,
  "metadata": {
    "colab": {
      "name": "Label Corruption",
      "provenance": [],
      "collapsed_sections": []
    },
    "kernelspec": {
      "name": "python3",
      "display_name": "Python 3"
    },
    "language_info": {
      "name": "python"
    },
    "accelerator": "GPU",
    "widgets": {
      "application/vnd.jupyter.widget-state+json": {
        "3771355ccd774028a44d2d46f6150d57": {
          "model_module": "@jupyter-widgets/controls",
          "model_name": "HBoxModel",
          "state": {
            "_view_name": "HBoxView",
            "_dom_classes": [],
            "_model_name": "HBoxModel",
            "_view_module": "@jupyter-widgets/controls",
            "_model_module_version": "1.5.0",
            "_view_count": null,
            "_view_module_version": "1.5.0",
            "box_style": "",
            "layout": "IPY_MODEL_7bb61ee44f474bc8986e5c7274bde835",
            "_model_module": "@jupyter-widgets/controls",
            "children": [
              "IPY_MODEL_aa93a75e05cf410f9b7aabaf00c32553",
              "IPY_MODEL_65f36cc9e74b4f13b1d03788fe97dcc0"
            ]
          }
        },
        "7bb61ee44f474bc8986e5c7274bde835": {
          "model_module": "@jupyter-widgets/base",
          "model_name": "LayoutModel",
          "state": {
            "_view_name": "LayoutView",
            "grid_template_rows": null,
            "right": null,
            "justify_content": null,
            "_view_module": "@jupyter-widgets/base",
            "overflow": null,
            "_model_module_version": "1.2.0",
            "_view_count": null,
            "flex_flow": null,
            "width": null,
            "min_width": null,
            "border": null,
            "align_items": null,
            "bottom": null,
            "_model_module": "@jupyter-widgets/base",
            "top": null,
            "grid_column": null,
            "overflow_y": null,
            "overflow_x": null,
            "grid_auto_flow": null,
            "grid_area": null,
            "grid_template_columns": null,
            "flex": null,
            "_model_name": "LayoutModel",
            "justify_items": null,
            "grid_row": null,
            "max_height": null,
            "align_content": null,
            "visibility": null,
            "align_self": null,
            "height": null,
            "min_height": null,
            "padding": null,
            "grid_auto_rows": null,
            "grid_gap": null,
            "max_width": null,
            "order": null,
            "_view_module_version": "1.2.0",
            "grid_template_areas": null,
            "object_position": null,
            "object_fit": null,
            "grid_auto_columns": null,
            "margin": null,
            "display": null,
            "left": null
          }
        },
        "aa93a75e05cf410f9b7aabaf00c32553": {
          "model_module": "@jupyter-widgets/controls",
          "model_name": "FloatProgressModel",
          "state": {
            "_view_name": "ProgressView",
            "style": "IPY_MODEL_5706a236e4ca45a4b88898d8b0247c09",
            "_dom_classes": [],
            "description": "",
            "_model_name": "FloatProgressModel",
            "bar_style": "success",
            "max": 170498071,
            "_view_module": "@jupyter-widgets/controls",
            "_model_module_version": "1.5.0",
            "value": 170498071,
            "_view_count": null,
            "_view_module_version": "1.5.0",
            "orientation": "horizontal",
            "min": 0,
            "description_tooltip": null,
            "_model_module": "@jupyter-widgets/controls",
            "layout": "IPY_MODEL_bb67644d6d444e6699d2de300a7c858b"
          }
        },
        "65f36cc9e74b4f13b1d03788fe97dcc0": {
          "model_module": "@jupyter-widgets/controls",
          "model_name": "HTMLModel",
          "state": {
            "_view_name": "HTMLView",
            "style": "IPY_MODEL_ea6c017aa9584819943dbc99e1025f10",
            "_dom_classes": [],
            "description": "",
            "_model_name": "HTMLModel",
            "placeholder": "​",
            "_view_module": "@jupyter-widgets/controls",
            "_model_module_version": "1.5.0",
            "value": " 170499072/? [04:07&lt;00:00, 689607.76it/s]",
            "_view_count": null,
            "_view_module_version": "1.5.0",
            "description_tooltip": null,
            "_model_module": "@jupyter-widgets/controls",
            "layout": "IPY_MODEL_14f1151be3224375819ebcab1323608f"
          }
        },
        "5706a236e4ca45a4b88898d8b0247c09": {
          "model_module": "@jupyter-widgets/controls",
          "model_name": "ProgressStyleModel",
          "state": {
            "_view_name": "StyleView",
            "_model_name": "ProgressStyleModel",
            "description_width": "initial",
            "_view_module": "@jupyter-widgets/base",
            "_model_module_version": "1.5.0",
            "_view_count": null,
            "_view_module_version": "1.2.0",
            "bar_color": null,
            "_model_module": "@jupyter-widgets/controls"
          }
        },
        "bb67644d6d444e6699d2de300a7c858b": {
          "model_module": "@jupyter-widgets/base",
          "model_name": "LayoutModel",
          "state": {
            "_view_name": "LayoutView",
            "grid_template_rows": null,
            "right": null,
            "justify_content": null,
            "_view_module": "@jupyter-widgets/base",
            "overflow": null,
            "_model_module_version": "1.2.0",
            "_view_count": null,
            "flex_flow": null,
            "width": null,
            "min_width": null,
            "border": null,
            "align_items": null,
            "bottom": null,
            "_model_module": "@jupyter-widgets/base",
            "top": null,
            "grid_column": null,
            "overflow_y": null,
            "overflow_x": null,
            "grid_auto_flow": null,
            "grid_area": null,
            "grid_template_columns": null,
            "flex": null,
            "_model_name": "LayoutModel",
            "justify_items": null,
            "grid_row": null,
            "max_height": null,
            "align_content": null,
            "visibility": null,
            "align_self": null,
            "height": null,
            "min_height": null,
            "padding": null,
            "grid_auto_rows": null,
            "grid_gap": null,
            "max_width": null,
            "order": null,
            "_view_module_version": "1.2.0",
            "grid_template_areas": null,
            "object_position": null,
            "object_fit": null,
            "grid_auto_columns": null,
            "margin": null,
            "display": null,
            "left": null
          }
        },
        "ea6c017aa9584819943dbc99e1025f10": {
          "model_module": "@jupyter-widgets/controls",
          "model_name": "DescriptionStyleModel",
          "state": {
            "_view_name": "StyleView",
            "_model_name": "DescriptionStyleModel",
            "description_width": "",
            "_view_module": "@jupyter-widgets/base",
            "_model_module_version": "1.5.0",
            "_view_count": null,
            "_view_module_version": "1.2.0",
            "_model_module": "@jupyter-widgets/controls"
          }
        },
        "14f1151be3224375819ebcab1323608f": {
          "model_module": "@jupyter-widgets/base",
          "model_name": "LayoutModel",
          "state": {
            "_view_name": "LayoutView",
            "grid_template_rows": null,
            "right": null,
            "justify_content": null,
            "_view_module": "@jupyter-widgets/base",
            "overflow": null,
            "_model_module_version": "1.2.0",
            "_view_count": null,
            "flex_flow": null,
            "width": null,
            "min_width": null,
            "border": null,
            "align_items": null,
            "bottom": null,
            "_model_module": "@jupyter-widgets/base",
            "top": null,
            "grid_column": null,
            "overflow_y": null,
            "overflow_x": null,
            "grid_auto_flow": null,
            "grid_area": null,
            "grid_template_columns": null,
            "flex": null,
            "_model_name": "LayoutModel",
            "justify_items": null,
            "grid_row": null,
            "max_height": null,
            "align_content": null,
            "visibility": null,
            "align_self": null,
            "height": null,
            "min_height": null,
            "padding": null,
            "grid_auto_rows": null,
            "grid_gap": null,
            "max_width": null,
            "order": null,
            "_view_module_version": "1.2.0",
            "grid_template_areas": null,
            "object_position": null,
            "object_fit": null,
            "grid_auto_columns": null,
            "margin": null,
            "display": null,
            "left": null
          }
        }
      }
    }
  },
  "cells": [
    {
      "cell_type": "code",
      "metadata": {
        "id": "kB7QA29UuuzU"
      },
      "source": [
        "import math\n",
        "import copy\n",
        "import numpy as np\n",
        "\n",
        "import torch\n",
        "import torch.nn as nn\n",
        "import torch.nn.functional as F\n",
        "\n",
        "import torch\n",
        "import torchvision\n",
        "import torchvision.transforms as transforms\n",
        "import matplotlib.pyplot as plt\n",
        "import numpy as np\n",
        "import torch.nn as nn\n",
        "import torch.nn.functional as F\n",
        "from torch.utils.data.sampler import SubsetRandomSampler\n",
        "from torchvision.datasets import CIFAR10\n",
        "from torch.utils.data import DataLoader\n",
        "import torch.optim as optim\n",
        "import matplotlib.pyplot as plt\n",
        "from sklearn.metrics import accuracy_score, confusion_matrix, classification_report, f1_score, precision_score, recall_score\n",
        "import pandas as pd\n",
        "import time\n",
        "\n",
        "import pickle"
      ],
      "execution_count": 1,
      "outputs": []
    },
    {
      "cell_type": "code",
      "metadata": {
        "id": "6MNMdY7LW7zi"
      },
      "source": [
        "class CIFAR10Corrupted(CIFAR10):\n",
        "    def __init__(self, corrupt_prob, num_classes=10, **kwargs):\n",
        "        super().__init__(**kwargs)\n",
        "        if corrupt_prob > 0:\n",
        "            self.n_classes = num_classes\n",
        "            self.corrupt_labels(corrupt_prob)\n",
        "\n",
        "    def corrupt_labels(self, corrupt_prob):\n",
        "        labels = np.array(self.targets)\n",
        "        np.random.seed(42)\n",
        "        mask = np.random.rand(len(labels)) <= corrupt_prob\n",
        "        rnd_labels = np.random.choice(self.n_classes, mask.sum())\n",
        "        labels[mask] = rnd_labels\n",
        "        labels = [int(x) for x in labels]\n",
        "        self.targets = labels"
      ],
      "execution_count": 2,
      "outputs": []
    },
    {
      "cell_type": "code",
      "metadata": {
        "id": "aKogcB3OW-xy"
      },
      "source": [
        "def get_cifar_dataloaders_corrupted(corrupt_prob=0, batch_size=32):\n",
        "    transform = transforms.Compose(\n",
        "        [transforms.ToTensor(),\n",
        "        transforms.Normalize((0.5, 0.5, 0.5), (0.5, 0.5, 0.5))])\n",
        "\n",
        "    trainset = CIFAR10Corrupted(root='./CIFAR', train=True, download=True, transform=transform, corrupt_prob=corrupt_prob)\n",
        "    train_loader = DataLoader(trainset, batch_size = batch_size, shuffle = True)\n",
        "    testset = CIFAR10Corrupted(root='./CIFAR', train=False, download=True, transform=transform, corrupt_prob=corrupt_prob)\n",
        "    test_loader = DataLoader(testset, batch_size=batch_size, shuffle=False)\n",
        "    return train_loader, test_loader\n",
        "\n"
      ],
      "execution_count": 3,
      "outputs": []
    },
    {
      "cell_type": "code",
      "metadata": {
        "id": "jKKVFe1KxJFN"
      },
      "source": [
        "class MLP_1_512(nn.Module):\n",
        "  def __init__(self):\n",
        "    super().__init__()\n",
        "    self.fc1 = nn.Linear(3*32*32,512)\n",
        "    self.fc2 = nn.Linear(512,10)\n",
        "  def forward(self, x):\n",
        "    x = x.view(-1,3*32*32)\n",
        "    x = self.fc1(x)\n",
        "    x = F.relu(x)\n",
        "    x = self.fc2(x)\n",
        "    return x\n"
      ],
      "execution_count": 4,
      "outputs": []
    },
    {
      "cell_type": "code",
      "metadata": {
        "id": "Hz1oQr_mxLcs"
      },
      "source": [
        "def run_train_single_epoch(train_loader, model, device, criterion, optimizer):\n",
        "    running_loss = 0.0\n",
        "    num_correct = 0\n",
        "    for batch_num, data in enumerate(train_loader):\n",
        "        inputs, labels = data\n",
        "        inputs = inputs.to(device)\n",
        "        labels = labels.to(device)\n",
        "        outputs = model(inputs)\n",
        "        loss = criterion(outputs, labels)\n",
        "        optimizer.zero_grad()\n",
        "        loss.backward()\n",
        "        optimizer.step()\n",
        "        running_loss += loss.item()*len(inputs)\n",
        "        if batch_num%200==0:\n",
        "            print(\"Batch {} Loss: {}\".format(batch_num, loss.item()))\n",
        "        preds = outputs.argmax(1)\n",
        "        num_correct += (preds==labels).sum().item()\n",
        "    epoch_loss = running_loss/len(train_loader.sampler)\n",
        "    epoch_acc = num_correct/len(train_loader.sampler)\n",
        "    return epoch_loss, epoch_acc\n",
        "\n",
        "def run_validation_single_epoch(valid_loader, model, device, criterion):\n",
        "    running_loss = 0.0\n",
        "    num_correct = 0\n",
        "    for batch_num, data in enumerate(valid_loader):\n",
        "        inputs, labels = data\n",
        "        inputs = inputs.to(device)\n",
        "        labels = labels.to(device)\n",
        "        outputs = model(inputs)\n",
        "        loss = criterion(outputs, labels)\n",
        "        running_loss += loss.item()*len(inputs)\n",
        "        preds = outputs.argmax(1)\n",
        "        num_correct += (preds==labels).sum().item()\n",
        "    epoch_loss = running_loss/len(valid_loader.sampler)\n",
        "    epoch_acc = num_correct/len(valid_loader.sampler)\n",
        "    return epoch_loss, epoch_acc\n",
        "\n",
        "def training_loop(model, num_epochs, train_loader, valid_loader, device, \\\n",
        "                  criterion, optimizer, model_name):\n",
        "    train_losses, valid_losses = [], []\n",
        "    train_accs, valid_accs = [], []\n",
        "    highest_acc = 1e-10\n",
        "    for epoch in range(num_epochs):\n",
        "        model.train()\n",
        "        train_loss, train_acc = run_train_single_epoch(train_loader, model, device, criterion, optimizer)\n",
        "        model.eval()\n",
        "        valid_loss, valid_acc = run_validation_single_epoch(valid_loader, model, device, criterion)\n",
        "        print(\"[Epoch {}] Train Loss: {} Vaidation Loss: {} Train Acc: {} Validation Acc: {}\".format(\\\n",
        "              epoch, train_loss, valid_loss, train_acc, valid_acc))\n",
        "        train_losses.append(train_loss)\n",
        "        valid_losses.append(valid_loss)\n",
        "        train_accs.append(train_acc)\n",
        "        valid_accs.append(valid_acc)\n",
        "        if valid_acc > highest_acc:\n",
        "            torch.save(model.state_dict(), \"{}.pth\".format(model_name))\n",
        "            highest_acc = valid_acc\n",
        "    print('Finished Training')\n",
        "    return train_losses, valid_losses, train_accs, valid_accs\n",
        "\n",
        "def run_testing(test_loader, model, device):\n",
        "    model.eval()\n",
        "    gt_all, preds_all = [], []\n",
        "    for batch_num, data in enumerate(test_loader):\n",
        "        inputs, labels = data\n",
        "        inputs = inputs.to(device)\n",
        "        labels = labels.to(device)\n",
        "        outputs = model(inputs)\n",
        "        preds = outputs.argmax(1)\n",
        "        gt_all.extend(labels.tolist())\n",
        "        preds_all.extend(preds.tolist())\n",
        "    return gt_all, preds_all\n",
        "    "
      ],
      "execution_count": 5,
      "outputs": []
    },
    {
      "cell_type": "code",
      "metadata": {
        "id": "_34xgQBr1Cjp"
      },
      "source": [
        "def plot_losses(training_loss_arr, validation_loss_arr, training_acc_arr, validation_acc_arr, \\\n",
        "                title):\n",
        "    num_epochs = len(training_loss_arr)\n",
        "    plt.figure(figsize=(16,6))\n",
        "    plt.subplot(1,2,1)\n",
        "    ax = plt.gca()\n",
        "    ax.plot(range(num_epochs), training_loss_arr, '-bo', label=\"Training Loss\")\n",
        "    ax.plot(range(num_epochs), validation_loss_arr, '-ro', label=\"Validation Loss\")\n",
        "    ax.legend()\n",
        "    ax.set_xlabel(\"Epochs\")\n",
        "    ax.set_ylabel(\"Loss\")\n",
        "    ax.set_title(title)\n",
        "    plt.subplot(1,2,2)\n",
        "    ax = plt.gca()\n",
        "    ax.plot(range(num_epochs), training_acc_arr, '-bo', label=\"Training Acc\")\n",
        "    ax.plot(range(num_epochs), validation_acc_arr, '-ro', label=\"Validation Acc\")\n",
        "    ax.legend()\n",
        "    ax.set_xlabel(\"Epochs\")\n",
        "    ax.set_ylabel(\"Accuracy\")\n",
        "    ax.set_title(title)    "
      ],
      "execution_count": 6,
      "outputs": []
    },
    {
      "cell_type": "code",
      "metadata": {
        "id": "8vPz9pPJSrup"
      },
      "source": [
        "final_dict = dict()"
      ],
      "execution_count": 7,
      "outputs": []
    },
    {
      "cell_type": "code",
      "metadata": {
        "colab": {
          "base_uri": "https://localhost:8080/",
          "height": 134,
          "referenced_widgets": [
            "3771355ccd774028a44d2d46f6150d57",
            "7bb61ee44f474bc8986e5c7274bde835",
            "aa93a75e05cf410f9b7aabaf00c32553",
            "65f36cc9e74b4f13b1d03788fe97dcc0",
            "5706a236e4ca45a4b88898d8b0247c09",
            "bb67644d6d444e6699d2de300a7c858b",
            "ea6c017aa9584819943dbc99e1025f10",
            "14f1151be3224375819ebcab1323608f"
          ]
        },
        "id": "5vvHX9oFKMPk",
        "outputId": "38e835a2-5d56-402c-a589-81acdb051666"
      },
      "source": [
        "train_loader, test_loader = get_cifar_dataloaders_corrupted(0)\n",
        "criterion = nn.CrossEntropyLoss()\n",
        "\n",
        "device = torch.device(\"cuda:0\" if torch.cuda.is_available() else \"cpu\")\n",
        "print(device)\n"
      ],
      "execution_count": 8,
      "outputs": [
        {
          "output_type": "stream",
          "text": [
            "Downloading https://www.cs.toronto.edu/~kriz/cifar-10-python.tar.gz to ./CIFAR/cifar-10-python.tar.gz\n"
          ],
          "name": "stdout"
        },
        {
          "output_type": "display_data",
          "data": {
            "application/vnd.jupyter.widget-view+json": {
              "model_id": "3771355ccd774028a44d2d46f6150d57",
              "version_minor": 0,
              "version_major": 2
            },
            "text/plain": [
              "HBox(children=(FloatProgress(value=0.0, max=170498071.0), HTML(value='')))"
            ]
          },
          "metadata": {
            "tags": []
          }
        },
        {
          "output_type": "stream",
          "text": [
            "\n",
            "Extracting ./CIFAR/cifar-10-python.tar.gz to ./CIFAR\n",
            "Files already downloaded and verified\n",
            "cuda:0\n"
          ],
          "name": "stdout"
        }
      ]
    },
    {
      "cell_type": "code",
      "metadata": {
        "id": "dkESDnTEK9kG"
      },
      "source": [
        "model = MLP_1_512()\n",
        "model = model.to(device)\n",
        "optimizer = optim.SGD(model.parameters(), lr=1e-3, momentum=0.9)\n"
      ],
      "execution_count": 9,
      "outputs": []
    },
    {
      "cell_type": "code",
      "metadata": {
        "colab": {
          "base_uri": "https://localhost:8080/"
        },
        "id": "MNgXXaQoLXES",
        "outputId": "7dc75c8a-3776-4c96-dbab-1427f8a09bba"
      },
      "source": [
        "train_losses, valid_losses, train_accs, validation_accs = training_loop(model, 20, train_loader, test_loader,\n",
        "                                          device, criterion, optimizer, \"MLP_1_512_corr_0\")"
      ],
      "execution_count": 10,
      "outputs": [
        {
          "output_type": "stream",
          "text": [
            "Batch 0 Loss: 2.310194969177246\n",
            "Batch 200 Loss: 2.0484631061553955\n",
            "Batch 400 Loss: 2.087343454360962\n",
            "Batch 600 Loss: 1.703412413597107\n",
            "Batch 800 Loss: 1.5354598760604858\n",
            "Batch 1000 Loss: 1.6426523923873901\n",
            "Batch 1200 Loss: 1.7381317615509033\n",
            "Batch 1400 Loss: 1.6048660278320312\n",
            "[Epoch 0] Train Loss: 1.776464482154846 Vaidation Loss: 1.61041169090271 Train Acc: 0.38034 Validation Acc: 0.4456\n",
            "Batch 0 Loss: 1.7467830181121826\n",
            "Batch 200 Loss: 1.6939445734024048\n",
            "Batch 400 Loss: 1.9093228578567505\n",
            "Batch 600 Loss: 1.3734657764434814\n",
            "Batch 800 Loss: 1.3230639696121216\n",
            "Batch 1000 Loss: 1.5853394269943237\n",
            "Batch 1200 Loss: 1.6964985132217407\n",
            "Batch 1400 Loss: 1.3661547899246216\n",
            "[Epoch 1] Train Loss: 1.5603747912597656 Vaidation Loss: 1.5260864196777344 Train Acc: 0.4571 Validation Acc: 0.4628\n",
            "Batch 0 Loss: 1.3542492389678955\n",
            "Batch 200 Loss: 1.3642700910568237\n",
            "Batch 400 Loss: 1.4998937845230103\n",
            "Batch 600 Loss: 1.3328484296798706\n",
            "Batch 800 Loss: 1.5440280437469482\n",
            "Batch 1000 Loss: 1.3901466131210327\n",
            "Batch 1200 Loss: 1.4760112762451172\n",
            "Batch 1400 Loss: 1.2946406602859497\n",
            "[Epoch 2] Train Loss: 1.4720476971054077 Vaidation Loss: 1.4716803863525392 Train Acc: 0.48882 Validation Acc: 0.4847\n",
            "Batch 0 Loss: 1.484070062637329\n",
            "Batch 200 Loss: 1.3017182350158691\n",
            "Batch 400 Loss: 1.3742172718048096\n",
            "Batch 600 Loss: 1.2501568794250488\n",
            "Batch 800 Loss: 1.2438043355941772\n",
            "Batch 1000 Loss: 1.6415977478027344\n",
            "Batch 1200 Loss: 1.00593900680542\n",
            "Batch 1400 Loss: 1.3643970489501953\n",
            "[Epoch 3] Train Loss: 1.4028699979019166 Vaidation Loss: 1.4268282150268554 Train Acc: 0.51652 Validation Acc: 0.5022\n",
            "Batch 0 Loss: 1.676065444946289\n",
            "Batch 200 Loss: 1.5675582885742188\n",
            "Batch 400 Loss: 1.3084628582000732\n",
            "Batch 600 Loss: 1.1853325366973877\n",
            "Batch 800 Loss: 1.1410435438156128\n",
            "Batch 1000 Loss: 1.1951606273651123\n",
            "Batch 1200 Loss: 1.2608588933944702\n",
            "Batch 1400 Loss: 1.0104707479476929\n",
            "[Epoch 4] Train Loss: 1.3451378789138795 Vaidation Loss: 1.400165387916565 Train Acc: 0.53632 Validation Acc: 0.5108\n",
            "Batch 0 Loss: 1.415978193283081\n",
            "Batch 200 Loss: 1.203087568283081\n",
            "Batch 400 Loss: 1.3959860801696777\n",
            "Batch 600 Loss: 1.2394351959228516\n",
            "Batch 800 Loss: 1.2950870990753174\n",
            "Batch 1000 Loss: 1.482797622680664\n",
            "Batch 1200 Loss: 1.2580442428588867\n",
            "Batch 1400 Loss: 1.138730525970459\n",
            "[Epoch 5] Train Loss: 1.2962743840026856 Vaidation Loss: 1.3649807802200318 Train Acc: 0.55338 Validation Acc: 0.522\n",
            "Batch 0 Loss: 1.3356326818466187\n",
            "Batch 200 Loss: 1.3320242166519165\n",
            "Batch 400 Loss: 1.2082393169403076\n",
            "Batch 600 Loss: 1.1471489667892456\n",
            "Batch 800 Loss: 1.562822937965393\n",
            "Batch 1000 Loss: 1.4738349914550781\n",
            "Batch 1200 Loss: 1.3786976337432861\n",
            "Batch 1400 Loss: 1.0771015882492065\n",
            "[Epoch 6] Train Loss: 1.2523476142120362 Vaidation Loss: 1.364669308280945 Train Acc: 0.5701 Validation Acc: 0.5221\n",
            "Batch 0 Loss: 1.2798165082931519\n",
            "Batch 200 Loss: 0.8745527863502502\n",
            "Batch 400 Loss: 1.4348385334014893\n",
            "Batch 600 Loss: 1.3711272478103638\n",
            "Batch 800 Loss: 1.3377467393875122\n",
            "Batch 1000 Loss: 0.9893538951873779\n",
            "Batch 1200 Loss: 1.1822928190231323\n",
            "Batch 1400 Loss: 1.1198419332504272\n",
            "[Epoch 7] Train Loss: 1.2104002397537232 Vaidation Loss: 1.3384772678375245 Train Acc: 0.58422 Validation Acc: 0.5264\n",
            "Batch 0 Loss: 1.237650752067566\n",
            "Batch 200 Loss: 1.1523712873458862\n",
            "Batch 400 Loss: 1.2087974548339844\n",
            "Batch 600 Loss: 1.170287013053894\n",
            "Batch 800 Loss: 1.2265692949295044\n",
            "Batch 1000 Loss: 0.9992470145225525\n",
            "Batch 1200 Loss: 1.1930842399597168\n",
            "Batch 1400 Loss: 1.4404442310333252\n",
            "[Epoch 8] Train Loss: 1.1732092367172242 Vaidation Loss: 1.327414744567871 Train Acc: 0.59926 Validation Acc: 0.5314\n",
            "Batch 0 Loss: 0.9624803066253662\n",
            "Batch 200 Loss: 1.2493053674697876\n",
            "Batch 400 Loss: 1.1502691507339478\n",
            "Batch 600 Loss: 1.3930222988128662\n",
            "Batch 800 Loss: 0.9213249087333679\n",
            "Batch 1000 Loss: 1.1750900745391846\n",
            "Batch 1200 Loss: 0.984902560710907\n",
            "Batch 1400 Loss: 0.9256110787391663\n",
            "[Epoch 9] Train Loss: 1.1356292987823486 Vaidation Loss: 1.335538147354126 Train Acc: 0.61254 Validation Acc: 0.5288\n",
            "Batch 0 Loss: 1.1309125423431396\n",
            "Batch 200 Loss: 1.317338228225708\n",
            "Batch 400 Loss: 1.0279264450073242\n",
            "Batch 600 Loss: 1.0651373863220215\n",
            "Batch 800 Loss: 1.260738492012024\n",
            "Batch 1000 Loss: 1.3468767404556274\n",
            "Batch 1200 Loss: 1.2073310613632202\n",
            "Batch 1400 Loss: 1.2213164567947388\n",
            "[Epoch 10] Train Loss: 1.101105381603241 Vaidation Loss: 1.3289670944213867 Train Acc: 0.62572 Validation Acc: 0.5319\n",
            "Batch 0 Loss: 1.0146822929382324\n",
            "Batch 200 Loss: 1.1033935546875\n",
            "Batch 400 Loss: 1.149144172668457\n",
            "Batch 600 Loss: 1.1199302673339844\n",
            "Batch 800 Loss: 1.1838746070861816\n",
            "Batch 1000 Loss: 1.1989703178405762\n",
            "Batch 1200 Loss: 0.9554300308227539\n",
            "Batch 1400 Loss: 1.0277924537658691\n",
            "[Epoch 11] Train Loss: 1.0692843294143677 Vaidation Loss: 1.3342925428390502 Train Acc: 0.63626 Validation Acc: 0.5344\n",
            "Batch 0 Loss: 1.319137454032898\n",
            "Batch 200 Loss: 0.9240783452987671\n",
            "Batch 400 Loss: 0.748824954032898\n",
            "Batch 600 Loss: 1.1852338314056396\n",
            "Batch 800 Loss: 0.9309372305870056\n",
            "Batch 1000 Loss: 1.1170159578323364\n",
            "Batch 1200 Loss: 0.7973774075508118\n",
            "Batch 1400 Loss: 1.0589543581008911\n",
            "[Epoch 12] Train Loss: 1.033810248889923 Vaidation Loss: 1.3274018396377563 Train Acc: 0.64938 Validation Acc: 0.5384\n",
            "Batch 0 Loss: 0.9400535225868225\n",
            "Batch 200 Loss: 0.8885539770126343\n",
            "Batch 400 Loss: 0.8380885720252991\n",
            "Batch 600 Loss: 0.9871835708618164\n",
            "Batch 800 Loss: 0.9919201135635376\n",
            "Batch 1000 Loss: 1.170242190361023\n",
            "Batch 1200 Loss: 0.7589203119277954\n",
            "Batch 1400 Loss: 0.8688007593154907\n",
            "[Epoch 13] Train Loss: 1.0022210310745239 Vaidation Loss: 1.334308487701416 Train Acc: 0.66036 Validation Acc: 0.5388\n",
            "Batch 0 Loss: 0.9448702931404114\n",
            "Batch 200 Loss: 0.7509191036224365\n",
            "Batch 400 Loss: 0.9379745125770569\n",
            "Batch 600 Loss: 0.7491323947906494\n",
            "Batch 800 Loss: 1.0406866073608398\n",
            "Batch 1000 Loss: 0.7056300640106201\n",
            "Batch 1200 Loss: 0.6697016954421997\n",
            "Batch 1400 Loss: 1.0595946311950684\n",
            "[Epoch 14] Train Loss: 0.9722097918319702 Vaidation Loss: 1.3163026357650758 Train Acc: 0.67242 Validation Acc: 0.5461\n",
            "Batch 0 Loss: 0.7872225046157837\n",
            "Batch 200 Loss: 1.0731518268585205\n",
            "Batch 400 Loss: 0.9229551553726196\n",
            "Batch 600 Loss: 0.9362742900848389\n",
            "Batch 800 Loss: 0.8305500745773315\n",
            "Batch 1000 Loss: 0.6406970024108887\n",
            "Batch 1200 Loss: 0.8300251960754395\n",
            "Batch 1400 Loss: 1.1919116973876953\n",
            "[Epoch 15] Train Loss: 0.9405123454856873 Vaidation Loss: 1.328870666885376 Train Acc: 0.68314 Validation Acc: 0.5401\n",
            "Batch 0 Loss: 0.8920420408248901\n",
            "Batch 200 Loss: 0.8436450958251953\n",
            "Batch 400 Loss: 0.9874582290649414\n",
            "Batch 600 Loss: 0.8232091069221497\n",
            "Batch 800 Loss: 1.0515865087509155\n",
            "Batch 1000 Loss: 0.6628747582435608\n",
            "Batch 1200 Loss: 0.6693629026412964\n",
            "Batch 1400 Loss: 0.8392792344093323\n",
            "[Epoch 16] Train Loss: 0.9108709397888184 Vaidation Loss: 1.326924638557434 Train Acc: 0.6948 Validation Acc: 0.5431\n",
            "Batch 0 Loss: 0.9622009992599487\n",
            "Batch 200 Loss: 0.9478678107261658\n",
            "Batch 400 Loss: 0.7539929151535034\n",
            "Batch 600 Loss: 0.8885396718978882\n",
            "Batch 800 Loss: 0.8619281649589539\n",
            "Batch 1000 Loss: 0.6825845241546631\n",
            "Batch 1200 Loss: 0.9048678874969482\n",
            "Batch 1400 Loss: 0.8559466004371643\n",
            "[Epoch 17] Train Loss: 0.8829167163658143 Vaidation Loss: 1.3592567274093628 Train Acc: 0.70348 Validation Acc: 0.5347\n",
            "Batch 0 Loss: 0.7268334031105042\n",
            "Batch 200 Loss: 0.9026338458061218\n",
            "Batch 400 Loss: 0.7048254609107971\n",
            "Batch 600 Loss: 0.9355140924453735\n",
            "Batch 800 Loss: 1.0079506635665894\n",
            "Batch 1000 Loss: 0.7631738185882568\n",
            "Batch 1200 Loss: 0.9784982800483704\n",
            "Batch 1400 Loss: 0.9881162643432617\n",
            "[Epoch 18] Train Loss: 0.8532715286064148 Vaidation Loss: 1.3458294445037842 Train Acc: 0.71544 Validation Acc: 0.5376\n",
            "Batch 0 Loss: 0.7484593987464905\n",
            "Batch 200 Loss: 0.6998567581176758\n",
            "Batch 400 Loss: 0.8996114134788513\n",
            "Batch 600 Loss: 1.0155094861984253\n",
            "Batch 800 Loss: 0.8066945672035217\n",
            "Batch 1000 Loss: 1.1096506118774414\n",
            "Batch 1200 Loss: 0.6838783621788025\n",
            "Batch 1400 Loss: 1.0056170225143433\n",
            "[Epoch 19] Train Loss: 0.824069269065857 Vaidation Loss: 1.3655854307174682 Train Acc: 0.72612 Validation Acc: 0.5405\n",
            "Finished Training\n"
          ],
          "name": "stdout"
        }
      ]
    },
    {
      "cell_type": "code",
      "metadata": {
        "id": "29yF-QC0LbX4",
        "colab": {
          "base_uri": "https://localhost:8080/",
          "height": 404
        },
        "outputId": "b7a32407-dc48-4f8e-8740-4873bb1c4bc0"
      },
      "source": [
        "plot_losses(train_losses, valid_losses, train_accs, validation_accs, \"MLP_1_512 0% corruption\")"
      ],
      "execution_count": 11,
      "outputs": [
        {
          "output_type": "display_data",
          "data": {
            "image/png": "[encoded data removed]",
            "text/plain": [
              "<Figure size 1152x432 with 2 Axes>"
            ]
          },
          "metadata": {
            "tags": [],
            "needs_background": "light"
          }
        }
      ]
    },
    {
      "cell_type": "code",
      "metadata": {
        "id": "C0FjxufKQSSS",
        "colab": {
          "base_uri": "https://localhost:8080/"
        },
        "outputId": "53fd0aa0-457b-4807-ef63-39168c8237b8"
      },
      "source": [
        "model = MLP_1_512()\n",
        "sd = torch.load(\"MLP_1_512_corr_0.pth\")\n",
        "model.load_state_dict(sd)\n",
        "model = model.to(device)\n",
        "testy, pred = run_testing(test_loader, model, device)\n",
        "\n",
        "print(\"Accuracy:\", accuracy_score(testy, pred))\n",
        "print(\"Confusion Matrix:\\n\", confusion_matrix(testy, pred))\n"
      ],
      "execution_count": 12,
      "outputs": [
        {
          "output_type": "stream",
          "text": [
            "Accuracy: 0.5461\n",
            "Confusion Matrix:\n",
            " [[626  35  38  21  47  14  23  27 102  67]\n",
            " [ 34 634  11  19  17  10  23  19  55 178]\n",
            " [ 83  16 349  67 204  95  89  55  15  27]\n",
            " [ 30  19  62 316  98 207 133  56  22  57]\n",
            " [ 37   7  73  44 569  54  97  77  21  21]\n",
            " [ 23   8  49 170 108 458  67  73  20  24]\n",
            " [  5  17  53  59 131  49 621  24  18  23]\n",
            " [ 33  13  29  48 117  76  17 603   9  55]\n",
            " [102  73  18  12  26  24   7  12 650  76]\n",
            " [ 32 145   7  21  18  31  25  40  46 635]]\n"
          ],
          "name": "stdout"
        }
      ]
    },
    {
      "cell_type": "code",
      "metadata": {
        "id": "uRXpocMQLf71"
      },
      "source": [
        "final_dict[0] = {}\n",
        "final_dict[0][\"train_losses\"] = train_losses\n",
        "final_dict[0][\"valid_losses\"] = valid_losses\n",
        "final_dict[0][\"train_accs\"] = train_accs\n",
        "final_dict[0][\"validation_accs\"] = validation_accs\n",
        "final_dict[0][\"best_test_acc\"] =  accuracy_score(testy, pred)\n"
      ],
      "execution_count": 14,
      "outputs": []
    },
    {
      "cell_type": "code",
      "metadata": {
        "id": "KtjjzocXSx5m",
        "colab": {
          "base_uri": "https://localhost:8080/"
        },
        "outputId": "28b2d411-63be-4895-fe4f-2eeb2aa4f18a"
      },
      "source": [
        "train_loader, test_loader = get_cifar_dataloaders_corrupted(0.2)\n",
        "criterion = nn.CrossEntropyLoss()\n",
        "\n",
        "device = torch.device(\"cuda:0\" if torch.cuda.is_available() else \"cpu\")\n",
        "print(device)\n"
      ],
      "execution_count": 15,
      "outputs": [
        {
          "output_type": "stream",
          "text": [
            "Files already downloaded and verified\n",
            "Files already downloaded and verified\n",
            "cuda:0\n"
          ],
          "name": "stdout"
        }
      ]
    },
    {
      "cell_type": "code",
      "metadata": {
        "id": "MNPVD-NvSx5p"
      },
      "source": [
        "model = MLP_1_512()\n",
        "model = model.to(device)\n",
        "optimizer = optim.SGD(model.parameters(), lr=1e-3, momentum=0.9)\n"
      ],
      "execution_count": 16,
      "outputs": []
    },
    {
      "cell_type": "code",
      "metadata": {
        "id": "N-ED8AuMSx5p",
        "colab": {
          "base_uri": "https://localhost:8080/"
        },
        "outputId": "d800869f-6784-4862-de19-efffac78f6ef"
      },
      "source": [
        "train_losses, valid_losses, train_accs, validation_accs = training_loop(model, 20, train_loader, test_loader,\n",
        "                                          device, criterion, optimizer, \"MLP_1_512_corr_20\")"
      ],
      "execution_count": 17,
      "outputs": [
        {
          "output_type": "stream",
          "text": [
            "Batch 0 Loss: 2.292755365371704\n",
            "Batch 200 Loss: 1.9706823825836182\n",
            "Batch 400 Loss: 2.1190450191497803\n",
            "Batch 600 Loss: 1.901107907295227\n",
            "Batch 800 Loss: 1.7039796113967896\n",
            "Batch 1000 Loss: 1.7483488321304321\n",
            "Batch 1200 Loss: 1.9195585250854492\n",
            "Batch 1400 Loss: 1.8967525959014893\n",
            "[Epoch 0] Train Loss: 1.988942851371765 Vaidation Loss: 1.9019615547180175 Train Acc: 0.31702 Validation Acc: 0.3633\n",
            "Batch 0 Loss: 1.9161806106567383\n",
            "Batch 200 Loss: 1.8414024114608765\n",
            "Batch 400 Loss: 1.894957184791565\n",
            "Batch 600 Loss: 1.9157861471176147\n",
            "Batch 800 Loss: 1.7567415237426758\n",
            "Batch 1000 Loss: 2.1162993907928467\n",
            "Batch 1200 Loss: 1.778393030166626\n",
            "Batch 1400 Loss: 2.1346137523651123\n",
            "[Epoch 1] Train Loss: 1.8636059172821045 Vaidation Loss: 1.8514732917785643 Train Acc: 0.37826 Validation Acc: 0.3824\n",
            "Batch 0 Loss: 1.9572852849960327\n",
            "Batch 200 Loss: 1.578989028930664\n",
            "Batch 400 Loss: 1.6081807613372803\n",
            "Batch 600 Loss: 1.766908884048462\n",
            "Batch 800 Loss: 1.5549860000610352\n",
            "Batch 1000 Loss: 1.8800963163375854\n",
            "Batch 1200 Loss: 1.785998821258545\n",
            "Batch 1400 Loss: 1.7581342458724976\n",
            "[Epoch 2] Train Loss: 1.810359581336975 Vaidation Loss: 1.822944602394104 Train Acc: 0.40414 Validation Acc: 0.4033\n",
            "Batch 0 Loss: 1.656165599822998\n",
            "Batch 200 Loss: 1.6584372520446777\n",
            "Batch 400 Loss: 1.5705567598342896\n",
            "Batch 600 Loss: 1.938999056816101\n",
            "Batch 800 Loss: 1.736763596534729\n",
            "Batch 1000 Loss: 1.99867582321167\n",
            "Batch 1200 Loss: 1.7576204538345337\n",
            "Batch 1400 Loss: 1.7461082935333252\n",
            "[Epoch 3] Train Loss: 1.767999588432312 Vaidation Loss: 1.805809125328064 Train Acc: 0.42194 Validation Acc: 0.4057\n",
            "Batch 0 Loss: 1.6791013479232788\n",
            "Batch 200 Loss: 1.9506891965866089\n",
            "Batch 400 Loss: 1.522347092628479\n",
            "Batch 600 Loss: 1.9615836143493652\n",
            "Batch 800 Loss: 1.8553359508514404\n",
            "Batch 1000 Loss: 1.5944033861160278\n",
            "Batch 1200 Loss: 1.6514252424240112\n",
            "Batch 1400 Loss: 1.8472347259521484\n",
            "[Epoch 4] Train Loss: 1.731496077041626 Vaidation Loss: 1.8023766958236693 Train Acc: 0.4389 Validation Acc: 0.4137\n",
            "Batch 0 Loss: 1.7351592779159546\n",
            "Batch 200 Loss: 2.150118827819824\n",
            "Batch 400 Loss: 1.7081387042999268\n",
            "Batch 600 Loss: 1.6445012092590332\n",
            "Batch 800 Loss: 1.7735191583633423\n",
            "Batch 1000 Loss: 1.3766369819641113\n",
            "Batch 1200 Loss: 1.8195494413375854\n",
            "Batch 1400 Loss: 1.7478160858154297\n",
            "[Epoch 5] Train Loss: 1.698296429824829 Vaidation Loss: 1.7982638414382934 Train Acc: 0.45344 Validation Acc: 0.412\n",
            "Batch 0 Loss: 1.6091305017471313\n",
            "Batch 200 Loss: 1.6258994340896606\n",
            "Batch 400 Loss: 1.8468120098114014\n",
            "Batch 600 Loss: 1.7206463813781738\n",
            "Batch 800 Loss: 1.5419340133666992\n",
            "Batch 1000 Loss: 1.483270525932312\n",
            "Batch 1200 Loss: 1.8316789865493774\n",
            "Batch 1400 Loss: 1.822833776473999\n",
            "[Epoch 6] Train Loss: 1.668858506164551 Vaidation Loss: 1.7833822425842285 Train Acc: 0.46476 Validation Acc: 0.4173\n",
            "Batch 0 Loss: 1.5414921045303345\n",
            "Batch 200 Loss: 1.7597681283950806\n",
            "Batch 400 Loss: 1.7866135835647583\n",
            "Batch 600 Loss: 1.4395666122436523\n",
            "Batch 800 Loss: 1.508087158203125\n",
            "Batch 1000 Loss: 1.5259424448013306\n",
            "Batch 1200 Loss: 1.5420799255371094\n",
            "Batch 1400 Loss: 1.475767970085144\n",
            "[Epoch 7] Train Loss: 1.6385216847229005 Vaidation Loss: 1.7883171241760254 Train Acc: 0.478 Validation Acc: 0.4207\n",
            "Batch 0 Loss: 1.672924518585205\n",
            "Batch 200 Loss: 1.7966315746307373\n",
            "Batch 400 Loss: 1.8472262620925903\n",
            "Batch 600 Loss: 1.5943679809570312\n",
            "Batch 800 Loss: 1.130852460861206\n",
            "Batch 1000 Loss: 1.8611482381820679\n",
            "Batch 1200 Loss: 1.340388298034668\n",
            "Batch 1400 Loss: 1.3880220651626587\n",
            "[Epoch 8] Train Loss: 1.6118632956695558 Vaidation Loss: 1.7787230693817138 Train Acc: 0.48788 Validation Acc: 0.4277\n",
            "Batch 0 Loss: 1.3529020547866821\n",
            "Batch 200 Loss: 1.326767921447754\n",
            "Batch 400 Loss: 1.6632143259048462\n",
            "Batch 600 Loss: 1.699150562286377\n",
            "Batch 800 Loss: 1.6202921867370605\n",
            "Batch 1000 Loss: 1.6361042261123657\n",
            "Batch 1200 Loss: 1.5628485679626465\n",
            "Batch 1400 Loss: 1.4450604915618896\n",
            "[Epoch 9] Train Loss: 1.5830746974563599 Vaidation Loss: 1.7822664291381836 Train Acc: 0.49856 Validation Acc: 0.422\n",
            "Batch 0 Loss: 1.5253194570541382\n",
            "Batch 200 Loss: 1.535978078842163\n",
            "Batch 400 Loss: 1.4224343299865723\n",
            "Batch 600 Loss: 1.2253285646438599\n",
            "Batch 800 Loss: 1.8482977151870728\n",
            "Batch 1000 Loss: 1.642453908920288\n",
            "Batch 1200 Loss: 1.6588929891586304\n",
            "Batch 1400 Loss: 1.794251561164856\n",
            "[Epoch 10] Train Loss: 1.554800899963379 Vaidation Loss: 1.7907429273605346 Train Acc: 0.50804 Validation Acc: 0.4259\n",
            "Batch 0 Loss: 1.2520831823349\n",
            "Batch 200 Loss: 1.0769742727279663\n",
            "Batch 400 Loss: 1.8072580099105835\n",
            "Batch 600 Loss: 1.5947343111038208\n",
            "Batch 800 Loss: 1.5112736225128174\n",
            "Batch 1000 Loss: 1.9952545166015625\n",
            "Batch 1200 Loss: 1.4646672010421753\n",
            "Batch 1400 Loss: 1.7138270139694214\n",
            "[Epoch 11] Train Loss: 1.5281776890182495 Vaidation Loss: 1.800703486442566 Train Acc: 0.5183 Validation Acc: 0.4251\n",
            "Batch 0 Loss: 1.4449094533920288\n",
            "Batch 200 Loss: 1.324986457824707\n",
            "Batch 400 Loss: 1.562756896018982\n",
            "Batch 600 Loss: 1.6109906435012817\n",
            "Batch 800 Loss: 1.3751407861709595\n",
            "Batch 1000 Loss: 1.1351053714752197\n",
            "Batch 1200 Loss: 1.1162526607513428\n",
            "Batch 1400 Loss: 1.6592614650726318\n",
            "[Epoch 12] Train Loss: 1.5007533010864258 Vaidation Loss: 1.7965261981964111 Train Acc: 0.5264 Validation Acc: 0.4269\n",
            "Batch 0 Loss: 1.3444823026657104\n",
            "Batch 200 Loss: 1.3491477966308594\n",
            "Batch 400 Loss: 1.218185544013977\n",
            "Batch 600 Loss: 1.4722846746444702\n",
            "Batch 800 Loss: 1.6022676229476929\n",
            "Batch 1000 Loss: 1.3272346258163452\n",
            "Batch 1200 Loss: 1.495269536972046\n",
            "Batch 1400 Loss: 1.5071096420288086\n",
            "[Epoch 13] Train Loss: 1.4748213112831117 Vaidation Loss: 1.8289959289550781 Train Acc: 0.53534 Validation Acc: 0.4185\n",
            "Batch 0 Loss: 1.8106807470321655\n",
            "Batch 200 Loss: 1.3253906965255737\n",
            "Batch 400 Loss: 1.3888057470321655\n",
            "Batch 600 Loss: 1.1772340536117554\n",
            "Batch 800 Loss: 1.3608664274215698\n",
            "Batch 1000 Loss: 1.1939398050308228\n",
            "Batch 1200 Loss: 1.525573968887329\n",
            "Batch 1400 Loss: 1.5144184827804565\n",
            "[Epoch 14] Train Loss: 1.4467584175872803 Vaidation Loss: 1.8086016134262084 Train Acc: 0.54378 Validation Acc: 0.4274\n",
            "Batch 0 Loss: 1.505905032157898\n",
            "Batch 200 Loss: 1.2996227741241455\n",
            "Batch 400 Loss: 1.3607407808303833\n",
            "Batch 600 Loss: 1.426232099533081\n",
            "Batch 800 Loss: 1.6557891368865967\n",
            "Batch 1000 Loss: 1.7759723663330078\n",
            "Batch 1200 Loss: 1.1712844371795654\n",
            "Batch 1400 Loss: 1.2681286334991455\n",
            "[Epoch 15] Train Loss: 1.418276723098755 Vaidation Loss: 1.8116630878448485 Train Acc: 0.55434 Validation Acc: 0.4227\n",
            "Batch 0 Loss: 1.1387908458709717\n",
            "Batch 200 Loss: 0.8028945922851562\n",
            "Batch 400 Loss: 1.6576768159866333\n",
            "Batch 600 Loss: 1.247388243675232\n",
            "Batch 800 Loss: 1.134047031402588\n",
            "Batch 1000 Loss: 1.4430168867111206\n",
            "Batch 1200 Loss: 1.4417104721069336\n",
            "Batch 1400 Loss: 1.286552906036377\n",
            "[Epoch 16] Train Loss: 1.3898314352798462 Vaidation Loss: 1.8300342235565186 Train Acc: 0.56186 Validation Acc: 0.4208\n",
            "Batch 0 Loss: 1.3404791355133057\n",
            "Batch 200 Loss: 1.4690537452697754\n",
            "Batch 400 Loss: 1.4075967073440552\n",
            "Batch 600 Loss: 1.3155723810195923\n",
            "Batch 800 Loss: 1.2954577207565308\n",
            "Batch 1000 Loss: 1.1334277391433716\n",
            "Batch 1200 Loss: 1.6285247802734375\n",
            "Batch 1400 Loss: 1.109940528869629\n",
            "[Epoch 17] Train Loss: 1.3654654852294923 Vaidation Loss: 1.8463977727890015 Train Acc: 0.57308 Validation Acc: 0.421\n",
            "Batch 0 Loss: 1.3735123872756958\n",
            "Batch 200 Loss: 1.3257100582122803\n",
            "Batch 400 Loss: 1.170351505279541\n",
            "Batch 600 Loss: 1.4202874898910522\n",
            "Batch 800 Loss: 1.6061967611312866\n",
            "Batch 1000 Loss: 1.3142471313476562\n",
            "Batch 1200 Loss: 0.9160106182098389\n",
            "Batch 1400 Loss: 1.1941137313842773\n",
            "[Epoch 18] Train Loss: 1.333823002243042 Vaidation Loss: 1.8756851039886475 Train Acc: 0.58216 Validation Acc: 0.412\n",
            "Batch 0 Loss: 1.1716203689575195\n",
            "Batch 200 Loss: 1.3371977806091309\n",
            "Batch 400 Loss: 1.1629905700683594\n",
            "Batch 600 Loss: 1.061376690864563\n",
            "Batch 800 Loss: 1.3745537996292114\n",
            "Batch 1000 Loss: 1.2737880945205688\n",
            "Batch 1200 Loss: 1.1906143426895142\n",
            "Batch 1400 Loss: 1.4133566617965698\n",
            "[Epoch 19] Train Loss: 1.305697509689331 Vaidation Loss: 1.8691939111709595 Train Acc: 0.59186 Validation Acc: 0.4163\n",
            "Finished Training\n"
          ],
          "name": "stdout"
        }
      ]
    },
    {
      "cell_type": "code",
      "metadata": {
        "id": "c4R55wlPSx5q",
        "colab": {
          "base_uri": "https://localhost:8080/",
          "height": 404
        },
        "outputId": "a4010608-eb4c-45ba-b044-fd0bf7cb7bc4"
      },
      "source": [
        "plot_losses(train_losses, valid_losses, train_accs, validation_accs, \"MLP_1_512 20% corruption\")"
      ],
      "execution_count": 18,
      "outputs": [
        {
          "output_type": "display_data",
          "data": {
            "image/png": "[encoded data removed]",
            "text/plain": [
              "<Figure size 1152x432 with 2 Axes>"
            ]
          },
          "metadata": {
            "tags": [],
            "needs_background": "light"
          }
        }
      ]
    },
    {
      "cell_type": "code",
      "metadata": {
        "id": "5UNY-Z1FSx5q",
        "colab": {
          "base_uri": "https://localhost:8080/"
        },
        "outputId": "c965cc57-b062-44ba-e0cd-1dee079d0074"
      },
      "source": [
        "model = MLP_1_512()\n",
        "sd = torch.load(\"MLP_1_512_corr_20.pth\")\n",
        "model.load_state_dict(sd)\n",
        "model = model.to(device)\n",
        "testy, pred = run_testing(test_loader, model, device)\n",
        "\n",
        "print(\"Accuracy:\", accuracy_score(testy, pred))\n",
        "print(\"Confusion Matrix:\\n\", confusion_matrix(testy, pred))\n"
      ],
      "execution_count": 19,
      "outputs": [
        {
          "output_type": "stream",
          "text": [
            "Accuracy: 0.4277\n",
            "Confusion Matrix:\n",
            " [[479  67  59  25  45  31  53  55 123  59]\n",
            " [ 53 572  28  26  25  42  40  42  69 103]\n",
            " [ 74  79 251  77 152  94 124  64  38  36]\n",
            " [ 51  82  53 259  86 183 132  77  51  59]\n",
            " [ 63  56  59  42 403  60 138  81  44  40]\n",
            " [ 38  53  66 146  89 344  95  86  29  44]\n",
            " [ 30  55  39  60 127  60 538  42  35  32]\n",
            " [ 52  62  37  60  94  66  46 465  37  52]\n",
            " [124 102  34  32  36  39  26  28 519  57]\n",
            " [ 59 233  17  47  34  37  44  48  54 447]]\n"
          ],
          "name": "stdout"
        }
      ]
    },
    {
      "cell_type": "code",
      "metadata": {
        "id": "Xb5ufKRfSx5r"
      },
      "source": [
        "final_dict[20] = {}\n",
        "final_dict[20][\"train_losses\"] = train_losses\n",
        "final_dict[20][\"valid_losses\"] = valid_losses\n",
        "final_dict[20][\"train_accs\"] = train_accs\n",
        "final_dict[20][\"validation_accs\"] = validation_accs\n",
        "final_dict[20][\"best_test_acc\"] =  accuracy_score(testy, pred)\n"
      ],
      "execution_count": 20,
      "outputs": []
    },
    {
      "cell_type": "code",
      "metadata": {
        "id": "NkUA4jRGSyIU",
        "colab": {
          "base_uri": "https://localhost:8080/"
        },
        "outputId": "87537f02-089a-4712-db14-12d40f5273e8"
      },
      "source": [
        "train_loader, test_loader = get_cifar_dataloaders_corrupted(0.4)\n",
        "criterion = nn.CrossEntropyLoss()\n",
        "\n",
        "device = torch.device(\"cuda:0\" if torch.cuda.is_available() else \"cpu\")\n",
        "print(device)\n"
      ],
      "execution_count": 21,
      "outputs": [
        {
          "output_type": "stream",
          "text": [
            "Files already downloaded and verified\n",
            "Files already downloaded and verified\n",
            "cuda:0\n"
          ],
          "name": "stdout"
        }
      ]
    },
    {
      "cell_type": "code",
      "metadata": {
        "id": "90921FKmSyIV"
      },
      "source": [
        "model = MLP_1_512()\n",
        "model = model.to(device)\n",
        "optimizer = optim.SGD(model.parameters(), lr=1e-3, momentum=0.9)\n"
      ],
      "execution_count": 22,
      "outputs": []
    },
    {
      "cell_type": "code",
      "metadata": {
        "id": "jVgrL0Y4SyIV",
        "colab": {
          "base_uri": "https://localhost:8080/"
        },
        "outputId": "e4358f93-c96e-4c0a-ad66-4a9543e49c25"
      },
      "source": [
        "train_losses, valid_losses, train_accs, validation_accs = training_loop(model, 20, train_loader, test_loader,\n",
        "                                          device, criterion, optimizer, \"MLP_1_512_corr_40\")"
      ],
      "execution_count": 23,
      "outputs": [
        {
          "output_type": "stream",
          "text": [
            "Batch 0 Loss: 2.326328754425049\n",
            "Batch 200 Loss: 2.1651298999786377\n",
            "Batch 400 Loss: 2.1966960430145264\n",
            "Batch 600 Loss: 1.9558680057525635\n",
            "Batch 800 Loss: 1.9626394510269165\n",
            "Batch 1000 Loss: 1.9879438877105713\n",
            "Batch 1200 Loss: 1.9799163341522217\n",
            "Batch 1400 Loss: 2.0652823448181152\n",
            "[Epoch 0] Train Loss: 2.134919815597534 Vaidation Loss: 2.0872999038696287 Train Acc: 0.25378 Validation Acc: 0.2887\n",
            "Batch 0 Loss: 2.2963600158691406\n",
            "Batch 200 Loss: 2.2822072505950928\n",
            "Batch 400 Loss: 2.130051374435425\n",
            "Batch 600 Loss: 2.1219544410705566\n",
            "Batch 800 Loss: 1.991573691368103\n",
            "Batch 1000 Loss: 2.3516294956207275\n",
            "Batch 1200 Loss: 1.8675812482833862\n",
            "Batch 1400 Loss: 2.2021427154541016\n",
            "[Epoch 1] Train Loss: 2.061309487915039 Vaidation Loss: 2.0617430765151976 Train Acc: 0.30088 Validation Acc: 0.3033\n",
            "Batch 0 Loss: 2.173053741455078\n",
            "Batch 200 Loss: 2.188823699951172\n",
            "Batch 400 Loss: 2.0639801025390625\n",
            "Batch 600 Loss: 2.189192771911621\n",
            "Batch 800 Loss: 2.224106788635254\n",
            "Batch 1000 Loss: 2.1037275791168213\n",
            "Batch 1200 Loss: 2.0614538192749023\n",
            "Batch 1400 Loss: 1.872261643409729\n",
            "[Epoch 2] Train Loss: 2.027583575210571 Vaidation Loss: 2.0496815380096436 Train Acc: 0.32118 Validation Acc: 0.314\n",
            "Batch 0 Loss: 2.430295705795288\n",
            "Batch 200 Loss: 2.0125339031219482\n",
            "Batch 400 Loss: 1.9526281356811523\n",
            "Batch 600 Loss: 1.6759320497512817\n",
            "Batch 800 Loss: 2.0216803550720215\n",
            "Batch 1000 Loss: 1.8197541236877441\n",
            "Batch 1200 Loss: 2.1432950496673584\n",
            "Batch 1400 Loss: 2.0075876712799072\n",
            "[Epoch 3] Train Loss: 2.002179630661011 Vaidation Loss: 2.038061212539673 Train Acc: 0.33498 Validation Acc: 0.3221\n",
            "Batch 0 Loss: 1.9168294668197632\n",
            "Batch 200 Loss: 2.2434070110321045\n",
            "Batch 400 Loss: 1.8149528503417969\n",
            "Batch 600 Loss: 1.9551198482513428\n",
            "Batch 800 Loss: 2.0045764446258545\n",
            "Batch 1000 Loss: 1.9056181907653809\n",
            "Batch 1200 Loss: 2.0776219367980957\n",
            "Batch 1400 Loss: 1.7678707838058472\n",
            "[Epoch 4] Train Loss: 1.978129638824463 Vaidation Loss: 2.0345112651824953 Train Acc: 0.34582 Validation Acc: 0.3201\n",
            "Batch 0 Loss: 2.170444965362549\n",
            "Batch 200 Loss: 1.9107229709625244\n",
            "Batch 400 Loss: 1.9489262104034424\n",
            "Batch 600 Loss: 1.9390556812286377\n",
            "Batch 800 Loss: 1.8347316980361938\n",
            "Batch 1000 Loss: 1.95881986618042\n",
            "Batch 1200 Loss: 1.810128092765808\n",
            "Batch 1400 Loss: 1.7129368782043457\n",
            "[Epoch 5] Train Loss: 1.9558457384490966 Vaidation Loss: 2.034981317138672 Train Acc: 0.35714 Validation Acc: 0.3302\n",
            "Batch 0 Loss: 1.8241055011749268\n",
            "Batch 200 Loss: 2.1095387935638428\n",
            "Batch 400 Loss: 2.020275831222534\n",
            "Batch 600 Loss: 1.6852680444717407\n",
            "Batch 800 Loss: 1.8845679759979248\n",
            "Batch 1000 Loss: 1.905763030052185\n",
            "Batch 1200 Loss: 1.8969035148620605\n",
            "Batch 1400 Loss: 1.954932451248169\n",
            "[Epoch 6] Train Loss: 1.935419652404785 Vaidation Loss: 2.0337897981643676 Train Acc: 0.36554 Validation Acc: 0.3297\n",
            "Batch 0 Loss: 1.778425931930542\n",
            "Batch 200 Loss: 1.8024088144302368\n",
            "Batch 400 Loss: 1.9587329626083374\n",
            "Batch 600 Loss: 1.7647839784622192\n",
            "Batch 800 Loss: 1.7321137189865112\n",
            "Batch 1000 Loss: 2.127880811691284\n",
            "Batch 1200 Loss: 1.8734253644943237\n",
            "Batch 1400 Loss: 1.7448437213897705\n",
            "[Epoch 7] Train Loss: 1.913574969406128 Vaidation Loss: 2.0373095821380613 Train Acc: 0.37436 Validation Acc: 0.3337\n",
            "Batch 0 Loss: 2.0283350944519043\n",
            "Batch 200 Loss: 1.8749138116836548\n",
            "Batch 400 Loss: 1.7709264755249023\n",
            "Batch 600 Loss: 1.6408708095550537\n",
            "Batch 800 Loss: 1.7878600358963013\n",
            "Batch 1000 Loss: 2.012960195541382\n",
            "Batch 1200 Loss: 1.8164420127868652\n",
            "Batch 1400 Loss: 1.9267672300338745\n",
            "[Epoch 8] Train Loss: 1.8911449029541016 Vaidation Loss: 2.0492198892593385 Train Acc: 0.38496 Validation Acc: 0.3242\n",
            "Batch 0 Loss: 1.6887691020965576\n",
            "Batch 200 Loss: 1.890616774559021\n",
            "Batch 400 Loss: 1.8152718544006348\n",
            "Batch 600 Loss: 1.940468192100525\n",
            "Batch 800 Loss: 2.047226667404175\n",
            "Batch 1000 Loss: 1.6324925422668457\n",
            "Batch 1200 Loss: 1.9129537343978882\n",
            "Batch 1400 Loss: 2.120305299758911\n",
            "[Epoch 9] Train Loss: 1.8696771865844726 Vaidation Loss: 2.0447702892303465 Train Acc: 0.38932 Validation Acc: 0.3238\n",
            "Batch 0 Loss: 1.810117244720459\n",
            "Batch 200 Loss: 1.9246902465820312\n",
            "Batch 400 Loss: 1.721764087677002\n",
            "Batch 600 Loss: 1.842513084411621\n",
            "Batch 800 Loss: 1.8860688209533691\n",
            "Batch 1000 Loss: 1.9802213907241821\n",
            "Batch 1200 Loss: 1.9398010969161987\n",
            "Batch 1400 Loss: 2.129671096801758\n",
            "[Epoch 10] Train Loss: 1.8479815774917603 Vaidation Loss: 2.05597839012146 Train Acc: 0.39926 Validation Acc: 0.3178\n",
            "Batch 0 Loss: 1.6066077947616577\n",
            "Batch 200 Loss: 1.9885764122009277\n",
            "Batch 400 Loss: 2.032836675643921\n",
            "Batch 600 Loss: 2.022003173828125\n",
            "Batch 800 Loss: 1.7881637811660767\n",
            "Batch 1000 Loss: 1.8946914672851562\n",
            "Batch 1200 Loss: 1.8720734119415283\n",
            "Batch 1400 Loss: 1.9778709411621094\n",
            "[Epoch 11] Train Loss: 1.8263678606414795 Vaidation Loss: 2.0645480588912966 Train Acc: 0.40624 Validation Acc: 0.3192\n",
            "Batch 0 Loss: 1.6940038204193115\n",
            "Batch 200 Loss: 1.886691689491272\n",
            "Batch 400 Loss: 1.66925847530365\n",
            "Batch 600 Loss: 1.5006722211837769\n",
            "Batch 800 Loss: 2.089059829711914\n",
            "Batch 1000 Loss: 1.989771842956543\n",
            "Batch 1200 Loss: 1.9189374446868896\n",
            "Batch 1400 Loss: 1.6528295278549194\n",
            "[Epoch 12] Train Loss: 1.803317706680298 Vaidation Loss: 2.074107806777954 Train Acc: 0.41534 Validation Acc: 0.3218\n",
            "Batch 0 Loss: 1.7525793313980103\n",
            "Batch 200 Loss: 2.008991241455078\n",
            "Batch 400 Loss: 2.0801916122436523\n",
            "Batch 600 Loss: 1.9458210468292236\n",
            "Batch 800 Loss: 1.7960751056671143\n",
            "Batch 1000 Loss: 1.9409714937210083\n",
            "Batch 1200 Loss: 1.6617813110351562\n",
            "Batch 1400 Loss: 1.6380548477172852\n",
            "[Epoch 13] Train Loss: 1.7784827150344849 Vaidation Loss: 2.0950696472167967 Train Acc: 0.42326 Validation Acc: 0.3136\n",
            "Batch 0 Loss: 1.9277280569076538\n",
            "Batch 200 Loss: 1.969020962715149\n",
            "Batch 400 Loss: 1.7510451078414917\n",
            "Batch 600 Loss: 1.7562130689620972\n",
            "Batch 800 Loss: 1.7448184490203857\n",
            "Batch 1000 Loss: 1.729076862335205\n",
            "Batch 1200 Loss: 1.82075834274292\n",
            "Batch 1400 Loss: 1.5272085666656494\n",
            "[Epoch 14] Train Loss: 1.755387018508911 Vaidation Loss: 2.099765294456482 Train Acc: 0.432 Validation Acc: 0.3167\n",
            "Batch 0 Loss: 1.8999476432800293\n",
            "Batch 200 Loss: 1.478803038597107\n",
            "Batch 400 Loss: 2.0245234966278076\n",
            "Batch 600 Loss: 1.7866302728652954\n",
            "Batch 800 Loss: 1.6215015649795532\n",
            "Batch 1000 Loss: 1.8001232147216797\n",
            "Batch 1200 Loss: 1.5494776964187622\n",
            "Batch 1400 Loss: 1.6291242837905884\n",
            "[Epoch 15] Train Loss: 1.7297610942840576 Vaidation Loss: 2.11704815120697 Train Acc: 0.44008 Validation Acc: 0.3116\n",
            "Batch 0 Loss: 1.7223674058914185\n",
            "Batch 200 Loss: 1.6566263437271118\n",
            "Batch 400 Loss: 1.6435329914093018\n",
            "Batch 600 Loss: 1.6925286054611206\n",
            "Batch 800 Loss: 1.6517995595932007\n",
            "Batch 1000 Loss: 1.468714714050293\n",
            "Batch 1200 Loss: 2.2359163761138916\n",
            "Batch 1400 Loss: 1.69436776638031\n",
            "[Epoch 16] Train Loss: 1.7057853905487061 Vaidation Loss: 2.110958809661865 Train Acc: 0.44782 Validation Acc: 0.3218\n",
            "Batch 0 Loss: 1.5136690139770508\n",
            "Batch 200 Loss: 1.5303220748901367\n",
            "Batch 400 Loss: 1.4175119400024414\n",
            "Batch 600 Loss: 1.5504759550094604\n",
            "Batch 800 Loss: 1.6701669692993164\n",
            "Batch 1000 Loss: 1.607565999031067\n",
            "Batch 1200 Loss: 1.8715298175811768\n",
            "Batch 1400 Loss: 2.0505526065826416\n",
            "[Epoch 17] Train Loss: 1.6807493714523316 Vaidation Loss: 2.1302565704345704 Train Acc: 0.45714 Validation Acc: 0.3122\n",
            "Batch 0 Loss: 1.608059287071228\n",
            "Batch 200 Loss: 1.6172881126403809\n",
            "Batch 400 Loss: 1.461654782295227\n",
            "Batch 600 Loss: 1.6881909370422363\n",
            "Batch 800 Loss: 1.6809179782867432\n",
            "Batch 1000 Loss: 1.6998480558395386\n",
            "Batch 1200 Loss: 1.6576060056686401\n",
            "Batch 1400 Loss: 1.6031303405761719\n",
            "[Epoch 18] Train Loss: 1.651858669128418 Vaidation Loss: 2.1450257793426513 Train Acc: 0.46598 Validation Acc: 0.3086\n",
            "Batch 0 Loss: 1.5138500928878784\n",
            "Batch 200 Loss: 1.5456002950668335\n",
            "Batch 400 Loss: 1.5181963443756104\n",
            "Batch 600 Loss: 1.585597276687622\n",
            "Batch 800 Loss: 1.497120976448059\n",
            "Batch 1000 Loss: 1.4721875190734863\n",
            "Batch 1200 Loss: 1.1254898309707642\n",
            "Batch 1400 Loss: 1.6912423372268677\n",
            "[Epoch 19] Train Loss: 1.6257059923934936 Vaidation Loss: 2.1577860370635986 Train Acc: 0.47468 Validation Acc: 0.3103\n",
            "Finished Training\n"
          ],
          "name": "stdout"
        }
      ]
    },
    {
      "cell_type": "code",
      "metadata": {
        "id": "WMcjfa7oSyIV",
        "colab": {
          "base_uri": "https://localhost:8080/",
          "height": 404
        },
        "outputId": "713db86d-e03e-4d1c-f8cd-3d62c260bd97"
      },
      "source": [
        "plot_losses(train_losses, valid_losses, train_accs, validation_accs, \"MLP_1_512 40% corruption\")"
      ],
      "execution_count": 24,
      "outputs": [
        {
          "output_type": "display_data",
          "data": {
            "image/png": "[encoded data removed]",
            "text/plain": [
              "<Figure size 1152x432 with 2 Axes>"
            ]
          },
          "metadata": {
            "tags": [],
            "needs_background": "light"
          }
        }
      ]
    },
    {
      "cell_type": "code",
      "metadata": {
        "id": "xeBbd0B9SyIW",
        "colab": {
          "base_uri": "https://localhost:8080/"
        },
        "outputId": "ec40681f-0369-404e-89e2-f7cf72e8e719"
      },
      "source": [
        "model = MLP_1_512()\n",
        "sd = torch.load(\"MLP_1_512_corr_40.pth\")\n",
        "model.load_state_dict(sd)\n",
        "model = model.to(device)\n",
        "testy, pred = run_testing(test_loader, model, device)\n",
        "\n",
        "print(\"Accuracy:\", accuracy_score(testy, pred))\n",
        "print(\"Confusion Matrix:\\n\", confusion_matrix(testy, pred))\n"
      ],
      "execution_count": 25,
      "outputs": [
        {
          "output_type": "stream",
          "text": [
            "Accuracy: 0.3337\n",
            "Confusion Matrix:\n",
            " [[357  93  53  68  39  50  87  79 145  49]\n",
            " [ 55 447  29  50  34  62  80  56 110  86]\n",
            " [ 94  64 180  98  96 111 153 100  65  33]\n",
            " [ 70  92  43 239  59 177 140  94  71  48]\n",
            " [ 77  68  73  80 228  71 174 116  67  37]\n",
            " [ 66  60  48 116  61 304 119 107  61  39]\n",
            " [ 38  65  39  93  65  68 480  78  50  36]\n",
            " [ 53  65  44  73  58 106  89 368  67  62]\n",
            " [ 99 100  20  50  27  39  62  79 458  37]\n",
            " [ 60 214  23  55  33  70  87  80 106 276]]\n"
          ],
          "name": "stdout"
        }
      ]
    },
    {
      "cell_type": "code",
      "metadata": {
        "id": "mlaoKsS_SyIW"
      },
      "source": [
        "final_dict[40] = {}\n",
        "final_dict[40][\"train_losses\"] = train_losses\n",
        "final_dict[40][\"valid_losses\"] = valid_losses\n",
        "final_dict[40][\"train_accs\"] = train_accs\n",
        "final_dict[40][\"validation_accs\"] = validation_accs\n",
        "final_dict[40][\"best_test_acc\"] =  accuracy_score(testy, pred)\n"
      ],
      "execution_count": 26,
      "outputs": []
    },
    {
      "cell_type": "code",
      "metadata": {
        "id": "vq2jHTn0SyY9",
        "colab": {
          "base_uri": "https://localhost:8080/"
        },
        "outputId": "b247965d-8e0f-48db-fb8a-0960a5745de1"
      },
      "source": [
        "train_loader, test_loader = get_cifar_dataloaders_corrupted(0.6)\n",
        "criterion = nn.CrossEntropyLoss()\n",
        "\n",
        "device = torch.device(\"cuda:0\" if torch.cuda.is_available() else \"cpu\")\n",
        "print(device)\n"
      ],
      "execution_count": 27,
      "outputs": [
        {
          "output_type": "stream",
          "text": [
            "Files already downloaded and verified\n",
            "Files already downloaded and verified\n",
            "cuda:0\n"
          ],
          "name": "stdout"
        }
      ]
    },
    {
      "cell_type": "code",
      "metadata": {
        "id": "SwG4z_P5SyY-"
      },
      "source": [
        "model = MLP_1_512()\n",
        "model = model.to(device)\n",
        "optimizer = optim.SGD(model.parameters(), lr=1e-3, momentum=0.9)\n"
      ],
      "execution_count": 28,
      "outputs": []
    },
    {
      "cell_type": "code",
      "metadata": {
        "id": "vQScs2leSyY-",
        "colab": {
          "base_uri": "https://localhost:8080/"
        },
        "outputId": "cbb5ae35-24ca-4311-bd99-819f40b0520a"
      },
      "source": [
        "train_losses, valid_losses, train_accs, validation_accs = training_loop(model, 20, train_loader, test_loader,\n",
        "                                          device, criterion, optimizer, \"MLP_1_512_corr_60\")"
      ],
      "execution_count": 29,
      "outputs": [
        {
          "output_type": "stream",
          "text": [
            "Batch 0 Loss: 2.314392566680908\n",
            "Batch 200 Loss: 2.2047524452209473\n",
            "Batch 400 Loss: 2.2667016983032227\n",
            "Batch 600 Loss: 2.2444517612457275\n",
            "Batch 800 Loss: 2.2374348640441895\n",
            "Batch 1000 Loss: 2.146742820739746\n",
            "Batch 1200 Loss: 2.1963729858398438\n",
            "Batch 1400 Loss: 2.2658426761627197\n",
            "[Epoch 0] Train Loss: 2.238088533706665 Vaidation Loss: 2.2189557678222656 Train Acc: 0.19366 Validation Acc: 0.2115\n",
            "Batch 0 Loss: 2.3923261165618896\n",
            "Batch 200 Loss: 2.336054801940918\n",
            "Batch 400 Loss: 2.1202313899993896\n",
            "Batch 600 Loss: 2.03364896774292\n",
            "Batch 800 Loss: 2.309628486633301\n",
            "Batch 1000 Loss: 2.1585633754730225\n",
            "Batch 1200 Loss: 2.1695854663848877\n",
            "Batch 1400 Loss: 2.112171173095703\n",
            "[Epoch 1] Train Loss: 2.19916579536438 Vaidation Loss: 2.2056735630035402 Train Acc: 0.2273 Validation Acc: 0.2257\n",
            "Batch 0 Loss: 2.2585411071777344\n",
            "Batch 200 Loss: 2.246022939682007\n",
            "Batch 400 Loss: 2.2628889083862305\n",
            "Batch 600 Loss: 2.1227447986602783\n",
            "Batch 800 Loss: 2.391092300415039\n",
            "Batch 1000 Loss: 2.1749839782714844\n",
            "Batch 1200 Loss: 2.133720874786377\n",
            "Batch 1400 Loss: 2.161386728286743\n",
            "[Epoch 2] Train Loss: 2.1785318922424315 Vaidation Loss: 2.2073516471862793 Train Acc: 0.24012 Validation Acc: 0.2224\n",
            "Batch 0 Loss: 2.2456212043762207\n",
            "Batch 200 Loss: 2.1172420978546143\n",
            "Batch 400 Loss: 2.1050186157226562\n",
            "Batch 600 Loss: 2.122882843017578\n",
            "Batch 800 Loss: 2.0999324321746826\n",
            "Batch 1000 Loss: 2.1700994968414307\n",
            "Batch 1200 Loss: 2.239654779434204\n",
            "Batch 1400 Loss: 2.028937339782715\n",
            "[Epoch 3] Train Loss: 2.161702537918091 Vaidation Loss: 2.2034853588104246 Train Acc: 0.25216 Validation Acc: 0.2303\n",
            "Batch 0 Loss: 2.244749069213867\n",
            "Batch 200 Loss: 2.2222158908843994\n",
            "Batch 400 Loss: 2.20638108253479\n",
            "Batch 600 Loss: 2.3433849811553955\n",
            "Batch 800 Loss: 2.233410596847534\n",
            "Batch 1000 Loss: 2.2110607624053955\n",
            "Batch 1200 Loss: 2.0836575031280518\n",
            "Batch 1400 Loss: 2.2593443393707275\n",
            "[Epoch 4] Train Loss: 2.1462936322021484 Vaidation Loss: 2.2016049644470215 Train Acc: 0.26022 Validation Acc: 0.2289\n",
            "Batch 0 Loss: 2.1571760177612305\n",
            "Batch 200 Loss: 2.070108413696289\n",
            "Batch 400 Loss: 2.3513596057891846\n",
            "Batch 600 Loss: 2.122403383255005\n",
            "Batch 800 Loss: 2.126906156539917\n",
            "Batch 1000 Loss: 2.123290777206421\n",
            "Batch 1200 Loss: 2.1226885318756104\n",
            "Batch 1400 Loss: 2.219858407974243\n",
            "[Epoch 5] Train Loss: 2.130627449798584 Vaidation Loss: 2.2052272594451905 Train Acc: 0.26758 Validation Acc: 0.2297\n",
            "Batch 0 Loss: 2.2894749641418457\n",
            "Batch 200 Loss: 2.0115907192230225\n",
            "Batch 400 Loss: 2.3265891075134277\n",
            "Batch 600 Loss: 1.925558090209961\n",
            "Batch 800 Loss: 2.011814832687378\n",
            "Batch 1000 Loss: 2.0848283767700195\n",
            "Batch 1200 Loss: 2.2759850025177\n",
            "Batch 1400 Loss: 2.0114893913269043\n",
            "[Epoch 6] Train Loss: 2.114364984130859 Vaidation Loss: 2.2036421382904052 Train Acc: 0.2739 Validation Acc: 0.2315\n",
            "Batch 0 Loss: 2.0434045791625977\n",
            "Batch 200 Loss: 2.0327260494232178\n",
            "Batch 400 Loss: 2.0154995918273926\n",
            "Batch 600 Loss: 2.2259011268615723\n",
            "Batch 800 Loss: 2.1069772243499756\n",
            "Batch 1000 Loss: 2.0089282989501953\n",
            "Batch 1200 Loss: 2.001746416091919\n",
            "Batch 1400 Loss: 2.3184831142425537\n",
            "[Epoch 7] Train Loss: 2.0986137575531005 Vaidation Loss: 2.2101055130004883 Train Acc: 0.28274 Validation Acc: 0.2268\n",
            "Batch 0 Loss: 2.0130505561828613\n",
            "Batch 200 Loss: 2.0134057998657227\n",
            "Batch 400 Loss: 2.099684238433838\n",
            "Batch 600 Loss: 1.9879525899887085\n",
            "Batch 800 Loss: 1.9336718320846558\n",
            "Batch 1000 Loss: 1.994776725769043\n",
            "Batch 1200 Loss: 2.016111373901367\n",
            "Batch 1400 Loss: 2.149890899658203\n",
            "[Epoch 8] Train Loss: 2.081356307220459 Vaidation Loss: 2.2116115154266356 Train Acc: 0.29034 Validation Acc: 0.2343\n",
            "Batch 0 Loss: 1.9238321781158447\n",
            "Batch 200 Loss: 1.9528523683547974\n",
            "Batch 400 Loss: 1.9903737306594849\n",
            "Batch 600 Loss: 2.2107508182525635\n",
            "Batch 800 Loss: 2.129664659500122\n",
            "Batch 1000 Loss: 1.9962131977081299\n",
            "Batch 1200 Loss: 2.2169885635375977\n",
            "Batch 1400 Loss: 2.1531708240509033\n",
            "[Epoch 9] Train Loss: 2.063135956039429 Vaidation Loss: 2.225465729522705 Train Acc: 0.29622 Validation Acc: 0.2277\n",
            "Batch 0 Loss: 1.8973631858825684\n",
            "Batch 200 Loss: 2.1748852729797363\n",
            "Batch 400 Loss: 2.0212717056274414\n",
            "Batch 600 Loss: 1.7584619522094727\n",
            "Batch 800 Loss: 1.8437260389328003\n",
            "Batch 1000 Loss: 1.9916908740997314\n",
            "Batch 1200 Loss: 1.6952223777770996\n",
            "Batch 1400 Loss: 2.017583131790161\n",
            "[Epoch 10] Train Loss: 2.0444712435150145 Vaidation Loss: 2.231053051376343 Train Acc: 0.3047 Validation Acc: 0.2253\n",
            "Batch 0 Loss: 1.9280169010162354\n",
            "Batch 200 Loss: 1.8000388145446777\n",
            "Batch 400 Loss: 2.033529281616211\n",
            "Batch 600 Loss: 2.082066297531128\n",
            "Batch 800 Loss: 2.165557622909546\n",
            "Batch 1000 Loss: 2.0369250774383545\n",
            "Batch 1200 Loss: 1.9687814712524414\n",
            "Batch 1400 Loss: 2.0321311950683594\n",
            "[Epoch 11] Train Loss: 2.0251933016204835 Vaidation Loss: 2.2428019897460936 Train Acc: 0.31348 Validation Acc: 0.2245\n",
            "Batch 0 Loss: 1.8913930654525757\n",
            "Batch 200 Loss: 2.0097148418426514\n",
            "Batch 400 Loss: 1.8188272714614868\n",
            "Batch 600 Loss: 1.9869344234466553\n",
            "Batch 800 Loss: 2.0026304721832275\n",
            "Batch 1000 Loss: 2.049328565597534\n",
            "Batch 1200 Loss: 1.9504199028015137\n",
            "Batch 1400 Loss: 1.8859641551971436\n",
            "[Epoch 12] Train Loss: 2.0042100510406495 Vaidation Loss: 2.255811720275879 Train Acc: 0.3197 Validation Acc: 0.2278\n",
            "Batch 0 Loss: 2.0009381771087646\n",
            "Batch 200 Loss: 1.9206290245056152\n",
            "Batch 400 Loss: 1.8922226428985596\n",
            "Batch 600 Loss: 2.0237748622894287\n",
            "Batch 800 Loss: 2.067370653152466\n",
            "Batch 1000 Loss: 2.1478724479675293\n",
            "Batch 1200 Loss: 1.7791709899902344\n",
            "Batch 1400 Loss: 1.88924241065979\n",
            "[Epoch 13] Train Loss: 1.9824061285018921 Vaidation Loss: 2.2574301052093504 Train Acc: 0.32754 Validation Acc: 0.2241\n",
            "Batch 0 Loss: 1.8678516149520874\n",
            "Batch 200 Loss: 2.002929449081421\n",
            "Batch 400 Loss: 1.9099743366241455\n",
            "Batch 600 Loss: 1.8863296508789062\n",
            "Batch 800 Loss: 1.8064590692520142\n",
            "Batch 1000 Loss: 2.075462818145752\n",
            "Batch 1200 Loss: 1.9617663621902466\n",
            "Batch 1400 Loss: 1.8292467594146729\n",
            "[Epoch 14] Train Loss: 1.95853521648407 Vaidation Loss: 2.2816301208496093 Train Acc: 0.33574 Validation Acc: 0.215\n",
            "Batch 0 Loss: 1.8135126829147339\n",
            "Batch 200 Loss: 2.121999979019165\n",
            "Batch 400 Loss: 1.9239768981933594\n",
            "Batch 600 Loss: 2.078881025314331\n",
            "Batch 800 Loss: 1.8713648319244385\n",
            "Batch 1000 Loss: 1.8977477550506592\n",
            "Batch 1200 Loss: 1.9907459020614624\n",
            "Batch 1400 Loss: 1.871038794517517\n",
            "[Epoch 15] Train Loss: 1.9353104595565795 Vaidation Loss: 2.2916914039611815 Train Acc: 0.34794 Validation Acc: 0.2154\n",
            "Batch 0 Loss: 1.615148663520813\n",
            "Batch 200 Loss: 1.9541189670562744\n",
            "Batch 400 Loss: 1.949846863746643\n",
            "Batch 600 Loss: 2.211589813232422\n",
            "Batch 800 Loss: 1.9810292720794678\n",
            "Batch 1000 Loss: 1.8100038766860962\n",
            "Batch 1200 Loss: 1.699607014656067\n",
            "Batch 1400 Loss: 1.6837172508239746\n",
            "[Epoch 16] Train Loss: 1.9114595944595336 Vaidation Loss: 2.307130671310425 Train Acc: 0.35402 Validation Acc: 0.2156\n",
            "Batch 0 Loss: 1.862021803855896\n",
            "Batch 200 Loss: 1.9116650819778442\n",
            "Batch 400 Loss: 1.7242766618728638\n",
            "Batch 600 Loss: 1.8956055641174316\n",
            "Batch 800 Loss: 1.9029192924499512\n",
            "Batch 1000 Loss: 1.8067423105239868\n",
            "Batch 1200 Loss: 1.9617695808410645\n",
            "Batch 1400 Loss: 1.9832110404968262\n",
            "[Epoch 17] Train Loss: 1.884749595680237 Vaidation Loss: 2.3237643459320068 Train Acc: 0.3647 Validation Acc: 0.2118\n",
            "Batch 0 Loss: 1.9232064485549927\n",
            "Batch 200 Loss: 1.8047744035720825\n",
            "Batch 400 Loss: 1.9782549142837524\n",
            "Batch 600 Loss: 1.7361738681793213\n",
            "Batch 800 Loss: 1.7231634855270386\n",
            "Batch 1000 Loss: 2.102052688598633\n",
            "Batch 1200 Loss: 1.9167253971099854\n",
            "Batch 1400 Loss: 1.9180809259414673\n",
            "[Epoch 18] Train Loss: 1.8595869831848144 Vaidation Loss: 2.35355809173584 Train Acc: 0.3703 Validation Acc: 0.2\n",
            "Batch 0 Loss: 1.9262622594833374\n",
            "Batch 200 Loss: 2.010477304458618\n",
            "Batch 400 Loss: 1.9713324308395386\n",
            "Batch 600 Loss: 1.957520842552185\n",
            "Batch 800 Loss: 2.0273983478546143\n",
            "Batch 1000 Loss: 1.9358019828796387\n",
            "Batch 1200 Loss: 1.8612959384918213\n",
            "Batch 1400 Loss: 1.8105658292770386\n",
            "[Epoch 19] Train Loss: 1.8337335250091553 Vaidation Loss: 2.35696162109375 Train Acc: 0.3829 Validation Acc: 0.2155\n",
            "Finished Training\n"
          ],
          "name": "stdout"
        }
      ]
    },
    {
      "cell_type": "code",
      "metadata": {
        "id": "nTTNzdqgSyY_",
        "colab": {
          "base_uri": "https://localhost:8080/",
          "height": 404
        },
        "outputId": "ca6826c2-c44e-4282-da28-cc18a5cd0200"
      },
      "source": [
        "plot_losses(train_losses, valid_losses, train_accs, validation_accs, \"MLP_1_512 60% corruption\")"
      ],
      "execution_count": 30,
      "outputs": [
        {
          "output_type": "display_data",
          "data": {
            "image/png": "[encoded data removed]",
            "text/plain": [
              "<Figure size 1152x432 with 2 Axes>"
            ]
          },
          "metadata": {
            "tags": [],
            "needs_background": "light"
          }
        }
      ]
    },
    {
      "cell_type": "code",
      "metadata": {
        "id": "NPEUya5RSyZA",
        "colab": {
          "base_uri": "https://localhost:8080/"
        },
        "outputId": "0134819e-f11f-449e-f7df-7019955517b0"
      },
      "source": [
        "model = MLP_1_512()\n",
        "sd = torch.load(\"MLP_1_512_corr_60.pth\")\n",
        "model.load_state_dict(sd)\n",
        "model = model.to(device)\n",
        "testy, pred = run_testing(test_loader, model, device)\n",
        "\n",
        "print(\"Accuracy:\", accuracy_score(testy, pred))\n",
        "print(\"Confusion Matrix:\\n\", confusion_matrix(testy, pred))\n"
      ],
      "execution_count": 31,
      "outputs": [
        {
          "output_type": "stream",
          "text": [
            "Accuracy: 0.2343\n",
            "Confusion Matrix:\n",
            " [[245  71  99  49  80  78  53 114 142  96]\n",
            " [ 64 247  81  55  88  87  51  99 107 147]\n",
            " [ 87  63 204  58 107  92  58 112  98 107]\n",
            " [ 60  61 104 112  99 184  81 112  90 118]\n",
            " [ 69  57 131  41 221  90  65 124  98  83]\n",
            " [ 56  68 100  80  93 216  54 118  99  90]\n",
            " [ 70  55 131  60 121  97 200  92  96  90]\n",
            " [ 70  71 110  56  93  96  50 284  82  97]\n",
            " [ 86  81  72  44  60  73  44  84 326 110]\n",
            " [ 60 105  77  47  70  68  58  96 117 288]]\n"
          ],
          "name": "stdout"
        }
      ]
    },
    {
      "cell_type": "code",
      "metadata": {
        "id": "FVCP8TOuSyZA"
      },
      "source": [
        "final_dict[60] = {}\n",
        "final_dict[60][\"train_losses\"] = train_losses\n",
        "final_dict[60][\"valid_losses\"] = valid_losses\n",
        "final_dict[60][\"train_accs\"] = train_accs\n",
        "final_dict[60][\"validation_accs\"] = validation_accs\n",
        "final_dict[60][\"best_test_acc\"] = accuracy_score(testy, pred)\n"
      ],
      "execution_count": 32,
      "outputs": []
    },
    {
      "cell_type": "code",
      "metadata": {
        "id": "e6nv7_Z9Sylc",
        "colab": {
          "base_uri": "https://localhost:8080/"
        },
        "outputId": "3d2a214c-29ce-4c82-b3c5-162f68931e65"
      },
      "source": [
        "train_loader, test_loader = get_cifar_dataloaders_corrupted(0.8)\n",
        "criterion = nn.CrossEntropyLoss()\n",
        "\n",
        "device = torch.device(\"cuda:0\" if torch.cuda.is_available() else \"cpu\")\n",
        "print(device)\n"
      ],
      "execution_count": 33,
      "outputs": [
        {
          "output_type": "stream",
          "text": [
            "Files already downloaded and verified\n",
            "Files already downloaded and verified\n",
            "cuda:0\n"
          ],
          "name": "stdout"
        }
      ]
    },
    {
      "cell_type": "code",
      "metadata": {
        "id": "Vy_kvh2ISyld"
      },
      "source": [
        "model = MLP_1_512()\n",
        "model = model.to(device)\n",
        "optimizer = optim.SGD(model.parameters(), lr=1e-3, momentum=0.9)\n"
      ],
      "execution_count": 34,
      "outputs": []
    },
    {
      "cell_type": "code",
      "metadata": {
        "id": "Vo6FUCo9Syld",
        "colab": {
          "base_uri": "https://localhost:8080/"
        },
        "outputId": "f2f442a8-ade2-4575-e002-baff2f48e12a"
      },
      "source": [
        "train_losses, valid_losses, train_accs, validation_accs = training_loop(model, 20, train_loader, test_loader,\n",
        "                                          device, criterion, optimizer, \"MLP_1_512_corr_80\")"
      ],
      "execution_count": 35,
      "outputs": [
        {
          "output_type": "stream",
          "text": [
            "Batch 0 Loss: 2.318265914916992\n",
            "Batch 200 Loss: 2.318925142288208\n",
            "Batch 400 Loss: 2.2261343002319336\n",
            "Batch 600 Loss: 2.3271148204803467\n",
            "Batch 800 Loss: 2.2293028831481934\n",
            "Batch 1000 Loss: 2.243133783340454\n",
            "Batch 1200 Loss: 2.289707660675049\n",
            "Batch 1400 Loss: 2.325493335723877\n",
            "[Epoch 0] Train Loss: 2.291334224624634 Vaidation Loss: 2.2830935440063476 Train Acc: 0.13908 Validation Acc: 0.1502\n",
            "Batch 0 Loss: 2.2593283653259277\n",
            "Batch 200 Loss: 2.246443033218384\n",
            "Batch 400 Loss: 2.26232647895813\n",
            "Batch 600 Loss: 2.284428596496582\n",
            "Batch 800 Loss: 2.262824773788452\n",
            "Batch 1000 Loss: 2.1834301948547363\n",
            "Batch 1200 Loss: 2.2058792114257812\n",
            "Batch 1400 Loss: 2.2847859859466553\n",
            "[Epoch 1] Train Loss: 2.2725450961303713 Vaidation Loss: 2.2828800186157228 Train Acc: 0.1598 Validation Acc: 0.1528\n",
            "Batch 0 Loss: 2.201554298400879\n",
            "Batch 200 Loss: 2.3241705894470215\n",
            "Batch 400 Loss: 2.248225212097168\n",
            "Batch 600 Loss: 2.2458901405334473\n",
            "Batch 800 Loss: 2.3041398525238037\n",
            "Batch 1000 Loss: 2.157615900039673\n",
            "Batch 1200 Loss: 2.1398160457611084\n",
            "Batch 1400 Loss: 2.2978100776672363\n",
            "[Epoch 2] Train Loss: 2.2613391064453126 Vaidation Loss: 2.279884930419922 Train Acc: 0.17188 Validation Acc: 0.1599\n",
            "Batch 0 Loss: 2.2459793090820312\n",
            "Batch 200 Loss: 2.232513427734375\n",
            "Batch 400 Loss: 2.270554304122925\n",
            "Batch 600 Loss: 2.263261556625366\n",
            "Batch 800 Loss: 2.2471823692321777\n",
            "Batch 1000 Loss: 2.1863083839416504\n",
            "Batch 1200 Loss: 2.271233081817627\n",
            "Batch 1400 Loss: 2.218247413635254\n",
            "[Epoch 3] Train Loss: 2.2505652934265137 Vaidation Loss: 2.283188200378418 Train Acc: 0.17888 Validation Acc: 0.153\n",
            "Batch 0 Loss: 2.087905168533325\n",
            "Batch 200 Loss: 2.231355905532837\n",
            "Batch 400 Loss: 2.215696334838867\n",
            "Batch 600 Loss: 2.3105931282043457\n",
            "Batch 800 Loss: 2.2578015327453613\n",
            "Batch 1000 Loss: 2.319263458251953\n",
            "Batch 1200 Loss: 2.2600462436676025\n",
            "Batch 1400 Loss: 2.2727482318878174\n",
            "[Epoch 4] Train Loss: 2.240374727935791 Vaidation Loss: 2.2843134365081785 Train Acc: 0.18564 Validation Acc: 0.1566\n",
            "Batch 0 Loss: 2.293365716934204\n",
            "Batch 200 Loss: 2.2094318866729736\n",
            "Batch 400 Loss: 2.1814255714416504\n",
            "Batch 600 Loss: 2.2201616764068604\n",
            "Batch 800 Loss: 2.247593641281128\n",
            "Batch 1000 Loss: 2.261662244796753\n",
            "Batch 1200 Loss: 2.2330496311187744\n",
            "Batch 1400 Loss: 2.309835910797119\n",
            "[Epoch 5] Train Loss: 2.229326008605957 Vaidation Loss: 2.2903410858154296 Train Acc: 0.19266 Validation Acc: 0.1531\n",
            "Batch 0 Loss: 2.144063711166382\n",
            "Batch 200 Loss: 2.254725456237793\n",
            "Batch 400 Loss: 2.24420166015625\n",
            "Batch 600 Loss: 2.2669334411621094\n",
            "Batch 800 Loss: 2.1511857509613037\n",
            "Batch 1000 Loss: 2.27864146232605\n",
            "Batch 1200 Loss: 2.223984956741333\n",
            "Batch 1400 Loss: 2.231424570083618\n",
            "[Epoch 6] Train Loss: 2.2184514087677 Vaidation Loss: 2.2914628337860106 Train Acc: 0.20126 Validation Acc: 0.1551\n",
            "Batch 0 Loss: 2.1859452724456787\n",
            "Batch 200 Loss: 2.136453151702881\n",
            "Batch 400 Loss: 2.2130725383758545\n",
            "Batch 600 Loss: 2.186197280883789\n",
            "Batch 800 Loss: 2.1231741905212402\n",
            "Batch 1000 Loss: 2.2310686111450195\n",
            "Batch 1200 Loss: 2.1592869758605957\n",
            "Batch 1400 Loss: 2.307873249053955\n",
            "[Epoch 7] Train Loss: 2.2050238790893553 Vaidation Loss: 2.29622137298584 Train Acc: 0.20928 Validation Acc: 0.1544\n",
            "Batch 0 Loss: 2.1556448936462402\n",
            "Batch 200 Loss: 2.1015384197235107\n",
            "Batch 400 Loss: 2.2282629013061523\n",
            "Batch 600 Loss: 2.1861729621887207\n",
            "Batch 800 Loss: 2.131927728652954\n",
            "Batch 1000 Loss: 2.1800994873046875\n",
            "Batch 1200 Loss: 2.1719541549682617\n",
            "Batch 1400 Loss: 2.251659870147705\n",
            "[Epoch 8] Train Loss: 2.1920284719848633 Vaidation Loss: 2.3025134563446046 Train Acc: 0.21344 Validation Acc: 0.1504\n",
            "Batch 0 Loss: 2.083317518234253\n",
            "Batch 200 Loss: 2.1745336055755615\n",
            "Batch 400 Loss: 2.039588689804077\n",
            "Batch 600 Loss: 2.10245943069458\n",
            "Batch 800 Loss: 2.206836462020874\n",
            "Batch 1000 Loss: 2.2741565704345703\n",
            "Batch 1200 Loss: 2.1191463470458984\n",
            "Batch 1400 Loss: 2.1209943294525146\n",
            "[Epoch 9] Train Loss: 2.176997671432495 Vaidation Loss: 2.3141914989471437 Train Acc: 0.22236 Validation Acc: 0.1474\n",
            "Batch 0 Loss: 2.1657848358154297\n",
            "Batch 200 Loss: 2.228914737701416\n",
            "Batch 400 Loss: 2.1969685554504395\n",
            "Batch 600 Loss: 2.1763622760772705\n",
            "Batch 800 Loss: 2.1090848445892334\n",
            "Batch 1000 Loss: 2.1662492752075195\n",
            "Batch 1200 Loss: 2.2254700660705566\n",
            "Batch 1400 Loss: 2.163297653198242\n",
            "[Epoch 10] Train Loss: 2.1614661679077147 Vaidation Loss: 2.3243869304656983 Train Acc: 0.22978 Validation Acc: 0.1454\n",
            "Batch 0 Loss: 2.0642685890197754\n",
            "Batch 200 Loss: 2.125241994857788\n",
            "Batch 400 Loss: 2.223520040512085\n",
            "Batch 600 Loss: 2.165977716445923\n",
            "Batch 800 Loss: 2.133836507797241\n",
            "Batch 1000 Loss: 2.1429619789123535\n",
            "Batch 1200 Loss: 2.101510524749756\n",
            "Batch 1400 Loss: 2.1645984649658203\n",
            "[Epoch 11] Train Loss: 2.1453203650665285 Vaidation Loss: 2.328700485610962 Train Acc: 0.2369 Validation Acc: 0.1491\n",
            "Batch 0 Loss: 2.1157383918762207\n",
            "Batch 200 Loss: 1.9834223985671997\n",
            "Batch 400 Loss: 2.1897244453430176\n",
            "Batch 600 Loss: 2.089879035949707\n",
            "Batch 800 Loss: 2.1273155212402344\n",
            "Batch 1000 Loss: 2.123793125152588\n",
            "Batch 1200 Loss: 2.117431163787842\n",
            "Batch 1400 Loss: 2.1654465198516846\n",
            "[Epoch 12] Train Loss: 2.126684811782837 Vaidation Loss: 2.3490448181152344 Train Acc: 0.24786 Validation Acc: 0.1428\n",
            "Batch 0 Loss: 1.9803199768066406\n",
            "Batch 200 Loss: 2.0596585273742676\n",
            "Batch 400 Loss: 2.134463310241699\n",
            "Batch 600 Loss: 2.135591506958008\n",
            "Batch 800 Loss: 2.1428050994873047\n",
            "Batch 1000 Loss: 2.1317858695983887\n",
            "Batch 1200 Loss: 2.0709872245788574\n",
            "Batch 1400 Loss: 1.9659255743026733\n",
            "[Epoch 13] Train Loss: 2.1081135359191894 Vaidation Loss: 2.350112397766113 Train Acc: 0.25828 Validation Acc: 0.1425\n",
            "Batch 0 Loss: 2.024756908416748\n",
            "Batch 200 Loss: 2.0198512077331543\n",
            "Batch 400 Loss: 1.9864810705184937\n",
            "Batch 600 Loss: 2.0466854572296143\n",
            "Batch 800 Loss: 1.9651325941085815\n",
            "Batch 1000 Loss: 1.9128994941711426\n",
            "Batch 1200 Loss: 2.0116255283355713\n",
            "Batch 1400 Loss: 2.0665664672851562\n",
            "[Epoch 14] Train Loss: 2.0887736101531984 Vaidation Loss: 2.3589495262145994 Train Acc: 0.26638 Validation Acc: 0.1463\n",
            "Batch 0 Loss: 2.0717105865478516\n",
            "Batch 200 Loss: 1.9747639894485474\n",
            "Batch 400 Loss: 1.9334571361541748\n",
            "Batch 600 Loss: 2.074094772338867\n",
            "Batch 800 Loss: 2.0069282054901123\n",
            "Batch 1000 Loss: 2.0577383041381836\n",
            "Batch 1200 Loss: 2.098707914352417\n",
            "Batch 1400 Loss: 2.192450761795044\n",
            "[Epoch 15] Train Loss: 2.0658790098571775 Vaidation Loss: 2.3827118534088134 Train Acc: 0.27752 Validation Acc: 0.1379\n",
            "Batch 0 Loss: 2.109910726547241\n",
            "Batch 200 Loss: 2.0573337078094482\n",
            "Batch 400 Loss: 2.0235977172851562\n",
            "Batch 600 Loss: 2.103686571121216\n",
            "Batch 800 Loss: 2.0379931926727295\n",
            "Batch 1000 Loss: 2.1294541358947754\n",
            "Batch 1200 Loss: 2.0072951316833496\n",
            "Batch 1400 Loss: 1.8989322185516357\n",
            "[Epoch 16] Train Loss: 2.0436135708618166 Vaidation Loss: 2.397679288482666 Train Acc: 0.28634 Validation Acc: 0.1353\n",
            "Batch 0 Loss: 2.020026445388794\n",
            "Batch 200 Loss: 2.0139501094818115\n",
            "Batch 400 Loss: 1.9054546356201172\n",
            "Batch 600 Loss: 2.2494750022888184\n",
            "Batch 800 Loss: 1.88373601436615\n",
            "Batch 1000 Loss: 1.8551983833312988\n",
            "Batch 1200 Loss: 1.9565893411636353\n",
            "Batch 1400 Loss: 1.964414358139038\n",
            "[Epoch 17] Train Loss: 2.0202677210235596 Vaidation Loss: 2.4293356674194335 Train Acc: 0.29642 Validation Acc: 0.1319\n",
            "Batch 0 Loss: 1.8017501831054688\n",
            "Batch 200 Loss: 1.996056079864502\n",
            "Batch 400 Loss: 1.91143000125885\n",
            "Batch 600 Loss: 1.9528673887252808\n",
            "Batch 800 Loss: 2.0991294384002686\n",
            "Batch 1000 Loss: 1.937988519668579\n",
            "Batch 1200 Loss: 1.9751992225646973\n",
            "Batch 1400 Loss: 2.0858492851257324\n",
            "[Epoch 18] Train Loss: 1.9965506019592285 Vaidation Loss: 2.4392041137695313 Train Acc: 0.3075 Validation Acc: 0.1362\n",
            "Batch 0 Loss: 2.0740723609924316\n",
            "Batch 200 Loss: 1.8680765628814697\n",
            "Batch 400 Loss: 2.049272060394287\n",
            "Batch 600 Loss: 1.9622186422348022\n",
            "Batch 800 Loss: 1.9996118545532227\n",
            "Batch 1000 Loss: 1.8984026908874512\n",
            "Batch 1200 Loss: 1.9330878257751465\n",
            "Batch 1400 Loss: 2.0459952354431152\n",
            "[Epoch 19] Train Loss: 1.9714289879608153 Vaidation Loss: 2.455928552246094 Train Acc: 0.31862 Validation Acc: 0.1342\n",
            "Finished Training\n"
          ],
          "name": "stdout"
        }
      ]
    },
    {
      "cell_type": "code",
      "metadata": {
        "id": "b04FhI63Syle",
        "colab": {
          "base_uri": "https://localhost:8080/",
          "height": 404
        },
        "outputId": "7ea14b52-13d5-41be-cedb-393ecbbe427e"
      },
      "source": [
        "plot_losses(train_losses, valid_losses, train_accs, validation_accs, \"MLP_1_512 80% corruption\")"
      ],
      "execution_count": 36,
      "outputs": [
        {
          "output_type": "display_data",
          "data": {
            "image/png": "[encoded data removed]",
            "text/plain": [
              "<Figure size 1152x432 with 2 Axes>"
            ]
          },
          "metadata": {
            "tags": [],
            "needs_background": "light"
          }
        }
      ]
    },
    {
      "cell_type": "code",
      "metadata": {
        "id": "WPK9LERPSylf",
        "colab": {
          "base_uri": "https://localhost:8080/"
        },
        "outputId": "d97716ee-cb05-4cb2-9bcd-e8cfb7201423"
      },
      "source": [
        "model = MLP_1_512()\n",
        "sd = torch.load(\"MLP_1_512_corr_80.pth\")\n",
        "model.load_state_dict(sd)\n",
        "model = model.to(device)\n",
        "testy, pred = run_testing(test_loader, model, device)\n",
        "\n",
        "print(\"Accuracy:\", accuracy_score(testy, pred))\n",
        "print(\"Confusion Matrix:\\n\", confusion_matrix(testy, pred))\n"
      ],
      "execution_count": 37,
      "outputs": [
        {
          "output_type": "stream",
          "text": [
            "Accuracy: 0.1599\n",
            "Confusion Matrix:\n",
            " [[171  68  45 114 104  74 103  57 142 133]\n",
            " [ 91 143  52 106  79  70 109  78  95 206]\n",
            " [107  71  71 135 100  74 126  86 100 117]\n",
            " [ 86  70  67 197  99  87 113  59  91 151]\n",
            " [102  63  63 123 152  69 121  53  98 110]\n",
            " [ 85  81  75 160  95  94  95  88  88 120]\n",
            " [ 85  75  62 132  92  57 212  69  99 132]\n",
            " [ 89  78  54 123 115  61 115 130 106 127]\n",
            " [ 91  90  44  99  90  73 108  56 195 141]\n",
            " [ 95 110  51 116  80  57  88  74 113 234]]\n"
          ],
          "name": "stdout"
        }
      ]
    },
    {
      "cell_type": "code",
      "metadata": {
        "id": "yLTZuwdYSylf"
      },
      "source": [
        "final_dict[80] = {}\n",
        "final_dict[80][\"train_losses\"] = train_losses\n",
        "final_dict[80][\"valid_losses\"] = valid_losses\n",
        "final_dict[80][\"train_accs\"] = train_accs\n",
        "final_dict[80][\"validation_accs\"] = validation_accs\n",
        "final_dict[80][\"best_test_acc\"] = accuracy_score(testy, pred)\n"
      ],
      "execution_count": 38,
      "outputs": []
    },
    {
      "cell_type": "code",
      "metadata": {
        "id": "N2mkbHx-Syxh",
        "colab": {
          "base_uri": "https://localhost:8080/"
        },
        "outputId": "3b3591f1-bcb3-45d5-da0f-1a751a2cba6d"
      },
      "source": [
        "train_loader, test_loader = get_cifar_dataloaders_corrupted(1.0)\n",
        "criterion = nn.CrossEntropyLoss()\n",
        "\n",
        "device = torch.device(\"cuda:0\" if torch.cuda.is_available() else \"cpu\")\n",
        "print(device)\n"
      ],
      "execution_count": 39,
      "outputs": [
        {
          "output_type": "stream",
          "text": [
            "Files already downloaded and verified\n",
            "Files already downloaded and verified\n",
            "cuda:0\n"
          ],
          "name": "stdout"
        }
      ]
    },
    {
      "cell_type": "code",
      "metadata": {
        "id": "HA1vdY6mSyxi"
      },
      "source": [
        "model = MLP_1_512()\n",
        "model = model.to(device)\n",
        "optimizer = optim.SGD(model.parameters(), lr=1e-3, momentum=0.9)\n"
      ],
      "execution_count": 40,
      "outputs": []
    },
    {
      "cell_type": "code",
      "metadata": {
        "id": "fCkNPItWSyxi",
        "colab": {
          "base_uri": "https://localhost:8080/"
        },
        "outputId": "7bb3f35a-f000-4576-b9c2-3489a5b661b9"
      },
      "source": [
        "train_losses, valid_losses, train_accs, validation_accs = training_loop(model, 20, train_loader, test_loader,\n",
        "                                          device, criterion, optimizer, \"MLP_1_512_corr_100\")"
      ],
      "execution_count": 41,
      "outputs": [
        {
          "output_type": "stream",
          "text": [
            "Batch 0 Loss: 2.3176627159118652\n",
            "Batch 200 Loss: 2.3083884716033936\n",
            "Batch 400 Loss: 2.316279411315918\n",
            "Batch 600 Loss: 2.299224615097046\n",
            "Batch 800 Loss: 2.3058907985687256\n",
            "Batch 1000 Loss: 2.3383092880249023\n",
            "Batch 1200 Loss: 2.324772834777832\n",
            "Batch 1400 Loss: 2.286269426345825\n",
            "[Epoch 0] Train Loss: 2.3091133625030515 Vaidation Loss: 2.3094862442016604 Train Acc: 0.09982 Validation Acc: 0.0943\n",
            "Batch 0 Loss: 2.30082631111145\n",
            "Batch 200 Loss: 2.286478042602539\n",
            "Batch 400 Loss: 2.325347900390625\n",
            "Batch 600 Loss: 2.313749074935913\n",
            "Batch 800 Loss: 2.28525972366333\n",
            "Batch 1000 Loss: 2.246175527572632\n",
            "Batch 1200 Loss: 2.2960610389709473\n",
            "Batch 1400 Loss: 2.298027753829956\n",
            "[Epoch 1] Train Loss: 2.2970809868621824 Vaidation Loss: 2.3102303913116455 Train Acc: 0.12078 Validation Acc: 0.0973\n",
            "Batch 0 Loss: 2.2994260787963867\n",
            "Batch 200 Loss: 2.2316019535064697\n",
            "Batch 400 Loss: 2.316598892211914\n",
            "Batch 600 Loss: 2.2545905113220215\n",
            "Batch 800 Loss: 2.2484090328216553\n",
            "Batch 1000 Loss: 2.2702367305755615\n",
            "Batch 1200 Loss: 2.320972442626953\n",
            "Batch 1400 Loss: 2.3100104331970215\n",
            "[Epoch 2] Train Loss: 2.289152511367798 Vaidation Loss: 2.3115875511169435 Train Acc: 0.13106 Validation Acc: 0.0995\n",
            "Batch 0 Loss: 2.305671215057373\n",
            "Batch 200 Loss: 2.2851123809814453\n",
            "Batch 400 Loss: 2.262073516845703\n",
            "Batch 600 Loss: 2.2414023876190186\n",
            "Batch 800 Loss: 2.238410711288452\n",
            "Batch 1000 Loss: 2.346126079559326\n",
            "Batch 1200 Loss: 2.290529489517212\n",
            "Batch 1400 Loss: 2.2449045181274414\n",
            "[Epoch 3] Train Loss: 2.280495457458496 Vaidation Loss: 2.3134358573913576 Train Acc: 0.13978 Validation Acc: 0.1004\n",
            "Batch 0 Loss: 2.278827428817749\n",
            "Batch 200 Loss: 2.282386541366577\n",
            "Batch 400 Loss: 2.276034116744995\n",
            "Batch 600 Loss: 2.2551445960998535\n",
            "Batch 800 Loss: 2.2581217288970947\n",
            "Batch 1000 Loss: 2.2312588691711426\n",
            "Batch 1200 Loss: 2.300734043121338\n",
            "Batch 1400 Loss: 2.286348581314087\n",
            "[Epoch 4] Train Loss: 2.2732000009918214 Vaidation Loss: 2.3167680953979493 Train Acc: 0.15064 Validation Acc: 0.0959\n",
            "Batch 0 Loss: 2.247035264968872\n",
            "Batch 200 Loss: 2.237961530685425\n",
            "Batch 400 Loss: 2.2417445182800293\n",
            "Batch 600 Loss: 2.276566505432129\n",
            "Batch 800 Loss: 2.2394118309020996\n",
            "Batch 1000 Loss: 2.2516977787017822\n",
            "Batch 1200 Loss: 2.2303311824798584\n",
            "Batch 1400 Loss: 2.2319865226745605\n",
            "[Epoch 5] Train Loss: 2.263760163116455 Vaidation Loss: 2.3239896453857423 Train Acc: 0.1593 Validation Acc: 0.0997\n",
            "Batch 0 Loss: 2.2160747051239014\n",
            "Batch 200 Loss: 2.2821295261383057\n",
            "Batch 400 Loss: 2.2879488468170166\n",
            "Batch 600 Loss: 2.2017247676849365\n",
            "Batch 800 Loss: 2.314208984375\n",
            "Batch 1000 Loss: 2.3531103134155273\n",
            "Batch 1200 Loss: 2.332211494445801\n",
            "Batch 1400 Loss: 2.2854576110839844\n",
            "[Epoch 6] Train Loss: 2.2541665830993654 Vaidation Loss: 2.329229204940796 Train Acc: 0.16846 Validation Acc: 0.0965\n",
            "Batch 0 Loss: 2.166443109512329\n",
            "Batch 200 Loss: 2.2336490154266357\n",
            "Batch 400 Loss: 2.173672676086426\n",
            "Batch 600 Loss: 2.2075703144073486\n",
            "Batch 800 Loss: 2.246405601501465\n",
            "Batch 1000 Loss: 2.2473621368408203\n",
            "Batch 1200 Loss: 2.2322914600372314\n",
            "Batch 1400 Loss: 2.240084171295166\n",
            "[Epoch 7] Train Loss: 2.2434917457580568 Vaidation Loss: 2.3332879596710203 Train Acc: 0.17586 Validation Acc: 0.1039\n",
            "Batch 0 Loss: 2.2885823249816895\n",
            "Batch 200 Loss: 2.312793731689453\n",
            "Batch 400 Loss: 2.2114553451538086\n",
            "Batch 600 Loss: 2.2351620197296143\n",
            "Batch 800 Loss: 2.195366621017456\n",
            "Batch 1000 Loss: 2.2207159996032715\n",
            "Batch 1200 Loss: 2.2496137619018555\n",
            "Batch 1400 Loss: 2.2784488201141357\n",
            "[Epoch 8] Train Loss: 2.2308051653289795 Vaidation Loss: 2.338030002212524 Train Acc: 0.185 Validation Acc: 0.1018\n",
            "Batch 0 Loss: 2.1919455528259277\n",
            "Batch 200 Loss: 2.138353109359741\n",
            "Batch 400 Loss: 2.2160794734954834\n",
            "Batch 600 Loss: 2.276305675506592\n",
            "Batch 800 Loss: 2.2103395462036133\n",
            "Batch 1000 Loss: 2.2432312965393066\n",
            "Batch 1200 Loss: 2.177186965942383\n",
            "Batch 1400 Loss: 2.331965684890747\n",
            "[Epoch 9] Train Loss: 2.2181452068328857 Vaidation Loss: 2.348313493347168 Train Acc: 0.19418 Validation Acc: 0.1004\n",
            "Batch 0 Loss: 2.1805503368377686\n",
            "Batch 200 Loss: 2.2800228595733643\n",
            "Batch 400 Loss: 2.2397029399871826\n",
            "Batch 600 Loss: 2.2053046226501465\n",
            "Batch 800 Loss: 2.1715729236602783\n",
            "Batch 1000 Loss: 2.1601827144622803\n",
            "Batch 1200 Loss: 2.1585850715637207\n",
            "Batch 1400 Loss: 2.213240146636963\n",
            "[Epoch 10] Train Loss: 2.2027962594604493 Vaidation Loss: 2.3615531871795654 Train Acc: 0.20342 Validation Acc: 0.0932\n",
            "Batch 0 Loss: 2.1389095783233643\n",
            "Batch 200 Loss: 2.2328028678894043\n",
            "Batch 400 Loss: 2.1784534454345703\n",
            "Batch 600 Loss: 2.2106239795684814\n",
            "Batch 800 Loss: 2.141427755355835\n",
            "Batch 1000 Loss: 2.13346791267395\n",
            "Batch 1200 Loss: 2.1442627906799316\n",
            "Batch 1400 Loss: 2.2389352321624756\n",
            "[Epoch 11] Train Loss: 2.1875573938751223 Vaidation Loss: 2.3706686656951903 Train Acc: 0.21108 Validation Acc: 0.0945\n",
            "Batch 0 Loss: 2.209590435028076\n",
            "Batch 200 Loss: 2.186398983001709\n",
            "Batch 400 Loss: 2.124643325805664\n",
            "Batch 600 Loss: 2.1295268535614014\n",
            "Batch 800 Loss: 2.198989152908325\n",
            "Batch 1000 Loss: 2.199173927307129\n",
            "Batch 1200 Loss: 2.1134300231933594\n",
            "Batch 1400 Loss: 2.1852991580963135\n",
            "[Epoch 12] Train Loss: 2.1700732689666746 Vaidation Loss: 2.3794710075378416 Train Acc: 0.22136 Validation Acc: 0.0987\n",
            "Batch 0 Loss: 2.0741260051727295\n",
            "Batch 200 Loss: 2.1856496334075928\n",
            "Batch 400 Loss: 2.318397283554077\n",
            "Batch 600 Loss: 2.0145697593688965\n",
            "Batch 800 Loss: 2.2015206813812256\n",
            "Batch 1000 Loss: 2.2003722190856934\n",
            "Batch 1200 Loss: 2.0650336742401123\n",
            "Batch 1400 Loss: 2.1246843338012695\n",
            "[Epoch 13] Train Loss: 2.1519611100006104 Vaidation Loss: 2.397827894592285 Train Acc: 0.23092 Validation Acc: 0.0981\n",
            "Batch 0 Loss: 2.1072816848754883\n",
            "Batch 200 Loss: 1.954574704170227\n",
            "Batch 400 Loss: 2.0747900009155273\n",
            "Batch 600 Loss: 2.0984959602355957\n",
            "Batch 800 Loss: 1.9941296577453613\n",
            "Batch 1000 Loss: 2.296873092651367\n",
            "Batch 1200 Loss: 2.0812416076660156\n",
            "Batch 1400 Loss: 2.1995596885681152\n",
            "[Epoch 14] Train Loss: 2.133279643325806 Vaidation Loss: 2.4090511280059816 Train Acc: 0.24056 Validation Acc: 0.1015\n",
            "Batch 0 Loss: 2.124269485473633\n",
            "Batch 200 Loss: 2.152491331100464\n",
            "Batch 400 Loss: 2.0581867694854736\n",
            "Batch 600 Loss: 2.1464388370513916\n",
            "Batch 800 Loss: 2.1215879917144775\n",
            "Batch 1000 Loss: 2.0151150226593018\n",
            "Batch 1200 Loss: 2.001309633255005\n",
            "Batch 1400 Loss: 2.1362884044647217\n",
            "[Epoch 15] Train Loss: 2.111186604309082 Vaidation Loss: 2.4196196918487547 Train Acc: 0.25322 Validation Acc: 0.0952\n",
            "Batch 0 Loss: 2.154932975769043\n",
            "Batch 200 Loss: 2.1321537494659424\n",
            "Batch 400 Loss: 2.016990900039673\n",
            "Batch 600 Loss: 2.0114855766296387\n",
            "Batch 800 Loss: 2.1470022201538086\n",
            "Batch 1000 Loss: 2.091277837753296\n",
            "Batch 1200 Loss: 2.1139988899230957\n",
            "Batch 1400 Loss: 2.1107053756713867\n",
            "[Epoch 16] Train Loss: 2.088768440322876 Vaidation Loss: 2.445942366027832 Train Acc: 0.26126 Validation Acc: 0.0951\n",
            "Batch 0 Loss: 2.0256364345550537\n",
            "Batch 200 Loss: 2.187351703643799\n",
            "Batch 400 Loss: 2.0297932624816895\n",
            "Batch 600 Loss: 2.029498815536499\n",
            "Batch 800 Loss: 1.9584468603134155\n",
            "Batch 1000 Loss: 1.9573198556900024\n",
            "Batch 1200 Loss: 2.044201135635376\n",
            "Batch 1400 Loss: 1.9252402782440186\n",
            "[Epoch 17] Train Loss: 2.0660846682739256 Vaidation Loss: 2.4469610427856447 Train Acc: 0.27252 Validation Acc: 0.1028\n",
            "Batch 0 Loss: 1.9912124872207642\n",
            "Batch 200 Loss: 2.006530284881592\n",
            "Batch 400 Loss: 1.8732829093933105\n",
            "Batch 600 Loss: 1.963672399520874\n",
            "Batch 800 Loss: 2.0762979984283447\n",
            "Batch 1000 Loss: 1.8850185871124268\n",
            "Batch 1200 Loss: 2.1332712173461914\n",
            "Batch 1400 Loss: 2.178513288497925\n",
            "[Epoch 18] Train Loss: 2.0410305297851563 Vaidation Loss: 2.4744554790496824 Train Acc: 0.28688 Validation Acc: 0.0944\n",
            "Batch 0 Loss: 1.8627525568008423\n",
            "Batch 200 Loss: 1.9955462217330933\n",
            "Batch 400 Loss: 1.9129767417907715\n",
            "Batch 600 Loss: 2.0382165908813477\n",
            "Batch 800 Loss: 1.865755558013916\n",
            "Batch 1000 Loss: 2.041050672531128\n",
            "Batch 1200 Loss: 1.97391939163208\n",
            "Batch 1400 Loss: 2.1362478733062744\n",
            "[Epoch 19] Train Loss: 2.014924135360718 Vaidation Loss: 2.5056315620422365 Train Acc: 0.29612 Validation Acc: 0.097\n",
            "Finished Training\n"
          ],
          "name": "stdout"
        }
      ]
    },
    {
      "cell_type": "code",
      "metadata": {
        "id": "u0uJWei_Syxi",
        "colab": {
          "base_uri": "https://localhost:8080/",
          "height": 404
        },
        "outputId": "c929dcf9-7937-45e4-b50a-c4eecbfe1ca6"
      },
      "source": [
        "plot_losses(train_losses, valid_losses, train_accs, validation_accs, \"MLP_1_512 100% corruption\")"
      ],
      "execution_count": 42,
      "outputs": [
        {
          "output_type": "display_data",
          "data": {
            "image/png": "[encoded data removed]",
            "text/plain": [
              "<Figure size 1152x432 with 2 Axes>"
            ]
          },
          "metadata": {
            "tags": [],
            "needs_background": "light"
          }
        }
      ]
    },
    {
      "cell_type": "code",
      "metadata": {
        "id": "gHn-sHHXSyxi",
        "colab": {
          "base_uri": "https://localhost:8080/"
        },
        "outputId": "2ca21828-b020-48e2-804c-c80c6bdf14e3"
      },
      "source": [
        "model = MLP_1_512()\n",
        "sd = torch.load(\"MLP_1_512_corr_100.pth\")\n",
        "model.load_state_dict(sd)\n",
        "model = model.to(device)\n",
        "testy, pred = run_testing(test_loader, model, device)\n",
        "\n",
        "print(\"Accuracy:\", accuracy_score(testy, pred))\n",
        "print(\"Confusion Matrix:\\n\", confusion_matrix(testy, pred))\n"
      ],
      "execution_count": 43,
      "outputs": [
        {
          "output_type": "stream",
          "text": [
            "Accuracy: 0.1039\n",
            "Confusion Matrix:\n",
            " [[134  94  91  45  50  52 150  51 145 202]\n",
            " [132 107  87  54  63  78 171  52 134 162]\n",
            " [110  86  81  52  55  66 157  43 134 207]\n",
            " [128  95  82  49  51  77 142  56 129 203]\n",
            " [128  90  75  36  62  66 139  51 125 173]\n",
            " [129  91  80  39  66  87 154  52 141 178]\n",
            " [110  95  97  51  51  60 176  57 131 169]\n",
            " [138  83  98  51  44  70 146  51 128 184]\n",
            " [124  81  87  43  65  72 161  57 125 158]\n",
            " [131  80  81  51  44  87 179  53 145 167]]\n"
          ],
          "name": "stdout"
        }
      ]
    },
    {
      "cell_type": "code",
      "metadata": {
        "id": "_jgKGC0WSyxj"
      },
      "source": [
        "final_dict[100] = {}\n",
        "final_dict[100][\"train_losses\"] = train_losses\n",
        "final_dict[100][\"valid_losses\"] = valid_losses\n",
        "final_dict[100][\"train_accs\"] = train_accs\n",
        "final_dict[100][\"validation_accs\"] = validation_accs\n",
        "final_dict[100][\"best_test_acc\"] = accuracy_score(testy, pred)\n"
      ],
      "execution_count": 44,
      "outputs": []
    },
    {
      "cell_type": "code",
      "metadata": {
        "id": "up7SnPUnR1n2"
      },
      "source": [
        "with open('final.pickle', 'wb') as f:\n",
        "    pickle.dump(final_dict, f, protocol=pickle.HIGHEST_PROTOCOL)\n"
      ],
      "execution_count": 45,
      "outputs": []
    },
    {
      "cell_type": "code",
      "metadata": {
        "id": "meI1PIqQTKwW",
        "colab": {
          "base_uri": "https://localhost:8080/"
        },
        "outputId": "4263b876-61ca-40f4-bfb7-49ee35ff7fd1"
      },
      "source": [
        "!curl bashupload.com -T final.pickle"
      ],
      "execution_count": 46,
      "outputs": [
        {
          "output_type": "stream",
          "text": [
            "  % Total    % Received % Xferd  Average Speed   Time    Time     Time  Current\n",
            "                                 Dload  Upload   Total   Spent    Left  Speed\n",
            "\r  0     0    0     0    0     0      0      0 --:--:-- --:--:-- --:--:--     0\n",
            "=========================\n",
            "\n",
            "Uploaded 1 file, 4 794 bytes\n",
            "\n",
            "wget http://bashupload.com/7EDJ3/final.pickle\n",
            "\n",
            "=========================\n",
            "\n",
            "\r100  4926    0   132  100  4794    464  16880 --:--:-- --:--:-- --:--:-- 17345\n"
          ],
          "name": "stdout"
        }
      ]
    },
    {
      "cell_type": "code",
      "metadata": {
        "id": "FuOyT4YwTeBq",
        "colab": {
          "base_uri": "https://localhost:8080/"
        },
        "outputId": "9619635c-c914-4a59-c19d-3fb1caade5f4"
      },
      "source": [
        "!zip mlp.zip *.*\n",
        "!curl bashupload.com -T mlp.zip"
      ],
      "execution_count": 47,
      "outputs": [
        {
          "output_type": "stream",
          "text": [
            "  adding: final.pickle (deflated 21%)\n",
            "  adding: MLP_1_512_corr_0.pth (deflated 8%)\n",
            "  adding: MLP_1_512_corr_100.pth (deflated 8%)\n",
            "  adding: MLP_1_512_corr_20.pth (deflated 8%)\n",
            "  adding: MLP_1_512_corr_40.pth (deflated 8%)\n",
            "  adding: MLP_1_512_corr_60.pth (deflated 8%)\n",
            "  adding: MLP_1_512_corr_80.pth (deflated 8%)\n",
            "  % Total    % Received % Xferd  Average Speed   Time    Time     Time  Current\n",
            "                                 Dload  Upload   Total   Spent    Left  Speed\n",
            " 78 33.3M    0     0   78 26.1M      0  15.4M  0:00:02  0:00:01  0:00:01 15.4M\n",
            "=========================\n",
            "\n",
            "Uploaded 1 file, 34 926 513 bytes\n",
            "\n",
            "wget http://bashupload.com/l4j_7/mlp.zip\n",
            "\n",
            "=========================\n",
            "\n",
            "100 33.3M    0   132  100 33.3M     49  12.5M  0:00:02  0:00:02 --:--:-- 12.5M\n"
          ],
          "name": "stdout"
        }
      ]
    },
    {
      "cell_type": "code",
      "metadata": {
        "id": "ZVr1TnGafWPA"
      },
      "source": [
        ""
      ],
      "execution_count": null,
      "outputs": []
    }
  ]
}