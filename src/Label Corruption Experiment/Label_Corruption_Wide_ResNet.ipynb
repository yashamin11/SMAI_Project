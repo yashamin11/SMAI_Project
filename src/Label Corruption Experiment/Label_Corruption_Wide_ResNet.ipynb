{
  "nbformat": 4,
  "nbformat_minor": 0,
  "metadata": {
    "colab": {
      "name": "Label_Corruption Wide ResNet.ipynb",
      "provenance": [],
      "collapsed_sections": []
    },
    "kernelspec": {
      "name": "python3",
      "display_name": "Python 3"
    },
    "language_info": {
      "name": "python"
    },
    "accelerator": "GPU",
    "widgets": {
      "application/vnd.jupyter.widget-state+json": {
        "82211682ee054e0f8a379274df623ed8": {
          "model_module": "@jupyter-widgets/controls",
          "model_name": "HBoxModel",
          "state": {
            "_view_name": "HBoxView",
            "_dom_classes": [],
            "_model_name": "HBoxModel",
            "_view_module": "@jupyter-widgets/controls",
            "_model_module_version": "1.5.0",
            "_view_count": null,
            "_view_module_version": "1.5.0",
            "box_style": "",
            "layout": "IPY_MODEL_19444ba721524e358d22248a8b3cb92d",
            "_model_module": "@jupyter-widgets/controls",
            "children": [
              "IPY_MODEL_ddec4050944249028fbb9d6aa45249c0",
              "IPY_MODEL_01e9161bb39d473db7517b5d1241f3dd"
            ]
          }
        },
        "19444ba721524e358d22248a8b3cb92d": {
          "model_module": "@jupyter-widgets/base",
          "model_name": "LayoutModel",
          "state": {
            "_view_name": "LayoutView",
            "grid_template_rows": null,
            "right": null,
            "justify_content": null,
            "_view_module": "@jupyter-widgets/base",
            "overflow": null,
            "_model_module_version": "1.2.0",
            "_view_count": null,
            "flex_flow": null,
            "width": null,
            "min_width": null,
            "border": null,
            "align_items": null,
            "bottom": null,
            "_model_module": "@jupyter-widgets/base",
            "top": null,
            "grid_column": null,
            "overflow_y": null,
            "overflow_x": null,
            "grid_auto_flow": null,
            "grid_area": null,
            "grid_template_columns": null,
            "flex": null,
            "_model_name": "LayoutModel",
            "justify_items": null,
            "grid_row": null,
            "max_height": null,
            "align_content": null,
            "visibility": null,
            "align_self": null,
            "height": null,
            "min_height": null,
            "padding": null,
            "grid_auto_rows": null,
            "grid_gap": null,
            "max_width": null,
            "order": null,
            "_view_module_version": "1.2.0",
            "grid_template_areas": null,
            "object_position": null,
            "object_fit": null,
            "grid_auto_columns": null,
            "margin": null,
            "display": null,
            "left": null
          }
        },
        "ddec4050944249028fbb9d6aa45249c0": {
          "model_module": "@jupyter-widgets/controls",
          "model_name": "FloatProgressModel",
          "state": {
            "_view_name": "ProgressView",
            "style": "IPY_MODEL_26a3e88c59e54650868d1cbff739f8d5",
            "_dom_classes": [],
            "description": "",
            "_model_name": "FloatProgressModel",
            "bar_style": "success",
            "max": 170498071,
            "_view_module": "@jupyter-widgets/controls",
            "_model_module_version": "1.5.0",
            "value": 170498071,
            "_view_count": null,
            "_view_module_version": "1.5.0",
            "orientation": "horizontal",
            "min": 0,
            "description_tooltip": null,
            "_model_module": "@jupyter-widgets/controls",
            "layout": "IPY_MODEL_d8be515065bd4bc19c135a1ea07c3379"
          }
        },
        "01e9161bb39d473db7517b5d1241f3dd": {
          "model_module": "@jupyter-widgets/controls",
          "model_name": "HTMLModel",
          "state": {
            "_view_name": "HTMLView",
            "style": "IPY_MODEL_ba6d36716dbf4db984a5487878911558",
            "_dom_classes": [],
            "description": "",
            "_model_name": "HTMLModel",
            "placeholder": "​",
            "_view_module": "@jupyter-widgets/controls",
            "_model_module_version": "1.5.0",
            "value": " 170499072/? [02:43&lt;00:00, 1040495.31it/s]",
            "_view_count": null,
            "_view_module_version": "1.5.0",
            "description_tooltip": null,
            "_model_module": "@jupyter-widgets/controls",
            "layout": "IPY_MODEL_0e96735f23db4b88b07e2cfd948c1932"
          }
        },
        "26a3e88c59e54650868d1cbff739f8d5": {
          "model_module": "@jupyter-widgets/controls",
          "model_name": "ProgressStyleModel",
          "state": {
            "_view_name": "StyleView",
            "_model_name": "ProgressStyleModel",
            "description_width": "initial",
            "_view_module": "@jupyter-widgets/base",
            "_model_module_version": "1.5.0",
            "_view_count": null,
            "_view_module_version": "1.2.0",
            "bar_color": null,
            "_model_module": "@jupyter-widgets/controls"
          }
        },
        "d8be515065bd4bc19c135a1ea07c3379": {
          "model_module": "@jupyter-widgets/base",
          "model_name": "LayoutModel",
          "state": {
            "_view_name": "LayoutView",
            "grid_template_rows": null,
            "right": null,
            "justify_content": null,
            "_view_module": "@jupyter-widgets/base",
            "overflow": null,
            "_model_module_version": "1.2.0",
            "_view_count": null,
            "flex_flow": null,
            "width": null,
            "min_width": null,
            "border": null,
            "align_items": null,
            "bottom": null,
            "_model_module": "@jupyter-widgets/base",
            "top": null,
            "grid_column": null,
            "overflow_y": null,
            "overflow_x": null,
            "grid_auto_flow": null,
            "grid_area": null,
            "grid_template_columns": null,
            "flex": null,
            "_model_name": "LayoutModel",
            "justify_items": null,
            "grid_row": null,
            "max_height": null,
            "align_content": null,
            "visibility": null,
            "align_self": null,
            "height": null,
            "min_height": null,
            "padding": null,
            "grid_auto_rows": null,
            "grid_gap": null,
            "max_width": null,
            "order": null,
            "_view_module_version": "1.2.0",
            "grid_template_areas": null,
            "object_position": null,
            "object_fit": null,
            "grid_auto_columns": null,
            "margin": null,
            "display": null,
            "left": null
          }
        },
        "ba6d36716dbf4db984a5487878911558": {
          "model_module": "@jupyter-widgets/controls",
          "model_name": "DescriptionStyleModel",
          "state": {
            "_view_name": "StyleView",
            "_model_name": "DescriptionStyleModel",
            "description_width": "",
            "_view_module": "@jupyter-widgets/base",
            "_model_module_version": "1.5.0",
            "_view_count": null,
            "_view_module_version": "1.2.0",
            "_model_module": "@jupyter-widgets/controls"
          }
        },
        "0e96735f23db4b88b07e2cfd948c1932": {
          "model_module": "@jupyter-widgets/base",
          "model_name": "LayoutModel",
          "state": {
            "_view_name": "LayoutView",
            "grid_template_rows": null,
            "right": null,
            "justify_content": null,
            "_view_module": "@jupyter-widgets/base",
            "overflow": null,
            "_model_module_version": "1.2.0",
            "_view_count": null,
            "flex_flow": null,
            "width": null,
            "min_width": null,
            "border": null,
            "align_items": null,
            "bottom": null,
            "_model_module": "@jupyter-widgets/base",
            "top": null,
            "grid_column": null,
            "overflow_y": null,
            "overflow_x": null,
            "grid_auto_flow": null,
            "grid_area": null,
            "grid_template_columns": null,
            "flex": null,
            "_model_name": "LayoutModel",
            "justify_items": null,
            "grid_row": null,
            "max_height": null,
            "align_content": null,
            "visibility": null,
            "align_self": null,
            "height": null,
            "min_height": null,
            "padding": null,
            "grid_auto_rows": null,
            "grid_gap": null,
            "max_width": null,
            "order": null,
            "_view_module_version": "1.2.0",
            "grid_template_areas": null,
            "object_position": null,
            "object_fit": null,
            "grid_auto_columns": null,
            "margin": null,
            "display": null,
            "left": null
          }
        }
      }
    }
  },
  "cells": [
    {
      "cell_type": "code",
      "metadata": {
        "id": "kB7QA29UuuzU"
      },
      "source": [
        "import math\n",
        "import copy\n",
        "import numpy as np\n",
        "\n",
        "import torch\n",
        "import torch.nn as nn\n",
        "import torch.nn.functional as F\n",
        "\n",
        "import torch\n",
        "import torchvision\n",
        "import torchvision.transforms as transforms\n",
        "import matplotlib.pyplot as plt\n",
        "import numpy as np\n",
        "import torch.nn as nn\n",
        "import torch.nn.functional as F\n",
        "from torch.utils.data.sampler import SubsetRandomSampler\n",
        "from torchvision.datasets import CIFAR10\n",
        "from torch.utils.data import DataLoader\n",
        "import torch.optim as optim\n",
        "import matplotlib.pyplot as plt\n",
        "from sklearn.metrics import accuracy_score, confusion_matrix, classification_report, f1_score, precision_score, recall_score\n",
        "import pandas as pd\n",
        "import time\n",
        "\n",
        "import pickle"
      ],
      "execution_count": 1,
      "outputs": []
    },
    {
      "cell_type": "code",
      "metadata": {
        "id": "6MNMdY7LW7zi"
      },
      "source": [
        "class CIFAR10Corrupted(CIFAR10):\n",
        "    def __init__(self, corrupt_prob, num_classes=10, **kwargs):\n",
        "        super().__init__(**kwargs)\n",
        "        if corrupt_prob > 0:\n",
        "            self.n_classes = num_classes\n",
        "            self.corrupt_labels(corrupt_prob)\n",
        "\n",
        "    def corrupt_labels(self, corrupt_prob):\n",
        "        labels = np.array(self.targets)\n",
        "        np.random.seed(42)\n",
        "        mask = np.random.rand(len(labels)) <= corrupt_prob\n",
        "        rnd_labels = np.random.choice(self.n_classes, mask.sum())\n",
        "        labels[mask] = rnd_labels\n",
        "        labels = [int(x) for x in labels]\n",
        "        self.targets = labels"
      ],
      "execution_count": 2,
      "outputs": []
    },
    {
      "cell_type": "code",
      "metadata": {
        "id": "aKogcB3OW-xy"
      },
      "source": [
        "def get_cifar_dataloaders_corrupted(corrupt_prob=0, batch_size=32):\n",
        "    transform = transforms.Compose(\n",
        "        [transforms.ToTensor(),\n",
        "        transforms.Normalize((0.5, 0.5, 0.5), (0.5, 0.5, 0.5))])\n",
        "\n",
        "    trainset = CIFAR10Corrupted(root='./CIFAR', train=True, download=True, transform=transform, corrupt_prob=corrupt_prob)\n",
        "    train_loader = DataLoader(trainset, batch_size = batch_size, shuffle = True)\n",
        "    testset = CIFAR10Corrupted(root='./CIFAR', train=False, download=True, transform=transform, corrupt_prob=corrupt_prob)\n",
        "    test_loader = DataLoader(testset, batch_size=batch_size, shuffle=False)\n",
        "    return train_loader, test_loader\n",
        "\n"
      ],
      "execution_count": 3,
      "outputs": []
    },
    {
      "cell_type": "code",
      "metadata": {
        "id": "jKKVFe1KxJFN"
      },
      "source": [
        "class BasicBlock(nn.Module):\n",
        "    def __init__(self, in_planes, out_planes, stride, dropRate=0.0):\n",
        "        super(BasicBlock, self).__init__()\n",
        "        self.bn1 = nn.BatchNorm2d(in_planes)\n",
        "        self.relu1 = nn.ReLU(inplace=True)\n",
        "        self.conv1 = nn.Conv2d(in_planes, out_planes, kernel_size=3, stride=stride,\n",
        "                                padding=1, bias=False)\n",
        "        self.bn2 = nn.BatchNorm2d(out_planes)\n",
        "        self.relu2 = nn.ReLU(inplace=True)\n",
        "        self.conv2 = nn.Conv2d(out_planes, out_planes, kernel_size=3, stride=1,\n",
        "                                padding=1, bias=False)\n",
        "        self.droprate = dropRate\n",
        "        self.equalInOut = (in_planes == out_planes)\n",
        "        self.convShortcut = (not self.equalInOut) and nn.Conv2d(in_planes, out_planes, kernel_size=1, stride=stride,\n",
        "                                                                padding=0, bias=False) or None\n",
        "\n",
        "    def forward(self, x):\n",
        "        if not self.equalInOut:\n",
        "            x = self.relu1(self.bn1(x))\n",
        "            out = self.conv1(x)\n",
        "        else:\n",
        "            out = self.conv1(self.relu1(self.bn1(x)))\n",
        "\n",
        "        if self.droprate > 0:\n",
        "            out = F.dropout(out, p=self.droprate, training=self.training)\n",
        "        out = self.conv2(self.relu2(self.bn2(out)))\n",
        "        if not self.equalInOut:\n",
        "            return torch.add(self.convShortcut(x), out)\n",
        "        else:\n",
        "            return torch.add(x, out)\n",
        "\n",
        "\n",
        "class NetworkBlock(nn.Module):\n",
        "        def __init__(self, nb_layers, in_planes, out_planes, block, stride, dropRate=0.0):\n",
        "            super(NetworkBlock, self).__init__()\n",
        "            self.layer = self._make_layer(block, in_planes, out_planes, nb_layers, stride, dropRate)\n",
        "\n",
        "        def _make_layer(self, block, in_planes, out_planes, nb_layers, stride, dropRate):\n",
        "            layers = []\n",
        "            for i in range(nb_layers):\n",
        "                layers.append(block(i == 0 and in_planes or out_planes, out_planes, i == 0 and stride or 1, dropRate))\n",
        "            return nn.Sequential(*layers)\n",
        "\n",
        "        def forward(self, x):\n",
        "            return self.layer(x)\n",
        "\n",
        "\n",
        "class WideResNet(nn.Module):\n",
        "    def __init__(self, depth=28, num_classes=10, widen_factor=1, drop_rate=0.0, init_scale=1.0):\n",
        "        super(WideResNet, self).__init__()\n",
        "\n",
        "        nChannels = [16, 16 * widen_factor, 32 * widen_factor, 64 * widen_factor]\n",
        "        assert((depth - 4) % 6 == 0)\n",
        "        n = (depth - 4) // 6\n",
        "        block = BasicBlock\n",
        "        # 1st conv before any network block\n",
        "        self.conv1 = nn.Conv2d(3, nChannels[0], kernel_size=3, stride=1,\n",
        "                                padding=1, bias=False)\n",
        "        # 1st block\n",
        "        self.block1 = NetworkBlock(\n",
        "            n, nChannels[0], nChannels[1], block, 1, drop_rate)\n",
        "        # 2nd block\n",
        "        self.block2 = NetworkBlock(n, nChannels[1], nChannels[2], block, 2, drop_rate)\n",
        "        # 3rd block\n",
        "        self.block3 = NetworkBlock(n, nChannels[2], nChannels[3], block, 2, drop_rate)\n",
        "        # global average pooling and classifier\n",
        "        self.bn1 = nn.BatchNorm2d(nChannels[3])\n",
        "        self.relu = nn.ReLU(inplace=True)\n",
        "        self.fc = nn.Linear(nChannels[3], num_classes)\n",
        "        self.nChannels = nChannels[3]\n",
        "\n",
        "        for m in self.modules():\n",
        "            if isinstance(m, nn.Conv2d):\n",
        "                n = m.kernel_size[0] * m.kernel_size[1] * m.out_channels\n",
        "                m.weight.data.normal_(0, init_scale * math.sqrt(2. / n))\n",
        "            elif isinstance(m, nn.BatchNorm2d):\n",
        "                m.weight.data.fill_(1)\n",
        "                m.bias.data.zero_()\n",
        "            elif isinstance(m, nn.Linear):\n",
        "                m.bias.data.zero_()\n",
        "\n",
        "                size = m.weight.size()\n",
        "                fan_out = size[0] # number of rows\n",
        "                fan_in = size[1] # number of columns\n",
        "                variance = math.sqrt(2.0/(fan_in + fan_out))\n",
        "                m.weight.data.normal_(0.0, init_scale * variance)\n",
        "\n",
        "\n",
        "    def forward(self, x):\n",
        "        out = self.forward_repr(x)\n",
        "        return self.fc(out)\n",
        "\n",
        "    def forward_repr(self, x):\n",
        "        out = self.conv1(x)\n",
        "        out = self.block1(out)\n",
        "        out = self.block2(out)\n",
        "        out = self.block3(out)\n",
        "        out = self.relu(self.bn1(out))\n",
        "        out = F.avg_pool2d(out, 8)\n",
        "        out = out.view(-1, self.nChannels)\n",
        "        return out"
      ],
      "execution_count": 4,
      "outputs": []
    },
    {
      "cell_type": "code",
      "metadata": {
        "id": "Hz1oQr_mxLcs"
      },
      "source": [
        "def run_train_single_epoch(train_loader, model, device, criterion, optimizer):\n",
        "    running_loss = 0.0\n",
        "    num_correct = 0\n",
        "    for batch_num, data in enumerate(train_loader):\n",
        "        inputs, labels = data\n",
        "        inputs = inputs.to(device)\n",
        "        labels = labels.to(device)\n",
        "        outputs = model(inputs)\n",
        "        loss = criterion(outputs, labels)\n",
        "        optimizer.zero_grad()\n",
        "        loss.backward()\n",
        "        optimizer.step()\n",
        "        running_loss += loss.item()*len(inputs)\n",
        "        if batch_num%200==0:\n",
        "            print(\"Batch {} Loss: {}\".format(batch_num, loss.item()))\n",
        "        preds = outputs.argmax(1)\n",
        "        num_correct += (preds==labels).sum().item()\n",
        "    epoch_loss = running_loss/len(train_loader.sampler)\n",
        "    epoch_acc = num_correct/len(train_loader.sampler)\n",
        "    return epoch_loss, epoch_acc\n",
        "\n",
        "def run_validation_single_epoch(valid_loader, model, device, criterion):\n",
        "    running_loss = 0.0\n",
        "    num_correct = 0\n",
        "    for batch_num, data in enumerate(valid_loader):\n",
        "        inputs, labels = data\n",
        "        inputs = inputs.to(device)\n",
        "        labels = labels.to(device)\n",
        "        outputs = model(inputs)\n",
        "        loss = criterion(outputs, labels)\n",
        "        running_loss += loss.item()*len(inputs)\n",
        "        preds = outputs.argmax(1)\n",
        "        num_correct += (preds==labels).sum().item()\n",
        "    epoch_loss = running_loss/len(valid_loader.sampler)\n",
        "    epoch_acc = num_correct/len(valid_loader.sampler)\n",
        "    return epoch_loss, epoch_acc\n",
        "\n",
        "def training_loop(model, num_epochs, train_loader, valid_loader, device, \\\n",
        "                  criterion, optimizer, model_name):\n",
        "    train_losses, valid_losses = [], []\n",
        "    train_accs, valid_accs = [], []\n",
        "    highest_acc = 1e-10\n",
        "    for epoch in range(num_epochs):\n",
        "        model.train()\n",
        "        train_loss, train_acc = run_train_single_epoch(train_loader, model, device, criterion, optimizer)\n",
        "        model.eval()\n",
        "        valid_loss, valid_acc = run_validation_single_epoch(valid_loader, model, device, criterion)\n",
        "        print(\"[Epoch {}] Train Loss: {} Vaidation Loss: {} Train Acc: {} Validation Acc: {}\".format(\\\n",
        "              epoch, train_loss, valid_loss, train_acc, valid_acc))\n",
        "        train_losses.append(train_loss)\n",
        "        valid_losses.append(valid_loss)\n",
        "        train_accs.append(train_acc)\n",
        "        valid_accs.append(valid_acc)\n",
        "        if valid_acc > highest_acc:\n",
        "            torch.save(model.state_dict(), \"{}.pth\".format(model_name))\n",
        "            highest_acc = valid_acc\n",
        "    print('Finished Training')\n",
        "    return train_losses, valid_losses, train_accs, valid_accs\n",
        "\n",
        "def run_testing(test_loader, model, device):\n",
        "    model.eval()\n",
        "    gt_all, preds_all = [], []\n",
        "    for batch_num, data in enumerate(test_loader):\n",
        "        inputs, labels = data\n",
        "        inputs = inputs.to(device)\n",
        "        labels = labels.to(device)\n",
        "        outputs = model(inputs)\n",
        "        preds = outputs.argmax(1)\n",
        "        gt_all.extend(labels.tolist())\n",
        "        preds_all.extend(preds.tolist())\n",
        "    return gt_all, preds_all\n",
        "    "
      ],
      "execution_count": 5,
      "outputs": []
    },
    {
      "cell_type": "code",
      "metadata": {
        "id": "_34xgQBr1Cjp"
      },
      "source": [
        "def plot_losses(training_loss_arr, validation_loss_arr, training_acc_arr, validation_acc_arr, \\\n",
        "                title):\n",
        "    num_epochs = len(training_loss_arr)\n",
        "    plt.figure(figsize=(16,6))\n",
        "    plt.subplot(1,2,1)\n",
        "    ax = plt.gca()\n",
        "    ax.plot(range(num_epochs), training_loss_arr, '-bo', label=\"Training Loss\")\n",
        "    ax.plot(range(num_epochs), validation_loss_arr, '-ro', label=\"Validation Loss\")\n",
        "    ax.legend()\n",
        "    ax.set_xlabel(\"Epochs\")\n",
        "    ax.set_ylabel(\"Loss\")\n",
        "    ax.set_title(title)\n",
        "    plt.subplot(1,2,2)\n",
        "    ax = plt.gca()\n",
        "    ax.plot(range(num_epochs), training_acc_arr, '-bo', label=\"Training Acc\")\n",
        "    ax.plot(range(num_epochs), validation_acc_arr, '-ro', label=\"Validation Acc\")\n",
        "    ax.legend()\n",
        "    ax.set_xlabel(\"Epochs\")\n",
        "    ax.set_ylabel(\"Accuracy\")\n",
        "    ax.set_title(title)    "
      ],
      "execution_count": 6,
      "outputs": []
    },
    {
      "cell_type": "code",
      "metadata": {
        "id": "8vPz9pPJSrup"
      },
      "source": [
        "final_dict = dict()"
      ],
      "execution_count": 7,
      "outputs": []
    },
    {
      "cell_type": "code",
      "metadata": {
        "colab": {
          "base_uri": "https://localhost:8080/",
          "height": 134,
          "referenced_widgets": [
            "82211682ee054e0f8a379274df623ed8",
            "19444ba721524e358d22248a8b3cb92d",
            "ddec4050944249028fbb9d6aa45249c0",
            "01e9161bb39d473db7517b5d1241f3dd",
            "26a3e88c59e54650868d1cbff739f8d5",
            "d8be515065bd4bc19c135a1ea07c3379",
            "ba6d36716dbf4db984a5487878911558",
            "0e96735f23db4b88b07e2cfd948c1932"
          ]
        },
        "id": "5vvHX9oFKMPk",
        "outputId": "5dafc1ea-bfc9-42ff-bd28-56b5b8344533"
      },
      "source": [
        "train_loader, test_loader = get_cifar_dataloaders_corrupted(0)\n",
        "criterion = nn.CrossEntropyLoss()\n",
        "\n",
        "device = torch.device(\"cuda:0\" if torch.cuda.is_available() else \"cpu\")\n",
        "print(device)\n"
      ],
      "execution_count": 8,
      "outputs": [
        {
          "output_type": "stream",
          "text": [
            "Downloading https://www.cs.toronto.edu/~kriz/cifar-10-python.tar.gz to ./CIFAR/cifar-10-python.tar.gz\n"
          ],
          "name": "stdout"
        },
        {
          "output_type": "display_data",
          "data": {
            "application/vnd.jupyter.widget-view+json": {
              "model_id": "82211682ee054e0f8a379274df623ed8",
              "version_minor": 0,
              "version_major": 2
            },
            "text/plain": [
              "HBox(children=(FloatProgress(value=0.0, max=170498071.0), HTML(value='')))"
            ]
          },
          "metadata": {
            "tags": []
          }
        },
        {
          "output_type": "stream",
          "text": [
            "\n",
            "Extracting ./CIFAR/cifar-10-python.tar.gz to ./CIFAR\n",
            "Files already downloaded and verified\n",
            "cuda:0\n"
          ],
          "name": "stdout"
        }
      ]
    },
    {
      "cell_type": "code",
      "metadata": {
        "id": "dkESDnTEK9kG"
      },
      "source": [
        "model = WideResNet()\n",
        "model = model.to(device)\n",
        "optimizer = optim.SGD(model.parameters(), lr=1e-3, momentum=0.9)\n"
      ],
      "execution_count": 9,
      "outputs": []
    },
    {
      "cell_type": "code",
      "metadata": {
        "colab": {
          "base_uri": "https://localhost:8080/"
        },
        "id": "MNgXXaQoLXES",
        "outputId": "43e7dd29-fb64-4cac-bce3-5f03cbe6d815"
      },
      "source": [
        "train_losses, valid_losses, train_accs, validation_accs = training_loop(model, 20, train_loader, test_loader,\n",
        "                                          device, criterion, optimizer, \"WideResNet_corr_0\")"
      ],
      "execution_count": 10,
      "outputs": [
        {
          "output_type": "stream",
          "text": [
            "Batch 0 Loss: 2.337498664855957\n",
            "Batch 200 Loss: 2.0058460235595703\n",
            "Batch 400 Loss: 1.8910375833511353\n",
            "Batch 600 Loss: 2.186770439147949\n",
            "Batch 800 Loss: 1.562384843826294\n",
            "Batch 1000 Loss: 1.721944808959961\n",
            "Batch 1200 Loss: 1.8624076843261719\n",
            "Batch 1400 Loss: 1.7211198806762695\n",
            "[Epoch 0] Train Loss: 1.8283843942260742 Vaidation Loss: 1.6194801570892334 Train Acc: 0.3109 Validation Acc: 0.4022\n",
            "Batch 0 Loss: 1.659466028213501\n",
            "Batch 200 Loss: 1.7749823331832886\n",
            "Batch 400 Loss: 1.5277460813522339\n",
            "Batch 600 Loss: 1.6691679954528809\n",
            "Batch 800 Loss: 1.4535441398620605\n",
            "Batch 1000 Loss: 1.2578448057174683\n",
            "Batch 1200 Loss: 1.274122714996338\n",
            "Batch 1400 Loss: 1.1940473318099976\n",
            "[Epoch 1] Train Loss: 1.5315416903305055 Vaidation Loss: 1.4212752437591554 Train Acc: 0.43532 Validation Acc: 0.4813\n",
            "Batch 0 Loss: 1.4164342880249023\n",
            "Batch 200 Loss: 1.4888368844985962\n",
            "Batch 400 Loss: 1.6750929355621338\n",
            "Batch 600 Loss: 1.1392557621002197\n",
            "Batch 800 Loss: 1.251435399055481\n",
            "Batch 1000 Loss: 1.6396524906158447\n",
            "Batch 1200 Loss: 1.2357178926467896\n",
            "Batch 1400 Loss: 1.3465371131896973\n",
            "[Epoch 2] Train Loss: 1.3530663598632813 Vaidation Loss: 1.2410718505859375 Train Acc: 0.50798 Validation Acc: 0.5495\n",
            "Batch 0 Loss: 0.9941672086715698\n",
            "Batch 200 Loss: 1.2458423376083374\n",
            "Batch 400 Loss: 1.52162504196167\n",
            "Batch 600 Loss: 1.3307863473892212\n",
            "Batch 800 Loss: 1.4644466638565063\n",
            "Batch 1000 Loss: 1.0199034214019775\n",
            "Batch 1200 Loss: 0.9843999147415161\n",
            "Batch 1400 Loss: 1.2358101606369019\n",
            "[Epoch 3] Train Loss: 1.2192796968460082 Vaidation Loss: 1.1159208908081055 Train Acc: 0.5569 Validation Acc: 0.5975\n",
            "Batch 0 Loss: 1.1054317951202393\n",
            "Batch 200 Loss: 1.0788098573684692\n",
            "Batch 400 Loss: 1.2893468141555786\n",
            "Batch 600 Loss: 0.9270544648170471\n",
            "Batch 800 Loss: 1.1680740118026733\n",
            "Batch 1000 Loss: 0.8319216370582581\n",
            "Batch 1200 Loss: 0.8533186912536621\n",
            "Batch 1400 Loss: 0.9483409523963928\n",
            "[Epoch 4] Train Loss: 1.1129007028961182 Vaidation Loss: 1.046696485900879 Train Acc: 0.59762 Validation Acc: 0.6303\n",
            "Batch 0 Loss: 1.0088860988616943\n",
            "Batch 200 Loss: 1.2640819549560547\n",
            "Batch 400 Loss: 0.9784746170043945\n",
            "Batch 600 Loss: 0.8233392834663391\n",
            "Batch 800 Loss: 0.7184439897537231\n",
            "Batch 1000 Loss: 0.8233118653297424\n",
            "Batch 1200 Loss: 1.0144644975662231\n",
            "Batch 1400 Loss: 0.912100076675415\n",
            "[Epoch 5] Train Loss: 1.0343313947677613 Vaidation Loss: 0.9712619243621826 Train Acc: 0.62994 Validation Acc: 0.6528\n",
            "Batch 0 Loss: 0.780182957649231\n",
            "Batch 200 Loss: 0.8210418820381165\n",
            "Batch 400 Loss: 0.8258239030838013\n",
            "Batch 600 Loss: 0.9581330418586731\n",
            "Batch 800 Loss: 0.8479142189025879\n",
            "Batch 1000 Loss: 0.6656054258346558\n",
            "Batch 1200 Loss: 1.0510319471359253\n",
            "Batch 1400 Loss: 0.7255676984786987\n",
            "[Epoch 6] Train Loss: 0.9653417395973205 Vaidation Loss: 0.9643759742736816 Train Acc: 0.65606 Validation Acc: 0.6553\n",
            "Batch 0 Loss: 1.1304126977920532\n",
            "Batch 200 Loss: 0.8593473434448242\n",
            "Batch 400 Loss: 0.9196738004684448\n",
            "Batch 600 Loss: 0.7343961596488953\n",
            "Batch 800 Loss: 0.887496829032898\n",
            "Batch 1000 Loss: 1.0442578792572021\n",
            "Batch 1200 Loss: 0.6472365260124207\n",
            "Batch 1400 Loss: 1.0534005165100098\n",
            "[Epoch 7] Train Loss: 0.9004870710372925 Vaidation Loss: 0.8886073271751403 Train Acc: 0.67992 Validation Acc: 0.6859\n",
            "Batch 0 Loss: 0.9023009538650513\n",
            "Batch 200 Loss: 0.9760716557502747\n",
            "Batch 400 Loss: 0.6398792862892151\n",
            "Batch 600 Loss: 1.2335243225097656\n",
            "Batch 800 Loss: 0.8770141005516052\n",
            "Batch 1000 Loss: 0.7726104855537415\n",
            "Batch 1200 Loss: 0.5969355702400208\n",
            "Batch 1400 Loss: 1.127198338508606\n",
            "[Epoch 8] Train Loss: 0.8475806211471557 Vaidation Loss: 0.8635395422935486 Train Acc: 0.69976 Validation Acc: 0.6915\n",
            "Batch 0 Loss: 1.244386076927185\n",
            "Batch 200 Loss: 0.6250450015068054\n",
            "Batch 400 Loss: 0.7127800583839417\n",
            "Batch 600 Loss: 0.7519116401672363\n",
            "Batch 800 Loss: 1.272870421409607\n",
            "Batch 1000 Loss: 0.6796939969062805\n",
            "Batch 1200 Loss: 0.7178352475166321\n",
            "Batch 1400 Loss: 0.9830243587493896\n",
            "[Epoch 9] Train Loss: 0.7964186722946167 Vaidation Loss: 0.8506715147972107 Train Acc: 0.71814 Validation Acc: 0.6972\n",
            "Batch 0 Loss: 0.4781610369682312\n",
            "Batch 200 Loss: 0.6232157349586487\n",
            "Batch 400 Loss: 0.8324204683303833\n",
            "Batch 600 Loss: 0.6344848871231079\n",
            "Batch 800 Loss: 0.8534122705459595\n",
            "Batch 1000 Loss: 0.6793444156646729\n",
            "Batch 1200 Loss: 0.725723147392273\n",
            "Batch 1400 Loss: 0.5060375928878784\n",
            "[Epoch 10] Train Loss: 0.7412157245445251 Vaidation Loss: 0.804659687614441 Train Acc: 0.7392 Validation Acc: 0.7193\n",
            "Batch 0 Loss: 0.4153772294521332\n",
            "Batch 200 Loss: 0.6846156716346741\n",
            "Batch 400 Loss: 0.6042887568473816\n",
            "Batch 600 Loss: 0.960054874420166\n",
            "Batch 800 Loss: 0.4762745201587677\n",
            "Batch 1000 Loss: 0.7579569220542908\n",
            "Batch 1200 Loss: 0.6043494939804077\n",
            "Batch 1400 Loss: 1.1031566858291626\n",
            "[Epoch 11] Train Loss: 0.6977378700065613 Vaidation Loss: 0.8294140342712403 Train Acc: 0.75346 Validation Acc: 0.709\n",
            "Batch 0 Loss: 0.8441376090049744\n",
            "Batch 200 Loss: 0.6356372833251953\n",
            "Batch 400 Loss: 0.40013062953948975\n",
            "Batch 600 Loss: 0.8983418941497803\n",
            "Batch 800 Loss: 0.4776488244533539\n",
            "Batch 1000 Loss: 0.5333291292190552\n",
            "Batch 1200 Loss: 0.7025424838066101\n",
            "Batch 1400 Loss: 0.5678670406341553\n",
            "[Epoch 12] Train Loss: 0.6586589855861664 Vaidation Loss: 0.7627226901054383 Train Acc: 0.76968 Validation Acc: 0.7355\n",
            "Batch 0 Loss: 0.4050848186016083\n",
            "Batch 200 Loss: 0.5599091053009033\n",
            "Batch 400 Loss: 0.8854081034660339\n",
            "Batch 600 Loss: 0.6515395641326904\n",
            "Batch 800 Loss: 0.5055391788482666\n",
            "Batch 1000 Loss: 0.8545669317245483\n",
            "Batch 1200 Loss: 0.5699518918991089\n",
            "Batch 1400 Loss: 0.49313145875930786\n",
            "[Epoch 13] Train Loss: 0.6158665525436401 Vaidation Loss: 0.7475221652030944 Train Acc: 0.78556 Validation Acc: 0.7389\n",
            "Batch 0 Loss: 0.4622933566570282\n",
            "Batch 200 Loss: 0.39546075463294983\n",
            "Batch 400 Loss: 0.6650335788726807\n",
            "Batch 600 Loss: 0.7502810955047607\n",
            "Batch 800 Loss: 0.2883205711841583\n",
            "Batch 1000 Loss: 0.5508983731269836\n",
            "Batch 1200 Loss: 0.49090418219566345\n",
            "Batch 1400 Loss: 0.8535031676292419\n",
            "[Epoch 14] Train Loss: 0.5736423621463775 Vaidation Loss: 0.7539745756149292 Train Acc: 0.7985 Validation Acc: 0.7412\n",
            "Batch 0 Loss: 0.7388423085212708\n",
            "Batch 200 Loss: 0.48644375801086426\n",
            "Batch 400 Loss: 0.2927885353565216\n",
            "Batch 600 Loss: 0.6005696058273315\n",
            "Batch 800 Loss: 0.4163961410522461\n",
            "Batch 1000 Loss: 0.7756821513175964\n",
            "Batch 1200 Loss: 0.77938312292099\n",
            "Batch 1400 Loss: 1.0610569715499878\n",
            "[Epoch 15] Train Loss: 0.5364544781303405 Vaidation Loss: 0.7585405570983886 Train Acc: 0.812 Validation Acc: 0.7386\n",
            "Batch 0 Loss: 0.4888959527015686\n",
            "Batch 200 Loss: 0.8914681077003479\n",
            "Batch 400 Loss: 0.446770042181015\n",
            "Batch 600 Loss: 0.2204044759273529\n",
            "Batch 800 Loss: 0.46456193923950195\n",
            "Batch 1000 Loss: 0.5230739116668701\n",
            "Batch 1200 Loss: 0.31164076924324036\n",
            "Batch 1400 Loss: 0.28272131085395813\n",
            "[Epoch 16] Train Loss: 0.5026914762878418 Vaidation Loss: 0.7755925790786743 Train Acc: 0.82316 Validation Acc: 0.7388\n",
            "Batch 0 Loss: 0.4990702271461487\n",
            "Batch 200 Loss: 0.49760210514068604\n",
            "Batch 400 Loss: 0.5761702656745911\n",
            "Batch 600 Loss: 0.5125213861465454\n",
            "Batch 800 Loss: 0.3731960654258728\n",
            "Batch 1000 Loss: 0.3664970397949219\n",
            "Batch 1200 Loss: 0.37784746289253235\n",
            "Batch 1400 Loss: 0.6330729126930237\n",
            "[Epoch 17] Train Loss: 0.47279756677627566 Vaidation Loss: 0.8228273368835449 Train Acc: 0.836 Validation Acc: 0.7316\n",
            "Batch 0 Loss: 0.20377956330776215\n",
            "Batch 200 Loss: 0.36039477586746216\n",
            "Batch 400 Loss: 0.18084093928337097\n",
            "Batch 600 Loss: 0.2742498517036438\n",
            "Batch 800 Loss: 0.6882073283195496\n",
            "Batch 1000 Loss: 0.678392231464386\n",
            "Batch 1200 Loss: 0.21261414885520935\n",
            "Batch 1400 Loss: 0.38684388995170593\n",
            "[Epoch 18] Train Loss: 0.4434483412694931 Vaidation Loss: 0.7955698867797851 Train Acc: 0.84606 Validation Acc: 0.7353\n",
            "Batch 0 Loss: 0.40896251797676086\n",
            "Batch 200 Loss: 0.3666709363460541\n",
            "Batch 400 Loss: 0.3871475160121918\n",
            "Batch 600 Loss: 0.48649176955223083\n",
            "Batch 800 Loss: 0.8487496376037598\n",
            "Batch 1000 Loss: 0.7736952304840088\n",
            "Batch 1200 Loss: 0.3901205062866211\n",
            "Batch 1400 Loss: 0.3967123031616211\n",
            "[Epoch 19] Train Loss: 0.40626951919078824 Vaidation Loss: 0.7637350364685058 Train Acc: 0.85812 Validation Acc: 0.7455\n",
            "Finished Training\n"
          ],
          "name": "stdout"
        }
      ]
    },
    {
      "cell_type": "code",
      "metadata": {
        "id": "29yF-QC0LbX4",
        "colab": {
          "base_uri": "https://localhost:8080/",
          "height": 404
        },
        "outputId": "d49b7a41-5ee8-4c33-c46f-edf56631cfae"
      },
      "source": [
        "plot_losses(train_losses, valid_losses, train_accs, validation_accs, \"WideResNet 0% corruption\")"
      ],
      "execution_count": 11,
      "outputs": [
        {
          "output_type": "display_data",
          "data": {
            "image/png": "[encoded data removed]",
            "text/plain": [
              "<Figure size 1152x432 with 2 Axes>"
            ]
          },
          "metadata": {
            "tags": [],
            "needs_background": "light"
          }
        }
      ]
    },
    {
      "cell_type": "code",
      "metadata": {
        "id": "uRXpocMQLf71",
        "colab": {
          "base_uri": "https://localhost:8080/"
        },
        "outputId": "0662dcd3-d566-4e55-f79e-f0a15c1e6715"
      },
      "source": [
        "model = WideResNet()\n",
        "sd = torch.load(\"WideResNet_corr_0.pth\")\n",
        "model.load_state_dict(sd)\n",
        "model = model.to(device)\n",
        "testy, pred = run_testing(test_loader, model, device)\n",
        "\n",
        "print(\"Accuracy:\", accuracy_score(testy, pred))\n",
        "print(\"Confusion Matrix:\\n\", confusion_matrix(testy, pred))\n"
      ],
      "execution_count": 12,
      "outputs": [
        {
          "output_type": "stream",
          "text": [
            "Accuracy: 0.7455\n",
            "Confusion Matrix:\n",
            " [[802  14  41  20  10   0   9   4  69  31]\n",
            " [ 12 852   6  10   2   4   5   1  34  74]\n",
            " [ 82   3 615  54 116  32  58  16  18   6]\n",
            " [ 16   3  78 628  79  90  61   8  29   8]\n",
            " [ 21   1  71  52 773  17  31  19  14   1]\n",
            " [ 12   1  63 216  71 567  20  35  10   5]\n",
            " [  7   4  55  53  59  13 797   0  10   2]\n",
            " [ 23   2  53  45 130  35   5 680   7  20]\n",
            " [ 57  13  11  13   6   1   2   0 881  16]\n",
            " [ 28  53   6  10   8   1   4   1  29 860]]\n"
          ],
          "name": "stdout"
        }
      ]
    },
    {
      "cell_type": "code",
      "metadata": {
        "id": "Yrz3pv4_Yx_X"
      },
      "source": [
        "final_dict[0] = {}\n",
        "final_dict[0][\"train_losses\"] = train_losses\n",
        "final_dict[0][\"valid_losses\"] = valid_losses\n",
        "final_dict[0][\"train_accs\"] = train_accs\n",
        "final_dict[0][\"validation_accs\"] = validation_accs\n",
        "final_dict[0][\"best_test_acc\"] = accuracy_score(testy, pred)\n"
      ],
      "execution_count": 13,
      "outputs": []
    },
    {
      "cell_type": "code",
      "metadata": {
        "id": "KtjjzocXSx5m",
        "colab": {
          "base_uri": "https://localhost:8080/"
        },
        "outputId": "3c40f299-d7e8-4e0e-a1e7-976a78fbc2af"
      },
      "source": [
        "train_loader, test_loader = get_cifar_dataloaders_corrupted(0.2)\n",
        "criterion = nn.CrossEntropyLoss()\n",
        "\n",
        "device = torch.device(\"cuda:0\" if torch.cuda.is_available() else \"cpu\")\n",
        "print(device)\n"
      ],
      "execution_count": 14,
      "outputs": [
        {
          "output_type": "stream",
          "text": [
            "Files already downloaded and verified\n",
            "Files already downloaded and verified\n",
            "cuda:0\n"
          ],
          "name": "stdout"
        }
      ]
    },
    {
      "cell_type": "code",
      "metadata": {
        "id": "MNPVD-NvSx5p"
      },
      "source": [
        "model = WideResNet()\n",
        "model = model.to(device)\n",
        "optimizer = optim.SGD(model.parameters(), lr=1e-3, momentum=0.9)\n"
      ],
      "execution_count": 15,
      "outputs": []
    },
    {
      "cell_type": "code",
      "metadata": {
        "id": "N-ED8AuMSx5p",
        "colab": {
          "base_uri": "https://localhost:8080/"
        },
        "outputId": "4c81f3ab-d1bf-4a45-e4d4-cb24440489e0"
      },
      "source": [
        "train_losses, valid_losses, train_accs, validation_accs = training_loop(model, 20, train_loader, test_loader,\n",
        "                                          device, criterion, optimizer, \"WideResNet_corr_20\")"
      ],
      "execution_count": 16,
      "outputs": [
        {
          "output_type": "stream",
          "text": [
            "Batch 0 Loss: 2.38791561126709\n",
            "Batch 200 Loss: 2.2267348766326904\n",
            "Batch 400 Loss: 2.235196590423584\n",
            "Batch 600 Loss: 2.0153257846832275\n",
            "Batch 800 Loss: 1.7817672491073608\n",
            "Batch 1000 Loss: 2.021921396255493\n",
            "Batch 1200 Loss: 2.0341742038726807\n",
            "Batch 1400 Loss: 1.7957864999771118\n",
            "[Epoch 0] Train Loss: 2.0487940308380126 Vaidation Loss: 1.9156824401855468 Train Acc: 0.25692 Validation Acc: 0.3169\n",
            "Batch 0 Loss: 1.8895601034164429\n",
            "Batch 200 Loss: 2.098494291305542\n",
            "Batch 400 Loss: 2.07698392868042\n",
            "Batch 600 Loss: 1.8325347900390625\n",
            "Batch 800 Loss: 2.1745967864990234\n",
            "Batch 1000 Loss: 1.8339595794677734\n",
            "Batch 1200 Loss: 1.962721586227417\n",
            "Batch 1400 Loss: 1.7805895805358887\n",
            "[Epoch 1] Train Loss: 1.8767218566131592 Vaidation Loss: 1.8130990114212036 Train Acc: 0.34458 Validation Acc: 0.3745\n",
            "Batch 0 Loss: 1.6275197267532349\n",
            "Batch 200 Loss: 1.9195656776428223\n",
            "Batch 400 Loss: 2.0529463291168213\n",
            "Batch 600 Loss: 1.6829544305801392\n",
            "Batch 800 Loss: 1.9740087985992432\n",
            "Batch 1000 Loss: 1.8764619827270508\n",
            "Batch 1200 Loss: 1.850599765777588\n",
            "Batch 1400 Loss: 1.5878738164901733\n",
            "[Epoch 2] Train Loss: 1.788059895401001 Vaidation Loss: 1.739378084373474 Train Acc: 0.39278 Validation Acc: 0.4162\n",
            "Batch 0 Loss: 1.5067976713180542\n",
            "Batch 200 Loss: 1.8601465225219727\n",
            "Batch 400 Loss: 1.6105003356933594\n",
            "Batch 600 Loss: 1.464850902557373\n",
            "Batch 800 Loss: 1.6305118799209595\n",
            "Batch 1000 Loss: 1.7514833211898804\n",
            "Batch 1200 Loss: 1.8966976404190063\n",
            "Batch 1400 Loss: 1.9216432571411133\n",
            "[Epoch 3] Train Loss: 1.7161622429275514 Vaidation Loss: 1.6694092472076416 Train Acc: 0.43156 Validation Acc: 0.4591\n",
            "Batch 0 Loss: 1.4095897674560547\n",
            "Batch 200 Loss: 2.0268561840057373\n",
            "Batch 400 Loss: 1.737207293510437\n",
            "Batch 600 Loss: 1.7914129495620728\n",
            "Batch 800 Loss: 1.8310213088989258\n",
            "Batch 1000 Loss: 1.6436699628829956\n",
            "Batch 1200 Loss: 1.702113151550293\n",
            "Batch 1400 Loss: 1.6087957620620728\n",
            "[Epoch 4] Train Loss: 1.6514678003311156 Vaidation Loss: 1.6427473554611205 Train Acc: 0.46378 Validation Acc: 0.4771\n",
            "Batch 0 Loss: 1.2453579902648926\n",
            "Batch 200 Loss: 1.3909155130386353\n",
            "Batch 400 Loss: 2.2886712551116943\n",
            "Batch 600 Loss: 1.528037667274475\n",
            "Batch 800 Loss: 1.551397681236267\n",
            "Batch 1000 Loss: 1.6662410497665405\n",
            "Batch 1200 Loss: 1.969919204711914\n",
            "Batch 1400 Loss: 1.4760249853134155\n",
            "[Epoch 5] Train Loss: 1.598479934616089 Vaidation Loss: 1.5878542985916138 Train Acc: 0.49214 Validation Acc: 0.5033\n",
            "Batch 0 Loss: 1.4867305755615234\n",
            "Batch 200 Loss: 1.8052797317504883\n",
            "Batch 400 Loss: 1.6001149415969849\n",
            "Batch 600 Loss: 1.9647170305252075\n",
            "Batch 800 Loss: 1.6555849313735962\n",
            "Batch 1000 Loss: 1.8300645351409912\n",
            "Batch 1200 Loss: 1.8328452110290527\n",
            "Batch 1400 Loss: 1.3132870197296143\n",
            "[Epoch 6] Train Loss: 1.557867186203003 Vaidation Loss: 1.5569672834396362 Train Acc: 0.51146 Validation Acc: 0.5206\n",
            "Batch 0 Loss: 1.8540856838226318\n",
            "Batch 200 Loss: 1.9227042198181152\n",
            "Batch 400 Loss: 1.1972949504852295\n",
            "Batch 600 Loss: 1.374941110610962\n",
            "Batch 800 Loss: 1.90105402469635\n",
            "Batch 1000 Loss: 1.4018068313598633\n",
            "Batch 1200 Loss: 1.6309857368469238\n",
            "Batch 1400 Loss: 1.9428563117980957\n",
            "[Epoch 7] Train Loss: 1.5170919164657592 Vaidation Loss: 1.5507796062469483 Train Acc: 0.53112 Validation Acc: 0.5196\n",
            "Batch 0 Loss: 1.4242750406265259\n",
            "Batch 200 Loss: 1.4631052017211914\n",
            "Batch 400 Loss: 1.5154356956481934\n",
            "Batch 600 Loss: 1.4195369482040405\n",
            "Batch 800 Loss: 1.886200189590454\n",
            "Batch 1000 Loss: 1.1799362897872925\n",
            "Batch 1200 Loss: 1.3961012363433838\n",
            "Batch 1400 Loss: 1.3853888511657715\n",
            "[Epoch 8] Train Loss: 1.4817495886611938 Vaidation Loss: 1.5168108619689942 Train Acc: 0.54426 Validation Acc: 0.5398\n",
            "Batch 0 Loss: 1.445520281791687\n",
            "Batch 200 Loss: 1.6083039045333862\n",
            "Batch 400 Loss: 2.1451587677001953\n",
            "Batch 600 Loss: 1.6338937282562256\n",
            "Batch 800 Loss: 2.0650558471679688\n",
            "Batch 1000 Loss: 1.4109801054000854\n",
            "Batch 1200 Loss: 1.3035334348678589\n",
            "Batch 1400 Loss: 1.892695426940918\n",
            "[Epoch 9] Train Loss: 1.4517731993865968 Vaidation Loss: 1.513970329284668 Train Acc: 0.55658 Validation Acc: 0.5435\n",
            "Batch 0 Loss: 1.5107624530792236\n",
            "Batch 200 Loss: 1.6337170600891113\n",
            "Batch 400 Loss: 1.5583956241607666\n",
            "Batch 600 Loss: 1.9017081260681152\n",
            "Batch 800 Loss: 1.0609325170516968\n",
            "Batch 1000 Loss: 1.507524013519287\n",
            "Batch 1200 Loss: 1.7856942415237427\n",
            "Batch 1400 Loss: 1.7931948900222778\n",
            "[Epoch 10] Train Loss: 1.4224430251312257 Vaidation Loss: 1.4887762317657471 Train Acc: 0.56882 Validation Acc: 0.5557\n",
            "Batch 0 Loss: 1.4820895195007324\n",
            "Batch 200 Loss: 1.3232598304748535\n",
            "Batch 400 Loss: 1.239749789237976\n",
            "Batch 600 Loss: 1.5226688385009766\n",
            "Batch 800 Loss: 0.8982601761817932\n",
            "Batch 1000 Loss: 1.4599664211273193\n",
            "Batch 1200 Loss: 1.5813642740249634\n",
            "Batch 1400 Loss: 1.0892994403839111\n",
            "[Epoch 11] Train Loss: 1.390548950366974 Vaidation Loss: 1.4989041139602661 Train Acc: 0.58158 Validation Acc: 0.5578\n",
            "Batch 0 Loss: 1.4096808433532715\n",
            "Batch 200 Loss: 1.1234713792800903\n",
            "Batch 400 Loss: 1.3590502738952637\n",
            "Batch 600 Loss: 1.5164217948913574\n",
            "Batch 800 Loss: 1.359841227531433\n",
            "Batch 1000 Loss: 1.1409262418746948\n",
            "Batch 1200 Loss: 1.804046630859375\n",
            "Batch 1400 Loss: 1.4728213548660278\n",
            "[Epoch 12] Train Loss: 1.3614238436889647 Vaidation Loss: 1.517509418106079 Train Acc: 0.59368 Validation Acc: 0.5518\n",
            "Batch 0 Loss: 1.5189366340637207\n",
            "Batch 200 Loss: 1.0222245454788208\n",
            "Batch 400 Loss: 1.506011962890625\n",
            "Batch 600 Loss: 1.4550281763076782\n",
            "Batch 800 Loss: 1.3310554027557373\n",
            "Batch 1000 Loss: 1.440983533859253\n",
            "Batch 1200 Loss: 1.2119663953781128\n",
            "Batch 1400 Loss: 1.4275864362716675\n",
            "[Epoch 13] Train Loss: 1.3331545394897462 Vaidation Loss: 1.4965306545257568 Train Acc: 0.60336 Validation Acc: 0.5633\n",
            "Batch 0 Loss: 1.3728227615356445\n",
            "Batch 200 Loss: 1.2200838327407837\n",
            "Batch 400 Loss: 1.2780557870864868\n",
            "Batch 600 Loss: 1.408890724182129\n",
            "Batch 800 Loss: 1.8102024793624878\n",
            "Batch 1000 Loss: 1.5932978391647339\n",
            "Batch 1200 Loss: 1.279592752456665\n",
            "Batch 1400 Loss: 1.2694878578186035\n",
            "[Epoch 14] Train Loss: 1.3044985384368897 Vaidation Loss: 1.497600716972351 Train Acc: 0.61162 Validation Acc: 0.5625\n",
            "Batch 0 Loss: 1.3558861017227173\n",
            "Batch 200 Loss: 1.4043182134628296\n",
            "Batch 400 Loss: 1.7973192930221558\n",
            "Batch 600 Loss: 1.1598916053771973\n",
            "Batch 800 Loss: 1.5299383401870728\n",
            "Batch 1000 Loss: 1.8116817474365234\n",
            "Batch 1200 Loss: 1.2274107933044434\n",
            "Batch 1400 Loss: 1.205579161643982\n",
            "[Epoch 15] Train Loss: 1.2739751192092896 Vaidation Loss: 1.5129685468673706 Train Acc: 0.62302 Validation Acc: 0.5622\n",
            "Batch 0 Loss: 0.9478352665901184\n",
            "Batch 200 Loss: 1.356187105178833\n",
            "Batch 400 Loss: 1.5848840475082397\n",
            "Batch 600 Loss: 1.5654995441436768\n",
            "Batch 800 Loss: 1.4403367042541504\n",
            "Batch 1000 Loss: 1.3345890045166016\n",
            "Batch 1200 Loss: 1.0272340774536133\n",
            "Batch 1400 Loss: 1.4280977249145508\n",
            "[Epoch 16] Train Loss: 1.2473841509246826 Vaidation Loss: 1.5314667264938355 Train Acc: 0.63268 Validation Acc: 0.5601\n",
            "Batch 0 Loss: 1.0176399946212769\n",
            "Batch 200 Loss: 1.2846230268478394\n",
            "Batch 400 Loss: 1.4138689041137695\n",
            "Batch 600 Loss: 1.3037173748016357\n",
            "Batch 800 Loss: 1.1676167249679565\n",
            "Batch 1000 Loss: 1.0487432479858398\n",
            "Batch 1200 Loss: 1.0645719766616821\n",
            "Batch 1400 Loss: 1.2001755237579346\n",
            "[Epoch 17] Train Loss: 1.2142739127349853 Vaidation Loss: 1.5434293796539307 Train Acc: 0.64332 Validation Acc: 0.5561\n",
            "Batch 0 Loss: 1.208361268043518\n",
            "Batch 200 Loss: 1.2236868143081665\n",
            "Batch 400 Loss: 1.1924959421157837\n",
            "Batch 600 Loss: 1.1400128602981567\n",
            "Batch 800 Loss: 1.1487860679626465\n",
            "Batch 1000 Loss: 1.2245556116104126\n",
            "Batch 1200 Loss: 1.4279329776763916\n",
            "Batch 1400 Loss: 1.3051351308822632\n",
            "[Epoch 18] Train Loss: 1.1866124949264527 Vaidation Loss: 1.5677310705184937 Train Acc: 0.64956 Validation Acc: 0.5502\n",
            "Batch 0 Loss: 0.9528250098228455\n",
            "Batch 200 Loss: 1.521039366722107\n",
            "Batch 400 Loss: 1.046136498451233\n",
            "Batch 600 Loss: 1.1012762784957886\n",
            "Batch 800 Loss: 1.1742103099822998\n",
            "Batch 1000 Loss: 1.1885229349136353\n",
            "Batch 1200 Loss: 1.343674898147583\n",
            "Batch 1400 Loss: 1.4146634340286255\n",
            "[Epoch 19] Train Loss: 1.1530732784461974 Vaidation Loss: 1.6183665517807007 Train Acc: 0.66004 Validation Acc: 0.5457\n",
            "Finished Training\n"
          ],
          "name": "stdout"
        }
      ]
    },
    {
      "cell_type": "code",
      "metadata": {
        "id": "c4R55wlPSx5q",
        "colab": {
          "base_uri": "https://localhost:8080/",
          "height": 404
        },
        "outputId": "5d02e15d-b4dd-46ba-e483-746ca6c41c86"
      },
      "source": [
        "plot_losses(train_losses, valid_losses, train_accs, validation_accs, \"WideResNet 20% corruption\")"
      ],
      "execution_count": 17,
      "outputs": [
        {
          "output_type": "display_data",
          "data": {
            "image/png": "[encoded data removed]",
            "text/plain": [
              "<Figure size 1152x432 with 2 Axes>"
            ]
          },
          "metadata": {
            "tags": [],
            "needs_background": "light"
          }
        }
      ]
    },
    {
      "cell_type": "code",
      "metadata": {
        "id": "5UNY-Z1FSx5q",
        "colab": {
          "base_uri": "https://localhost:8080/"
        },
        "outputId": "05a134a3-b452-461c-ea22-21ac928f12e8"
      },
      "source": [
        "model = WideResNet()\n",
        "sd = torch.load(\"WideResNet_corr_20.pth\")\n",
        "model.load_state_dict(sd)\n",
        "model = model.to(device)\n",
        "testy, pred = run_testing(test_loader, model, device)\n",
        "\n",
        "print(\"Accuracy:\", accuracy_score(testy, pred))\n",
        "print(\"Confusion Matrix:\\n\", confusion_matrix(testy, pred))\n"
      ],
      "execution_count": 18,
      "outputs": [
        {
          "output_type": "stream",
          "text": [
            "Accuracy: 0.5633\n",
            "Confusion Matrix:\n",
            " [[587  40  57  37  22  43  37  30 115  28]\n",
            " [ 39 668  18  27  17  33  35  17  71  75]\n",
            " [ 83  33 432  86  65  90 117  19  26  38]\n",
            " [ 45  36  59 429  40 221  98  23  40  42]\n",
            " [ 44  29  96  86 459  65 102  48  26  31]\n",
            " [ 26  28  51 140  47 566  61  29  22  20]\n",
            " [ 20  25  51  92  33  48 670  17  39  23]\n",
            " [ 33  29  51  56 107 136  35 460  24  40]\n",
            " [ 78  29  34  39  16  35  25  11 701  29]\n",
            " [ 39  88  21  24  22  31  34  22  78 661]]\n"
          ],
          "name": "stdout"
        }
      ]
    },
    {
      "cell_type": "code",
      "metadata": {
        "id": "Xb5ufKRfSx5r"
      },
      "source": [
        "final_dict[20] = {}\n",
        "final_dict[20][\"train_losses\"] = train_losses\n",
        "final_dict[20][\"valid_losses\"] = valid_losses\n",
        "final_dict[20][\"train_accs\"] = train_accs\n",
        "final_dict[20][\"validation_accs\"] = validation_accs\n",
        "final_dict[20][\"best_test_acc\"]  = accuracy_score(testy, pred)\n"
      ],
      "execution_count": 19,
      "outputs": []
    },
    {
      "cell_type": "code",
      "metadata": {
        "id": "NkUA4jRGSyIU",
        "colab": {
          "base_uri": "https://localhost:8080/"
        },
        "outputId": "56fbe8e0-d4b9-45c9-d16b-995e398ea903"
      },
      "source": [
        "train_loader, test_loader = get_cifar_dataloaders_corrupted(0.4)\n",
        "criterion = nn.CrossEntropyLoss()\n",
        "\n",
        "device = torch.device(\"cuda:0\" if torch.cuda.is_available() else \"cpu\")\n",
        "print(device)\n"
      ],
      "execution_count": 20,
      "outputs": [
        {
          "output_type": "stream",
          "text": [
            "Files already downloaded and verified\n",
            "Files already downloaded and verified\n",
            "cuda:0\n"
          ],
          "name": "stdout"
        }
      ]
    },
    {
      "cell_type": "code",
      "metadata": {
        "id": "90921FKmSyIV"
      },
      "source": [
        "model = WideResNet()\n",
        "model = model.to(device)\n",
        "optimizer = optim.SGD(model.parameters(), lr=1e-3, momentum=0.9)\n"
      ],
      "execution_count": 21,
      "outputs": []
    },
    {
      "cell_type": "code",
      "metadata": {
        "id": "jVgrL0Y4SyIV",
        "colab": {
          "base_uri": "https://localhost:8080/"
        },
        "outputId": "afc2ffa6-37ce-4737-a9e6-1a3e2ee41fa4"
      },
      "source": [
        "train_losses, valid_losses, train_accs, validation_accs = training_loop(model, 20, train_loader, test_loader,\n",
        "                                          device, criterion, optimizer, \"WideResNet_corr_40\")"
      ],
      "execution_count": 22,
      "outputs": [
        {
          "output_type": "stream",
          "text": [
            "Batch 0 Loss: 2.306528329849243\n",
            "Batch 200 Loss: 2.230705976486206\n",
            "Batch 400 Loss: 2.2018189430236816\n",
            "Batch 600 Loss: 2.145226001739502\n",
            "Batch 800 Loss: 2.168930768966675\n",
            "Batch 1000 Loss: 2.1026499271392822\n",
            "Batch 1200 Loss: 2.0859858989715576\n",
            "Batch 1400 Loss: 2.0497334003448486\n",
            "[Epoch 0] Train Loss: 2.1689739895629883 Vaidation Loss: 2.1079050662994385 Train Acc: 0.21242 Validation Acc: 0.2613\n",
            "Batch 0 Loss: 2.256321668624878\n",
            "Batch 200 Loss: 2.075582504272461\n",
            "Batch 400 Loss: 2.1510114669799805\n",
            "Batch 600 Loss: 2.1063802242279053\n",
            "Batch 800 Loss: 2.2006406784057617\n",
            "Batch 1000 Loss: 2.067382574081421\n",
            "Batch 1200 Loss: 1.8969221115112305\n",
            "Batch 1400 Loss: 1.9706084728240967\n",
            "[Epoch 1] Train Loss: 2.093332412033081 Vaidation Loss: 2.068280894470215 Train Acc: 0.26642 Validation Acc: 0.2886\n",
            "Batch 0 Loss: 2.0729384422302246\n",
            "Batch 200 Loss: 2.1233673095703125\n",
            "Batch 400 Loss: 2.126185417175293\n",
            "Batch 600 Loss: 2.045367956161499\n",
            "Batch 800 Loss: 1.9755363464355469\n",
            "Batch 1000 Loss: 1.9689656496047974\n",
            "Batch 1200 Loss: 2.216661214828491\n",
            "Batch 1400 Loss: 1.9683092832565308\n",
            "[Epoch 2] Train Loss: 2.0508701351928713 Vaidation Loss: 2.0238373695373535 Train Acc: 0.2945 Validation Acc: 0.3176\n",
            "Batch 0 Loss: 2.0908360481262207\n",
            "Batch 200 Loss: 2.0652244091033936\n",
            "Batch 400 Loss: 1.95057213306427\n",
            "Batch 600 Loss: 1.9740655422210693\n",
            "Batch 800 Loss: 2.212876081466675\n",
            "Batch 1000 Loss: 2.21689772605896\n",
            "Batch 1200 Loss: 2.0583860874176025\n",
            "Batch 1400 Loss: 1.9351176023483276\n",
            "[Epoch 3] Train Loss: 2.01402007232666 Vaidation Loss: 2.003673176956177 Train Acc: 0.3175 Validation Acc: 0.3331\n",
            "Batch 0 Loss: 2.310143232345581\n",
            "Batch 200 Loss: 1.7851207256317139\n",
            "Batch 400 Loss: 1.866424322128296\n",
            "Batch 600 Loss: 2.286288022994995\n",
            "Batch 800 Loss: 2.1649060249328613\n",
            "Batch 1000 Loss: 1.783210039138794\n",
            "Batch 1200 Loss: 2.008972644805908\n",
            "Batch 1400 Loss: 2.0185303688049316\n",
            "[Epoch 4] Train Loss: 1.9848288526916504 Vaidation Loss: 1.9730752227783204 Train Acc: 0.33646 Validation Acc: 0.3538\n",
            "Batch 0 Loss: 1.900449514389038\n",
            "Batch 200 Loss: 2.242417573928833\n",
            "Batch 400 Loss: 2.068995237350464\n",
            "Batch 600 Loss: 1.8498915433883667\n",
            "Batch 800 Loss: 2.0452880859375\n",
            "Batch 1000 Loss: 1.7877248525619507\n",
            "Batch 1200 Loss: 1.6730201244354248\n",
            "Batch 1400 Loss: 2.129648447036743\n",
            "[Epoch 5] Train Loss: 1.9549458629608154 Vaidation Loss: 1.9601162586212157 Train Acc: 0.3549 Validation Acc: 0.3654\n",
            "Batch 0 Loss: 1.7580387592315674\n",
            "Batch 200 Loss: 1.7837932109832764\n",
            "Batch 400 Loss: 1.662484884262085\n",
            "Batch 600 Loss: 2.034353256225586\n",
            "Batch 800 Loss: 1.9333959817886353\n",
            "Batch 1000 Loss: 2.1606459617614746\n",
            "Batch 1200 Loss: 1.771561861038208\n",
            "Batch 1400 Loss: 1.9043625593185425\n",
            "[Epoch 6] Train Loss: 1.9279878701019286 Vaidation Loss: 1.953497323989868 Train Acc: 0.37162 Validation Acc: 0.3648\n",
            "Batch 0 Loss: 1.6738439798355103\n",
            "Batch 200 Loss: 1.9288966655731201\n",
            "Batch 400 Loss: 1.7462249994277954\n",
            "Batch 600 Loss: 1.7987580299377441\n",
            "Batch 800 Loss: 1.9875644445419312\n",
            "Batch 1000 Loss: 1.9630370140075684\n",
            "Batch 1200 Loss: 1.8193436861038208\n",
            "Batch 1400 Loss: 1.856367826461792\n",
            "[Epoch 7] Train Loss: 1.9049390933990478 Vaidation Loss: 1.9381827953338624 Train Acc: 0.38374 Validation Acc: 0.3773\n",
            "Batch 0 Loss: 2.0851657390594482\n",
            "Batch 200 Loss: 2.101367712020874\n",
            "Batch 400 Loss: 1.9886442422866821\n",
            "Batch 600 Loss: 1.8276728391647339\n",
            "Batch 800 Loss: 1.7645478248596191\n",
            "Batch 1000 Loss: 1.887090802192688\n",
            "Batch 1200 Loss: 1.8453530073165894\n",
            "Batch 1400 Loss: 1.8751566410064697\n",
            "[Epoch 8] Train Loss: 1.8833920448303223 Vaidation Loss: 1.9382150867462158 Train Acc: 0.3967 Validation Acc: 0.3782\n",
            "Batch 0 Loss: 2.0874359607696533\n",
            "Batch 200 Loss: 2.2246146202087402\n",
            "Batch 400 Loss: 1.9230788946151733\n",
            "Batch 600 Loss: 1.83585524559021\n",
            "Batch 800 Loss: 1.9761085510253906\n",
            "Batch 1000 Loss: 2.2175183296203613\n",
            "Batch 1200 Loss: 1.6961616277694702\n",
            "Batch 1400 Loss: 1.965204119682312\n",
            "[Epoch 9] Train Loss: 1.8647287342834473 Vaidation Loss: 1.9148854864120484 Train Acc: 0.40486 Validation Acc: 0.3956\n",
            "Batch 0 Loss: 1.8719398975372314\n",
            "Batch 200 Loss: 1.876545786857605\n",
            "Batch 400 Loss: 1.7429795265197754\n",
            "Batch 600 Loss: 2.040827989578247\n",
            "Batch 800 Loss: 2.2952632904052734\n",
            "Batch 1000 Loss: 1.8122340440750122\n",
            "Batch 1200 Loss: 1.6677145957946777\n",
            "Batch 1400 Loss: 1.8358255624771118\n",
            "[Epoch 10] Train Loss: 1.8440258447265625 Vaidation Loss: 1.9065537620544433 Train Acc: 0.4136 Validation Acc: 0.3972\n",
            "Batch 0 Loss: 1.6785366535186768\n",
            "Batch 200 Loss: 1.8026092052459717\n",
            "Batch 400 Loss: 1.9584505558013916\n",
            "Batch 600 Loss: 1.7986526489257812\n",
            "Batch 800 Loss: 2.1249611377716064\n",
            "Batch 1000 Loss: 1.65296471118927\n",
            "Batch 1200 Loss: 2.197499990463257\n",
            "Batch 1400 Loss: 2.1750543117523193\n",
            "[Epoch 11] Train Loss: 1.8268461726760865 Vaidation Loss: 1.8996615188598633 Train Acc: 0.42398 Validation Acc: 0.4004\n",
            "Batch 0 Loss: 1.9138035774230957\n",
            "Batch 200 Loss: 1.8094618320465088\n",
            "Batch 400 Loss: 2.049424409866333\n",
            "Batch 600 Loss: 1.5104422569274902\n",
            "Batch 800 Loss: 1.8836383819580078\n",
            "Batch 1000 Loss: 2.1325533390045166\n",
            "Batch 1200 Loss: 1.726146936416626\n",
            "Batch 1400 Loss: 1.5932525396347046\n",
            "[Epoch 12] Train Loss: 1.8081284197998047 Vaidation Loss: 1.9051928806304932 Train Acc: 0.43226 Validation Acc: 0.4015\n",
            "Batch 0 Loss: 2.2190258502960205\n",
            "Batch 200 Loss: 1.9135346412658691\n",
            "Batch 400 Loss: 1.7804601192474365\n",
            "Batch 600 Loss: 1.542724609375\n",
            "Batch 800 Loss: 1.6915932893753052\n",
            "Batch 1000 Loss: 1.628433108329773\n",
            "Batch 1200 Loss: 1.7333519458770752\n",
            "Batch 1400 Loss: 2.129575252532959\n",
            "[Epoch 13] Train Loss: 1.7869868562316895 Vaidation Loss: 1.902778383255005 Train Acc: 0.43964 Validation Acc: 0.4095\n",
            "Batch 0 Loss: 1.9097586870193481\n",
            "Batch 200 Loss: 2.273453712463379\n",
            "Batch 400 Loss: 1.878915548324585\n",
            "Batch 600 Loss: 1.7607550621032715\n",
            "Batch 800 Loss: 2.036529302597046\n",
            "Batch 1000 Loss: 1.811849594116211\n",
            "Batch 1200 Loss: 1.7395291328430176\n",
            "Batch 1400 Loss: 1.8278453350067139\n",
            "[Epoch 14] Train Loss: 1.766437537536621 Vaidation Loss: 1.911017473602295 Train Acc: 0.44754 Validation Acc: 0.4107\n",
            "Batch 0 Loss: 1.807166337966919\n",
            "Batch 200 Loss: 1.8330965042114258\n",
            "Batch 400 Loss: 2.2066235542297363\n",
            "Batch 600 Loss: 1.6614704132080078\n",
            "Batch 800 Loss: 1.7996639013290405\n",
            "Batch 1000 Loss: 1.7570147514343262\n",
            "Batch 1200 Loss: 2.116054058074951\n",
            "Batch 1400 Loss: 2.018953561782837\n",
            "[Epoch 15] Train Loss: 1.750469829788208 Vaidation Loss: 1.906981001663208 Train Acc: 0.45364 Validation Acc: 0.4134\n",
            "Batch 0 Loss: 1.8001257181167603\n",
            "Batch 200 Loss: 1.9305355548858643\n",
            "Batch 400 Loss: 1.7639679908752441\n",
            "Batch 600 Loss: 1.914167881011963\n",
            "Batch 800 Loss: 1.712321400642395\n",
            "Batch 1000 Loss: 1.9316174983978271\n",
            "Batch 1200 Loss: 1.7693002223968506\n",
            "Batch 1400 Loss: 1.68641197681427\n",
            "[Epoch 16] Train Loss: 1.727241834602356 Vaidation Loss: 1.929001050758362 Train Acc: 0.4613 Validation Acc: 0.3999\n",
            "Batch 0 Loss: 1.6931654214859009\n",
            "Batch 200 Loss: 1.7029426097869873\n",
            "Batch 400 Loss: 1.5733096599578857\n",
            "Batch 600 Loss: 1.7887121438980103\n",
            "Batch 800 Loss: 1.7529032230377197\n",
            "Batch 1000 Loss: 1.7006590366363525\n",
            "Batch 1200 Loss: 2.0163469314575195\n",
            "Batch 1400 Loss: 1.8714066743850708\n",
            "[Epoch 17] Train Loss: 1.703124637298584 Vaidation Loss: 1.9536731576919555 Train Acc: 0.46878 Validation Acc: 0.4034\n",
            "Batch 0 Loss: 1.8383760452270508\n",
            "Batch 200 Loss: 1.993221402168274\n",
            "Batch 400 Loss: 1.648075819015503\n",
            "Batch 600 Loss: 1.724506139755249\n",
            "Batch 800 Loss: 1.8116756677627563\n",
            "Batch 1000 Loss: 2.002293586730957\n",
            "Batch 1200 Loss: 1.4138026237487793\n",
            "Batch 1400 Loss: 1.8071531057357788\n",
            "[Epoch 18] Train Loss: 1.684251555671692 Vaidation Loss: 1.9397138637542726 Train Acc: 0.47364 Validation Acc: 0.3997\n",
            "Batch 0 Loss: 1.6229802370071411\n",
            "Batch 200 Loss: 1.4513741731643677\n",
            "Batch 400 Loss: 1.527787685394287\n",
            "Batch 600 Loss: 1.5111029148101807\n",
            "Batch 800 Loss: 1.6471803188323975\n",
            "Batch 1000 Loss: 1.7067588567733765\n",
            "Batch 1200 Loss: 1.8330849409103394\n",
            "Batch 1400 Loss: 1.6332273483276367\n",
            "[Epoch 19] Train Loss: 1.662241787033081 Vaidation Loss: 1.9399553745269775 Train Acc: 0.48194 Validation Acc: 0.4016\n",
            "Finished Training\n"
          ],
          "name": "stdout"
        }
      ]
    },
    {
      "cell_type": "code",
      "metadata": {
        "id": "WMcjfa7oSyIV",
        "colab": {
          "base_uri": "https://localhost:8080/",
          "height": 404
        },
        "outputId": "4763aa67-a89f-48d5-eca1-1e55f692708f"
      },
      "source": [
        "plot_losses(train_losses, valid_losses, train_accs, validation_accs, \"WideResNet 40% corruption\")"
      ],
      "execution_count": 23,
      "outputs": [
        {
          "output_type": "display_data",
          "data": {
            "image/png": "[encoded data removed]",
            "text/plain": [
              "<Figure size 1152x432 with 2 Axes>"
            ]
          },
          "metadata": {
            "tags": [],
            "needs_background": "light"
          }
        }
      ]
    },
    {
      "cell_type": "code",
      "metadata": {
        "id": "xeBbd0B9SyIW",
        "colab": {
          "base_uri": "https://localhost:8080/"
        },
        "outputId": "5b6b9051-e9de-42f9-e32e-834f6560512f"
      },
      "source": [
        "model = WideResNet()\n",
        "sd = torch.load(\"WideResNet_corr_40.pth\")\n",
        "model.load_state_dict(sd)\n",
        "model = model.to(device)\n",
        "testy, pred = run_testing(test_loader, model, device)\n",
        "\n",
        "print(\"Accuracy:\", accuracy_score(testy, pred))\n",
        "print(\"Confusion Matrix:\\n\", confusion_matrix(testy, pred))\n"
      ],
      "execution_count": 24,
      "outputs": [
        {
          "output_type": "stream",
          "text": [
            "Accuracy: 0.4134\n",
            "Confusion Matrix:\n",
            " [[406  78  83  75  52  22  54  63 130  57]\n",
            " [ 50 557  44  52  42  27  44  47  71  75]\n",
            " [102  69 312 106  91  45  95  82  51  41]\n",
            " [ 69  73  69 393  82  82  84  82  49  50]\n",
            " [ 70  53  87  99 348  29  96 122  52  35]\n",
            " [ 48  47  73 240  75 215  70 120  54  39]\n",
            " [ 39  48  51 115  74  29 504  66  45  41]\n",
            " [ 51  56  46  87  73  56  56 462  41  57]\n",
            " [ 84  68  39  66  35  17  46  56 499  61]\n",
            " [ 53 136  39  79  42  21  38  82  76 438]]\n"
          ],
          "name": "stdout"
        }
      ]
    },
    {
      "cell_type": "code",
      "metadata": {
        "id": "mlaoKsS_SyIW"
      },
      "source": [
        "final_dict[40] = {}\n",
        "final_dict[40][\"train_losses\"] = train_losses\n",
        "final_dict[40][\"valid_losses\"] = valid_losses\n",
        "final_dict[40][\"train_accs\"] = train_accs\n",
        "final_dict[40][\"validation_accs\"] = validation_accs\n",
        "final_dict[40][\"best_test_acc\"]  = accuracy_score(testy, pred)\n"
      ],
      "execution_count": 25,
      "outputs": []
    },
    {
      "cell_type": "code",
      "metadata": {
        "id": "vq2jHTn0SyY9",
        "colab": {
          "base_uri": "https://localhost:8080/"
        },
        "outputId": "a0667aa0-6579-4821-b938-4c8856acbf01"
      },
      "source": [
        "train_loader, test_loader = get_cifar_dataloaders_corrupted(0.6)\n",
        "criterion = nn.CrossEntropyLoss()\n",
        "\n",
        "device = torch.device(\"cuda:0\" if torch.cuda.is_available() else \"cpu\")\n",
        "print(device)\n"
      ],
      "execution_count": 26,
      "outputs": [
        {
          "output_type": "stream",
          "text": [
            "Files already downloaded and verified\n",
            "Files already downloaded and verified\n",
            "cuda:0\n"
          ],
          "name": "stdout"
        }
      ]
    },
    {
      "cell_type": "code",
      "metadata": {
        "id": "SwG4z_P5SyY-"
      },
      "source": [
        "model = WideResNet()\n",
        "model = model.to(device)\n",
        "optimizer = optim.SGD(model.parameters(), lr=1e-3, momentum=0.9)\n"
      ],
      "execution_count": 27,
      "outputs": []
    },
    {
      "cell_type": "code",
      "metadata": {
        "id": "vQScs2leSyY-",
        "colab": {
          "base_uri": "https://localhost:8080/"
        },
        "outputId": "581d828d-0327-42d3-d4df-714237db1337"
      },
      "source": [
        "train_losses, valid_losses, train_accs, validation_accs = training_loop(model, 20, train_loader, test_loader,\n",
        "                                          device, criterion, optimizer, \"WideResNet_corr_60\")"
      ],
      "execution_count": 28,
      "outputs": [
        {
          "output_type": "stream",
          "text": [
            "Batch 0 Loss: 2.32782244682312\n",
            "Batch 200 Loss: 2.2399449348449707\n",
            "Batch 400 Loss: 2.190697431564331\n",
            "Batch 600 Loss: 2.250093698501587\n",
            "Batch 800 Loss: 2.2889068126678467\n",
            "Batch 1000 Loss: 2.2780556678771973\n",
            "Batch 1200 Loss: 2.353623628616333\n",
            "Batch 1400 Loss: 2.236191749572754\n",
            "[Epoch 0] Train Loss: 2.260013254470825 Vaidation Loss: 2.241213949584961 Train Acc: 0.15902 Validation Acc: 0.1879\n",
            "Batch 0 Loss: 2.1829593181610107\n",
            "Batch 200 Loss: 2.1719322204589844\n",
            "Batch 400 Loss: 2.1276867389678955\n",
            "Batch 600 Loss: 2.2426843643188477\n",
            "Batch 800 Loss: 2.1538586616516113\n",
            "Batch 1000 Loss: 2.1222336292266846\n",
            "Batch 1200 Loss: 2.367788791656494\n",
            "Batch 1400 Loss: 2.2583625316619873\n",
            "[Epoch 1] Train Loss: 2.2248620748138426 Vaidation Loss: 2.221657687759399 Train Acc: 0.19388 Validation Acc: 0.2081\n",
            "Batch 0 Loss: 2.1843271255493164\n",
            "Batch 200 Loss: 2.19856595993042\n",
            "Batch 400 Loss: 2.221428394317627\n",
            "Batch 600 Loss: 2.1560444831848145\n",
            "Batch 800 Loss: 2.227993965148926\n",
            "Batch 1000 Loss: 2.251986026763916\n",
            "Batch 1200 Loss: 2.1397480964660645\n",
            "Batch 1400 Loss: 2.165318727493286\n",
            "[Epoch 2] Train Loss: 2.2071287517547606 Vaidation Loss: 2.2049150619506834 Train Acc: 0.21274 Validation Acc: 0.2213\n",
            "Batch 0 Loss: 2.1374034881591797\n",
            "Batch 200 Loss: 2.136169910430908\n",
            "Batch 400 Loss: 2.22892689704895\n",
            "Batch 600 Loss: 2.2507665157318115\n",
            "Batch 800 Loss: 2.0477237701416016\n",
            "Batch 1000 Loss: 2.110769510269165\n",
            "Batch 1200 Loss: 2.3362438678741455\n",
            "Batch 1400 Loss: 1.9694762229919434\n",
            "[Epoch 3] Train Loss: 2.189801709365845 Vaidation Loss: 2.1896504764556886 Train Acc: 0.22902 Validation Acc: 0.2373\n",
            "Batch 0 Loss: 2.2900660037994385\n",
            "Batch 200 Loss: 2.165369987487793\n",
            "Batch 400 Loss: 2.2119271755218506\n",
            "Batch 600 Loss: 1.9979671239852905\n",
            "Batch 800 Loss: 2.115309000015259\n",
            "Batch 1000 Loss: 2.1876983642578125\n",
            "Batch 1200 Loss: 2.0962324142456055\n",
            "Batch 1400 Loss: 2.131004571914673\n",
            "[Epoch 4] Train Loss: 2.174083183517456 Vaidation Loss: 2.180080141067505 Train Acc: 0.2417 Validation Acc: 0.2436\n",
            "Batch 0 Loss: 2.3379242420196533\n",
            "Batch 200 Loss: 2.1922342777252197\n",
            "Batch 400 Loss: 2.224444627761841\n",
            "Batch 600 Loss: 1.9754164218902588\n",
            "Batch 800 Loss: 1.9403356313705444\n",
            "Batch 1000 Loss: 2.128016471862793\n",
            "Batch 1200 Loss: 2.2570793628692627\n",
            "Batch 1400 Loss: 2.0846328735351562\n",
            "[Epoch 5] Train Loss: 2.16432394115448 Vaidation Loss: 2.1791307121276855 Train Acc: 0.24826 Validation Acc: 0.2482\n",
            "Batch 0 Loss: 2.069005250930786\n",
            "Batch 200 Loss: 2.1866815090179443\n",
            "Batch 400 Loss: 2.0748095512390137\n",
            "Batch 600 Loss: 2.2284092903137207\n",
            "Batch 800 Loss: 2.1515908241271973\n",
            "Batch 1000 Loss: 2.062077045440674\n",
            "Batch 1200 Loss: 2.173488140106201\n",
            "Batch 1400 Loss: 2.1914749145507812\n",
            "[Epoch 6] Train Loss: 2.153057378997803 Vaidation Loss: 2.174187192153931 Train Acc: 0.25632 Validation Acc: 0.2506\n",
            "Batch 0 Loss: 2.1518168449401855\n",
            "Batch 200 Loss: 2.151116371154785\n",
            "Batch 400 Loss: 2.2896173000335693\n",
            "Batch 600 Loss: 2.111276149749756\n",
            "Batch 800 Loss: 2.0687315464019775\n",
            "Batch 1000 Loss: 2.0913965702056885\n",
            "Batch 1200 Loss: 2.143343925476074\n",
            "Batch 1400 Loss: 2.0579824447631836\n",
            "[Epoch 7] Train Loss: 2.141193842544556 Vaidation Loss: 2.166473891067505 Train Acc: 0.26312 Validation Acc: 0.2565\n",
            "Batch 0 Loss: 2.0906500816345215\n",
            "Batch 200 Loss: 2.259730100631714\n",
            "Batch 400 Loss: 2.060208797454834\n",
            "Batch 600 Loss: 2.155493974685669\n",
            "Batch 800 Loss: 2.229517936706543\n",
            "Batch 1000 Loss: 2.2698333263397217\n",
            "Batch 1200 Loss: 2.1953659057617188\n",
            "Batch 1400 Loss: 2.0143308639526367\n",
            "[Epoch 8] Train Loss: 2.130329771347046 Vaidation Loss: 2.164714291381836 Train Acc: 0.26944 Validation Acc: 0.2632\n",
            "Batch 0 Loss: 2.1805238723754883\n",
            "Batch 200 Loss: 2.2762908935546875\n",
            "Batch 400 Loss: 2.053309917449951\n",
            "Batch 600 Loss: 2.2331953048706055\n",
            "Batch 800 Loss: 2.029755115509033\n",
            "Batch 1000 Loss: 2.093780994415283\n",
            "Batch 1200 Loss: 2.131234884262085\n",
            "Batch 1400 Loss: 2.184828758239746\n",
            "[Epoch 9] Train Loss: 2.1199186587142944 Vaidation Loss: 2.1624962608337404 Train Acc: 0.2783 Validation Acc: 0.2647\n",
            "Batch 0 Loss: 2.08237361907959\n",
            "Batch 200 Loss: 2.1938743591308594\n",
            "Batch 400 Loss: 2.1225695610046387\n",
            "Batch 600 Loss: 2.0901455879211426\n",
            "Batch 800 Loss: 2.124134063720703\n",
            "Batch 1000 Loss: 1.8956241607666016\n",
            "Batch 1200 Loss: 2.212832450866699\n",
            "Batch 1400 Loss: 2.178229331970215\n",
            "[Epoch 10] Train Loss: 2.1086115242004393 Vaidation Loss: 2.1630112155914305 Train Acc: 0.28708 Validation Acc: 0.2646\n",
            "Batch 0 Loss: 2.0255677700042725\n",
            "Batch 200 Loss: 2.2844793796539307\n",
            "Batch 400 Loss: 2.03818416595459\n",
            "Batch 600 Loss: 2.2143607139587402\n",
            "Batch 800 Loss: 2.121316432952881\n",
            "Batch 1000 Loss: 2.350257158279419\n",
            "Batch 1200 Loss: 2.0561535358428955\n",
            "Batch 1400 Loss: 1.9156614542007446\n",
            "[Epoch 11] Train Loss: 2.096882766418457 Vaidation Loss: 2.165259644317627 Train Acc: 0.291 Validation Acc: 0.2623\n",
            "Batch 0 Loss: 2.0700831413269043\n",
            "Batch 200 Loss: 1.9951919317245483\n",
            "Batch 400 Loss: 2.0291919708251953\n",
            "Batch 600 Loss: 1.8982099294662476\n",
            "Batch 800 Loss: 1.9782344102859497\n",
            "Batch 1000 Loss: 2.3558828830718994\n",
            "Batch 1200 Loss: 2.066265344619751\n",
            "Batch 1400 Loss: 1.9921748638153076\n",
            "[Epoch 12] Train Loss: 2.0839603718566893 Vaidation Loss: 2.167642124938965 Train Acc: 0.29638 Validation Acc: 0.2687\n",
            "Batch 0 Loss: 2.1340811252593994\n",
            "Batch 200 Loss: 2.2689218521118164\n",
            "Batch 400 Loss: 1.9291714429855347\n",
            "Batch 600 Loss: 2.04642391204834\n",
            "Batch 800 Loss: 2.1057357788085938\n",
            "Batch 1000 Loss: 2.1497485637664795\n",
            "Batch 1200 Loss: 2.2098724842071533\n",
            "Batch 1400 Loss: 1.9280897378921509\n",
            "[Epoch 13] Train Loss: 2.072764224700928 Vaidation Loss: 2.1675519832611085 Train Acc: 0.3008 Validation Acc: 0.268\n",
            "Batch 0 Loss: 1.9353163242340088\n",
            "Batch 200 Loss: 2.146235704421997\n",
            "Batch 400 Loss: 2.008749485015869\n",
            "Batch 600 Loss: 2.139284133911133\n",
            "Batch 800 Loss: 2.2394206523895264\n",
            "Batch 1000 Loss: 1.9531210660934448\n",
            "Batch 1200 Loss: 2.3569891452789307\n",
            "Batch 1400 Loss: 2.252351760864258\n",
            "[Epoch 14] Train Loss: 2.059597271347046 Vaidation Loss: 2.175672519683838 Train Acc: 0.30582 Validation Acc: 0.2665\n",
            "Batch 0 Loss: 2.131561040878296\n",
            "Batch 200 Loss: 2.095245361328125\n",
            "Batch 400 Loss: 1.878831386566162\n",
            "Batch 600 Loss: 1.8384130001068115\n",
            "Batch 800 Loss: 2.176990270614624\n",
            "Batch 1000 Loss: 1.9431736469268799\n",
            "Batch 1200 Loss: 2.0479025840759277\n",
            "Batch 1400 Loss: 2.034403085708618\n",
            "[Epoch 15] Train Loss: 2.046274636077881 Vaidation Loss: 2.185906436920166 Train Acc: 0.31042 Validation Acc: 0.2522\n",
            "Batch 0 Loss: 1.7814514636993408\n",
            "Batch 200 Loss: 1.8898346424102783\n",
            "Batch 400 Loss: 2.0430104732513428\n",
            "Batch 600 Loss: 2.065150260925293\n",
            "Batch 800 Loss: 1.8910777568817139\n",
            "Batch 1000 Loss: 2.1306560039520264\n",
            "Batch 1200 Loss: 2.1426870822906494\n",
            "Batch 1400 Loss: 2.3000311851501465\n",
            "[Epoch 16] Train Loss: 2.029929506340027 Vaidation Loss: 2.1828159984588624 Train Acc: 0.31852 Validation Acc: 0.2628\n",
            "Batch 0 Loss: 1.867206335067749\n",
            "Batch 200 Loss: 1.9477571249008179\n",
            "Batch 400 Loss: 1.9029158353805542\n",
            "Batch 600 Loss: 1.9918453693389893\n",
            "Batch 800 Loss: 2.1437981128692627\n",
            "Batch 1000 Loss: 2.017221450805664\n",
            "Batch 1200 Loss: 2.094348192214966\n",
            "Batch 1400 Loss: 2.1402676105499268\n",
            "[Epoch 17] Train Loss: 2.0155121390533446 Vaidation Loss: 2.2305752849578857 Train Acc: 0.32214 Validation Acc: 0.2583\n",
            "Batch 0 Loss: 2.1907711029052734\n",
            "Batch 200 Loss: 2.1886258125305176\n",
            "Batch 400 Loss: 1.9937679767608643\n",
            "Batch 600 Loss: 1.855092167854309\n",
            "Batch 800 Loss: 2.168759822845459\n",
            "Batch 1000 Loss: 1.9590128660202026\n",
            "Batch 1200 Loss: 1.8392109870910645\n",
            "Batch 1400 Loss: 1.9949355125427246\n",
            "[Epoch 18] Train Loss: 1.9988225103759765 Vaidation Loss: 2.2262593936920165 Train Acc: 0.32626 Validation Acc: 0.2515\n",
            "Batch 0 Loss: 2.025362968444824\n",
            "Batch 200 Loss: 1.786087155342102\n",
            "Batch 400 Loss: 2.067178964614868\n",
            "Batch 600 Loss: 1.7561224699020386\n",
            "Batch 800 Loss: 1.9876863956451416\n",
            "Batch 1000 Loss: 2.1151955127716064\n",
            "Batch 1200 Loss: 2.0909504890441895\n",
            "Batch 1400 Loss: 2.0006465911865234\n",
            "[Epoch 19] Train Loss: 1.9778224787902832 Vaidation Loss: 2.226267507171631 Train Acc: 0.3355 Validation Acc: 0.2486\n",
            "Finished Training\n"
          ],
          "name": "stdout"
        }
      ]
    },
    {
      "cell_type": "code",
      "metadata": {
        "id": "nTTNzdqgSyY_",
        "colab": {
          "base_uri": "https://localhost:8080/",
          "height": 404
        },
        "outputId": "580d5e93-2cf1-4b94-e184-0e4be1bc9bb6"
      },
      "source": [
        "plot_losses(train_losses, valid_losses, train_accs, validation_accs, \"WideResNet 60% corruption\")"
      ],
      "execution_count": 29,
      "outputs": [
        {
          "output_type": "display_data",
          "data": {
            "image/png": "[encoded data removed]",
            "text/plain": [
              "<Figure size 1152x432 with 2 Axes>"
            ]
          },
          "metadata": {
            "tags": [],
            "needs_background": "light"
          }
        }
      ]
    },
    {
      "cell_type": "code",
      "metadata": {
        "id": "NPEUya5RSyZA",
        "colab": {
          "base_uri": "https://localhost:8080/"
        },
        "outputId": "e3df385a-5516-483a-b1cf-6d31609c096b"
      },
      "source": [
        "model = WideResNet()\n",
        "sd = torch.load(\"WideResNet_corr_60.pth\")\n",
        "model.load_state_dict(sd)\n",
        "model = model.to(device)\n",
        "testy, pred = run_testing(test_loader, model, device)\n",
        "\n",
        "print(\"Accuracy:\", accuracy_score(testy, pred))\n",
        "print(\"Confusion Matrix:\\n\", confusion_matrix(testy, pred))\n"
      ],
      "execution_count": 30,
      "outputs": [
        {
          "output_type": "stream",
          "text": [
            "Accuracy: 0.2687\n",
            "Confusion Matrix:\n",
            " [[281  68  89  40  80  64  82  92 159  72]\n",
            " [ 78 304  63  34  81  64  85  74 139 104]\n",
            " [113  64 192  54 123  73 111  95  97  64]\n",
            " [ 83  59  79 152 107 131 113 107 109  81]\n",
            " [ 72  53  98  59 258  66 119 111  87  56]\n",
            " [ 64  62  88 100 108 207  77 116  95  57]\n",
            " [ 78  63  83  64 104  58 341  81  82  58]\n",
            " [ 93  71  79  51 122  65  77 306  81  64]\n",
            " [122  75  69  49  56  53  72  67 360  57]\n",
            " [ 96 112  59  45  66  60  69  83 110 286]]\n"
          ],
          "name": "stdout"
        }
      ]
    },
    {
      "cell_type": "code",
      "metadata": {
        "id": "FVCP8TOuSyZA"
      },
      "source": [
        "final_dict[60] = {}\n",
        "final_dict[60][\"train_losses\"] = train_losses\n",
        "final_dict[60][\"valid_losses\"] = valid_losses\n",
        "final_dict[60][\"train_accs\"] = train_accs\n",
        "final_dict[60][\"validation_accs\"] = validation_accs\n",
        "final_dict[60][\"best_test_acc\"]  = accuracy_score(testy, pred)\n"
      ],
      "execution_count": 31,
      "outputs": []
    },
    {
      "cell_type": "code",
      "metadata": {
        "id": "e6nv7_Z9Sylc",
        "colab": {
          "base_uri": "https://localhost:8080/"
        },
        "outputId": "18149904-f3d4-415c-a5be-2f03b7415da0"
      },
      "source": [
        "train_loader, test_loader = get_cifar_dataloaders_corrupted(0.8)\n",
        "criterion = nn.CrossEntropyLoss()\n",
        "\n",
        "device = torch.device(\"cuda:0\" if torch.cuda.is_available() else \"cpu\")\n",
        "print(device)\n"
      ],
      "execution_count": 32,
      "outputs": [
        {
          "output_type": "stream",
          "text": [
            "Files already downloaded and verified\n",
            "Files already downloaded and verified\n",
            "cuda:0\n"
          ],
          "name": "stdout"
        }
      ]
    },
    {
      "cell_type": "code",
      "metadata": {
        "id": "Vy_kvh2ISyld"
      },
      "source": [
        "model = WideResNet()\n",
        "model = model.to(device)\n",
        "optimizer = optim.SGD(model.parameters(), lr=1e-3, momentum=0.9)\n"
      ],
      "execution_count": 33,
      "outputs": []
    },
    {
      "cell_type": "code",
      "metadata": {
        "id": "Vo6FUCo9Syld",
        "colab": {
          "base_uri": "https://localhost:8080/"
        },
        "outputId": "84783245-ae38-4fbd-d77b-db164ae4df80"
      },
      "source": [
        "train_losses, valid_losses, train_accs, validation_accs = training_loop(model, 20, train_loader, test_loader,\n",
        "                                          device, criterion, optimizer, \"WideResNet_corr_80\")"
      ],
      "execution_count": 34,
      "outputs": [
        {
          "output_type": "stream",
          "text": [
            "Batch 0 Loss: 2.381901502609253\n",
            "Batch 200 Loss: 2.344564437866211\n",
            "Batch 400 Loss: 2.3233468532562256\n",
            "Batch 600 Loss: 2.2651453018188477\n",
            "Batch 800 Loss: 2.3372244834899902\n",
            "Batch 1000 Loss: 2.3092751502990723\n",
            "Batch 1200 Loss: 2.3078417778015137\n",
            "Batch 1400 Loss: 2.32861065864563\n",
            "[Epoch 0] Train Loss: 2.300964761276245 Vaidation Loss: 2.293346378326416 Train Acc: 0.11564 Validation Acc: 0.1264\n",
            "Batch 0 Loss: 2.289447069168091\n",
            "Batch 200 Loss: 2.341569185256958\n",
            "Batch 400 Loss: 2.2902488708496094\n",
            "Batch 600 Loss: 2.288729190826416\n",
            "Batch 800 Loss: 2.3143081665039062\n",
            "Batch 1000 Loss: 2.321570634841919\n",
            "Batch 1200 Loss: 2.3218111991882324\n",
            "Batch 1400 Loss: 2.3280744552612305\n",
            "[Epoch 1] Train Loss: 2.2899625994110107 Vaidation Loss: 2.2879266147613526 Train Acc: 0.1318 Validation Acc: 0.1422\n",
            "Batch 0 Loss: 2.26483154296875\n",
            "Batch 200 Loss: 2.298112392425537\n",
            "Batch 400 Loss: 2.312255620956421\n",
            "Batch 600 Loss: 2.2565252780914307\n",
            "Batch 800 Loss: 2.2970306873321533\n",
            "Batch 1000 Loss: 2.176002264022827\n",
            "Batch 1200 Loss: 2.2725815773010254\n",
            "Batch 1400 Loss: 2.293116569519043\n",
            "[Epoch 2] Train Loss: 2.2856415021514893 Vaidation Loss: 2.2839125061035155 Train Acc: 0.14322 Validation Acc: 0.1434\n",
            "Batch 0 Loss: 2.218701124191284\n",
            "Batch 200 Loss: 2.316492795944214\n",
            "Batch 400 Loss: 2.333547353744507\n",
            "Batch 600 Loss: 2.314756155014038\n",
            "Batch 800 Loss: 2.2708709239959717\n",
            "Batch 1000 Loss: 2.3173434734344482\n",
            "Batch 1200 Loss: 2.2900664806365967\n",
            "Batch 1400 Loss: 2.275998830795288\n",
            "[Epoch 3] Train Loss: 2.2795847886657716 Vaidation Loss: 2.2835543155670166 Train Acc: 0.151 Validation Acc: 0.1456\n",
            "Batch 0 Loss: 2.310431718826294\n",
            "Batch 200 Loss: 2.2485055923461914\n",
            "Batch 400 Loss: 2.357837677001953\n",
            "Batch 600 Loss: 2.2079780101776123\n",
            "Batch 800 Loss: 2.3227477073669434\n",
            "Batch 1000 Loss: 2.2823777198791504\n",
            "Batch 1200 Loss: 2.2059130668640137\n",
            "Batch 1400 Loss: 2.287025213241577\n",
            "[Epoch 4] Train Loss: 2.275956184310913 Vaidation Loss: 2.280246513748169 Train Acc: 0.15662 Validation Acc: 0.1554\n",
            "Batch 0 Loss: 2.2771334648132324\n",
            "Batch 200 Loss: 2.23953914642334\n",
            "Batch 400 Loss: 2.3278353214263916\n",
            "Batch 600 Loss: 2.311558723449707\n",
            "Batch 800 Loss: 2.2035863399505615\n",
            "Batch 1000 Loss: 2.3041775226593018\n",
            "Batch 1200 Loss: 2.305666208267212\n",
            "Batch 1400 Loss: 2.2909538745880127\n",
            "[Epoch 5] Train Loss: 2.2718450883483885 Vaidation Loss: 2.280421060180664 Train Acc: 0.1582 Validation Acc: 0.155\n",
            "Batch 0 Loss: 2.2525205612182617\n",
            "Batch 200 Loss: 2.260056734085083\n",
            "Batch 400 Loss: 2.3007400035858154\n",
            "Batch 600 Loss: 2.206902265548706\n",
            "Batch 800 Loss: 2.2334187030792236\n",
            "Batch 1000 Loss: 2.3026065826416016\n",
            "Batch 1200 Loss: 2.239107131958008\n",
            "Batch 1400 Loss: 2.3048112392425537\n",
            "[Epoch 6] Train Loss: 2.2673928736114504 Vaidation Loss: 2.2790740768432616 Train Acc: 0.16434 Validation Acc: 0.1574\n",
            "Batch 0 Loss: 2.279890298843384\n",
            "Batch 200 Loss: 2.1718571186065674\n",
            "Batch 400 Loss: 2.200756311416626\n",
            "Batch 600 Loss: 2.254023313522339\n",
            "Batch 800 Loss: 2.2921245098114014\n",
            "Batch 1000 Loss: 2.262697458267212\n",
            "Batch 1200 Loss: 2.300956964492798\n",
            "Batch 1400 Loss: 2.3421101570129395\n",
            "[Epoch 7] Train Loss: 2.263767975769043 Vaidation Loss: 2.2794360988616944 Train Acc: 0.16734 Validation Acc: 0.1535\n",
            "Batch 0 Loss: 2.1890294551849365\n",
            "Batch 200 Loss: 2.2973108291625977\n",
            "Batch 400 Loss: 2.3043816089630127\n",
            "Batch 600 Loss: 2.1939687728881836\n",
            "Batch 800 Loss: 2.1920154094696045\n",
            "Batch 1000 Loss: 2.2287683486938477\n",
            "Batch 1200 Loss: 2.3296914100646973\n",
            "Batch 1400 Loss: 2.2690610885620117\n",
            "[Epoch 8] Train Loss: 2.2580132586669923 Vaidation Loss: 2.2805769191741945 Train Acc: 0.17336 Validation Acc: 0.1568\n",
            "Batch 0 Loss: 2.260227680206299\n",
            "Batch 200 Loss: 2.329998731613159\n",
            "Batch 400 Loss: 2.307788133621216\n",
            "Batch 600 Loss: 2.2531065940856934\n",
            "Batch 800 Loss: 2.1713852882385254\n",
            "Batch 1000 Loss: 2.311485767364502\n",
            "Batch 1200 Loss: 2.161594867706299\n",
            "Batch 1400 Loss: 2.2225115299224854\n",
            "[Epoch 9] Train Loss: 2.2532869918060303 Vaidation Loss: 2.2793996772766114 Train Acc: 0.1742 Validation Acc: 0.1591\n",
            "Batch 0 Loss: 2.2288942337036133\n",
            "Batch 200 Loss: 2.2145841121673584\n",
            "Batch 400 Loss: 2.232515811920166\n",
            "Batch 600 Loss: 2.2388432025909424\n",
            "Batch 800 Loss: 2.177969455718994\n",
            "Batch 1000 Loss: 2.2872095108032227\n",
            "Batch 1200 Loss: 2.2700326442718506\n",
            "Batch 1400 Loss: 2.285278081893921\n",
            "[Epoch 10] Train Loss: 2.247318553543091 Vaidation Loss: 2.2807964103698732 Train Acc: 0.17906 Validation Acc: 0.1605\n",
            "Batch 0 Loss: 2.2844371795654297\n",
            "Batch 200 Loss: 2.278865337371826\n",
            "Batch 400 Loss: 2.260627508163452\n",
            "Batch 600 Loss: 2.2119956016540527\n",
            "Batch 800 Loss: 2.3074920177459717\n",
            "Batch 1000 Loss: 2.293297529220581\n",
            "Batch 1200 Loss: 2.3324975967407227\n",
            "Batch 1400 Loss: 2.2533206939697266\n",
            "[Epoch 11] Train Loss: 2.2402580174255373 Vaidation Loss: 2.2848777103424074 Train Acc: 0.18458 Validation Acc: 0.1563\n",
            "Batch 0 Loss: 2.1950109004974365\n",
            "Batch 200 Loss: 2.1705596446990967\n",
            "Batch 400 Loss: 2.2690298557281494\n",
            "Batch 600 Loss: 2.209306478500366\n",
            "Batch 800 Loss: 2.194523811340332\n",
            "Batch 1000 Loss: 2.307828187942505\n",
            "Batch 1200 Loss: 2.2285075187683105\n",
            "Batch 1400 Loss: 2.2599422931671143\n",
            "[Epoch 12] Train Loss: 2.234023759384155 Vaidation Loss: 2.286798968505859 Train Acc: 0.18718 Validation Acc: 0.1561\n",
            "Batch 0 Loss: 2.173401117324829\n",
            "Batch 200 Loss: 2.1838858127593994\n",
            "Batch 400 Loss: 2.270944356918335\n",
            "Batch 600 Loss: 2.1743578910827637\n",
            "Batch 800 Loss: 2.2202038764953613\n",
            "Batch 1000 Loss: 2.2771143913269043\n",
            "Batch 1200 Loss: 2.1234750747680664\n",
            "Batch 1400 Loss: 2.2122795581817627\n",
            "[Epoch 13] Train Loss: 2.22483612197876 Vaidation Loss: 2.2936829639434815 Train Acc: 0.19348 Validation Acc: 0.1542\n",
            "Batch 0 Loss: 2.048166275024414\n",
            "Batch 200 Loss: 2.194523572921753\n",
            "Batch 400 Loss: 2.1506235599517822\n",
            "Batch 600 Loss: 2.2379894256591797\n",
            "Batch 800 Loss: 2.1662328243255615\n",
            "Batch 1000 Loss: 2.2746970653533936\n",
            "Batch 1200 Loss: 2.1551294326782227\n",
            "Batch 1400 Loss: 2.2239761352539062\n",
            "[Epoch 14] Train Loss: 2.216141933670044 Vaidation Loss: 2.301152625656128 Train Acc: 0.19932 Validation Acc: 0.1524\n",
            "Batch 0 Loss: 2.142306327819824\n",
            "Batch 200 Loss: 2.1630072593688965\n",
            "Batch 400 Loss: 2.080139398574829\n",
            "Batch 600 Loss: 2.2964580059051514\n",
            "Batch 800 Loss: 2.2905619144439697\n",
            "Batch 1000 Loss: 2.1990771293640137\n",
            "Batch 1200 Loss: 2.158221960067749\n",
            "Batch 1400 Loss: 2.0801756381988525\n",
            "[Epoch 15] Train Loss: 2.206215532608032 Vaidation Loss: 2.304846881866455 Train Acc: 0.2041 Validation Acc: 0.1545\n",
            "Batch 0 Loss: 2.2389707565307617\n",
            "Batch 200 Loss: 2.1742818355560303\n",
            "Batch 400 Loss: 2.162238121032715\n",
            "Batch 600 Loss: 2.222144842147827\n",
            "Batch 800 Loss: 2.1742703914642334\n",
            "Batch 1000 Loss: 2.0983848571777344\n",
            "Batch 1200 Loss: 2.2154181003570557\n",
            "Batch 1400 Loss: 2.2103633880615234\n",
            "[Epoch 16] Train Loss: 2.1977305226898194 Vaidation Loss: 2.3171976943969725 Train Acc: 0.20788 Validation Acc: 0.1546\n",
            "Batch 0 Loss: 2.0484378337860107\n",
            "Batch 200 Loss: 2.118889331817627\n",
            "Batch 400 Loss: 2.17486834526062\n",
            "Batch 600 Loss: 2.135127544403076\n",
            "Batch 800 Loss: 2.2969062328338623\n",
            "Batch 1000 Loss: 2.3089656829833984\n",
            "Batch 1200 Loss: 2.226027011871338\n",
            "Batch 1400 Loss: 2.204643726348877\n",
            "[Epoch 17] Train Loss: 2.1849265966033937 Vaidation Loss: 2.3295325019836426 Train Acc: 0.21384 Validation Acc: 0.1521\n",
            "Batch 0 Loss: 2.0688600540161133\n",
            "Batch 200 Loss: 2.221776247024536\n",
            "Batch 400 Loss: 2.2049975395202637\n",
            "Batch 600 Loss: 2.093775987625122\n",
            "Batch 800 Loss: 2.16351056098938\n",
            "Batch 1000 Loss: 2.124101400375366\n",
            "Batch 1200 Loss: 2.221999168395996\n",
            "Batch 1400 Loss: 2.3261287212371826\n",
            "[Epoch 18] Train Loss: 2.17337290145874 Vaidation Loss: 2.351078447341919 Train Acc: 0.22156 Validation Acc: 0.1532\n",
            "Batch 0 Loss: 2.101468086242676\n",
            "Batch 200 Loss: 2.2438948154449463\n",
            "Batch 400 Loss: 2.229170799255371\n",
            "Batch 600 Loss: 2.1551499366760254\n",
            "Batch 800 Loss: 2.1328561305999756\n",
            "Batch 1000 Loss: 2.177652597427368\n",
            "Batch 1200 Loss: 2.0919857025146484\n",
            "Batch 1400 Loss: 2.2008681297302246\n",
            "[Epoch 19] Train Loss: 2.1560644138336182 Vaidation Loss: 2.3453103607177734 Train Acc: 0.22758 Validation Acc: 0.1506\n",
            "Finished Training\n"
          ],
          "name": "stdout"
        }
      ]
    },
    {
      "cell_type": "code",
      "metadata": {
        "id": "b04FhI63Syle",
        "colab": {
          "base_uri": "https://localhost:8080/",
          "height": 404
        },
        "outputId": "32226685-57e1-498f-cad9-b5cfacf9c32d"
      },
      "source": [
        "plot_losses(train_losses, valid_losses, train_accs, validation_accs, \"WideResNet 80% corruption\")"
      ],
      "execution_count": 35,
      "outputs": [
        {
          "output_type": "display_data",
          "data": {
            "image/png": "[encoded data removed]",
            "text/plain": [
              "<Figure size 1152x432 with 2 Axes>"
            ]
          },
          "metadata": {
            "tags": [],
            "needs_background": "light"
          }
        }
      ]
    },
    {
      "cell_type": "code",
      "metadata": {
        "id": "WPK9LERPSylf",
        "colab": {
          "base_uri": "https://localhost:8080/"
        },
        "outputId": "97659c56-1d72-4387-d7f4-23b920285c99"
      },
      "source": [
        "model = WideResNet()\n",
        "sd = torch.load(\"WideResNet_corr_80.pth\")\n",
        "model.load_state_dict(sd)\n",
        "model = model.to(device)\n",
        "testy, pred = run_testing(test_loader, model, device)\n",
        "\n",
        "print(\"Accuracy:\", accuracy_score(testy, pred))\n",
        "print(\"Confusion Matrix:\\n\", confusion_matrix(testy, pred))\n"
      ],
      "execution_count": 36,
      "outputs": [
        {
          "output_type": "stream",
          "text": [
            "Accuracy: 0.1605\n",
            "Confusion Matrix:\n",
            " [[218  75  69  58  39 140  74  75 138 125]\n",
            " [129 178  63  61  27 132  91  58 127 163]\n",
            " [135  74 101  75  38 170  92  67 124 111]\n",
            " [121  80  55 107  40 219  98  73 111 116]\n",
            " [117  71  98  63  50 161 118  79 101  96]\n",
            " [128  81  78  73  24 222  69  87 111 108]\n",
            " [109  89  78  67  49 141 188  78  95 121]\n",
            " [139  96  56  72  37 164  99 113 111 111]\n",
            " [134  91  55  69  31 135  97  61 207 107]\n",
            " [120 106  57  55  26 151  77  73 132 221]]\n"
          ],
          "name": "stdout"
        }
      ]
    },
    {
      "cell_type": "code",
      "metadata": {
        "id": "yLTZuwdYSylf"
      },
      "source": [
        "final_dict[80] = {}\n",
        "final_dict[80][\"train_losses\"] = train_losses\n",
        "final_dict[80][\"valid_losses\"] = valid_losses\n",
        "final_dict[80][\"train_accs\"] = train_accs\n",
        "final_dict[80][\"validation_accs\"] = validation_accs\n",
        "final_dict[80][\"best_test_acc\"]  = accuracy_score(testy, pred)\n"
      ],
      "execution_count": 37,
      "outputs": []
    },
    {
      "cell_type": "code",
      "metadata": {
        "id": "N2mkbHx-Syxh",
        "colab": {
          "base_uri": "https://localhost:8080/"
        },
        "outputId": "c39a24d0-1a67-4586-e666-d04309c795c9"
      },
      "source": [
        "train_loader, test_loader = get_cifar_dataloaders_corrupted(1.0)\n",
        "criterion = nn.CrossEntropyLoss()\n",
        "\n",
        "device = torch.device(\"cuda:0\" if torch.cuda.is_available() else \"cpu\")\n",
        "print(device)\n"
      ],
      "execution_count": 38,
      "outputs": [
        {
          "output_type": "stream",
          "text": [
            "Files already downloaded and verified\n",
            "Files already downloaded and verified\n",
            "cuda:0\n"
          ],
          "name": "stdout"
        }
      ]
    },
    {
      "cell_type": "code",
      "metadata": {
        "id": "HA1vdY6mSyxi"
      },
      "source": [
        "model = WideResNet()\n",
        "model = model.to(device)\n",
        "optimizer = optim.SGD(model.parameters(), lr=1e-3, momentum=0.9)\n"
      ],
      "execution_count": 39,
      "outputs": []
    },
    {
      "cell_type": "code",
      "metadata": {
        "id": "fCkNPItWSyxi",
        "colab": {
          "base_uri": "https://localhost:8080/"
        },
        "outputId": "d711cc66-31c8-496e-8019-395f75e61b52"
      },
      "source": [
        "train_losses, valid_losses, train_accs, validation_accs = training_loop(model, 20, train_loader, test_loader,\n",
        "                                          device, criterion, optimizer, \"WideResNet_corr_100\")"
      ],
      "execution_count": 40,
      "outputs": [
        {
          "output_type": "stream",
          "text": [
            "Batch 0 Loss: 2.4559898376464844\n",
            "Batch 200 Loss: 2.303041934967041\n",
            "Batch 400 Loss: 2.321556568145752\n",
            "Batch 600 Loss: 2.3175859451293945\n",
            "Batch 800 Loss: 2.301528215408325\n",
            "Batch 1000 Loss: 2.3041374683380127\n",
            "Batch 1200 Loss: 2.2943687438964844\n",
            "Batch 1400 Loss: 2.337761163711548\n",
            "[Epoch 0] Train Loss: 2.3145126540374754 Vaidation Loss: 2.3130436977386473 Train Acc: 0.09932 Validation Acc: 0.0982\n",
            "Batch 0 Loss: 2.3163461685180664\n",
            "Batch 200 Loss: 2.330150604248047\n",
            "Batch 400 Loss: 2.302412271499634\n",
            "Batch 600 Loss: 2.312183380126953\n",
            "Batch 800 Loss: 2.3227272033691406\n",
            "Batch 1000 Loss: 2.2947380542755127\n",
            "Batch 1200 Loss: 2.314922571182251\n",
            "Batch 1400 Loss: 2.3032264709472656\n",
            "[Epoch 1] Train Loss: 2.306743617706299 Vaidation Loss: 2.307341386795044 Train Acc: 0.10022 Validation Acc: 0.1001\n",
            "Batch 0 Loss: 2.2769389152526855\n",
            "Batch 200 Loss: 2.317674160003662\n",
            "Batch 400 Loss: 2.2947328090667725\n",
            "Batch 600 Loss: 2.2707841396331787\n",
            "Batch 800 Loss: 2.2996816635131836\n",
            "Batch 1000 Loss: 2.286806344985962\n",
            "Batch 1200 Loss: 2.3153059482574463\n",
            "Batch 1400 Loss: 2.3000404834747314\n",
            "[Epoch 2] Train Loss: 2.304124433517456 Vaidation Loss: 2.308241393280029 Train Acc: 0.10656 Validation Acc: 0.1017\n",
            "Batch 0 Loss: 2.298489570617676\n",
            "Batch 200 Loss: 2.284245252609253\n",
            "Batch 400 Loss: 2.2874484062194824\n",
            "Batch 600 Loss: 2.2940475940704346\n",
            "Batch 800 Loss: 2.319972276687622\n",
            "Batch 1000 Loss: 2.2811570167541504\n",
            "Batch 1200 Loss: 2.3059933185577393\n",
            "Batch 1400 Loss: 2.302330732345581\n",
            "[Epoch 3] Train Loss: 2.3030074839782713 Vaidation Loss: 2.3078230094909666 Train Acc: 0.10634 Validation Acc: 0.102\n",
            "Batch 0 Loss: 2.305330514907837\n",
            "Batch 200 Loss: 2.297475814819336\n",
            "Batch 400 Loss: 2.2819390296936035\n",
            "Batch 600 Loss: 2.3139209747314453\n",
            "Batch 800 Loss: 2.2983005046844482\n",
            "Batch 1000 Loss: 2.3270316123962402\n",
            "Batch 1200 Loss: 2.2795913219451904\n",
            "Batch 1400 Loss: 2.306001901626587\n",
            "[Epoch 4] Train Loss: 2.3006892652130126 Vaidation Loss: 2.3089928951263428 Train Acc: 0.11028 Validation Acc: 0.1012\n",
            "Batch 0 Loss: 2.3075995445251465\n",
            "Batch 200 Loss: 2.331915855407715\n",
            "Batch 400 Loss: 2.300339460372925\n",
            "Batch 600 Loss: 2.3084452152252197\n",
            "Batch 800 Loss: 2.293931484222412\n",
            "Batch 1000 Loss: 2.302579879760742\n",
            "Batch 1200 Loss: 2.3088512420654297\n",
            "Batch 1400 Loss: 2.2906413078308105\n",
            "[Epoch 5] Train Loss: 2.299199354400635 Vaidation Loss: 2.3074426651000977 Train Acc: 0.11396 Validation Acc: 0.0976\n",
            "Batch 0 Loss: 2.295065402984619\n",
            "Batch 200 Loss: 2.289055585861206\n",
            "Batch 400 Loss: 2.2673420906066895\n",
            "Batch 600 Loss: 2.3034348487854004\n",
            "Batch 800 Loss: 2.3093960285186768\n",
            "Batch 1000 Loss: 2.2966859340667725\n",
            "Batch 1200 Loss: 2.3072609901428223\n",
            "Batch 1400 Loss: 2.3197877407073975\n",
            "[Epoch 6] Train Loss: 2.297272370529175 Vaidation Loss: 2.3071925945281984 Train Acc: 0.11588 Validation Acc: 0.1015\n",
            "Batch 0 Loss: 2.2664926052093506\n",
            "Batch 200 Loss: 2.299330949783325\n",
            "Batch 400 Loss: 2.3169779777526855\n",
            "Batch 600 Loss: 2.3248913288116455\n",
            "Batch 800 Loss: 2.3019983768463135\n",
            "Batch 1000 Loss: 2.2932755947113037\n",
            "Batch 1200 Loss: 2.3130812644958496\n",
            "Batch 1400 Loss: 2.2770605087280273\n",
            "[Epoch 7] Train Loss: 2.294799379119873 Vaidation Loss: 2.3080887218475343 Train Acc: 0.12078 Validation Acc: 0.0942\n",
            "Batch 0 Loss: 2.285123825073242\n",
            "Batch 200 Loss: 2.290221691131592\n",
            "Batch 400 Loss: 2.310408592224121\n",
            "Batch 600 Loss: 2.2803239822387695\n",
            "Batch 800 Loss: 2.2653825283050537\n",
            "Batch 1000 Loss: 2.294891357421875\n",
            "Batch 1200 Loss: 2.3050966262817383\n",
            "Batch 1400 Loss: 2.305601119995117\n",
            "[Epoch 8] Train Loss: 2.2927167176818846 Vaidation Loss: 2.3087903942108152 Train Acc: 0.12424 Validation Acc: 0.0981\n",
            "Batch 0 Loss: 2.2742438316345215\n",
            "Batch 200 Loss: 2.2753818035125732\n",
            "Batch 400 Loss: 2.303985834121704\n",
            "Batch 600 Loss: 2.303403377532959\n",
            "Batch 800 Loss: 2.2919301986694336\n",
            "Batch 1000 Loss: 2.308048963546753\n",
            "Batch 1200 Loss: 2.271193027496338\n",
            "Batch 1400 Loss: 2.260817289352417\n",
            "[Epoch 9] Train Loss: 2.2892188680267336 Vaidation Loss: 2.308897664260864 Train Acc: 0.1298 Validation Acc: 0.0992\n",
            "Batch 0 Loss: 2.3067822456359863\n",
            "Batch 200 Loss: 2.2540359497070312\n",
            "Batch 400 Loss: 2.291598081588745\n",
            "Batch 600 Loss: 2.2496252059936523\n",
            "Batch 800 Loss: 2.3028643131256104\n",
            "Batch 1000 Loss: 2.283343553543091\n",
            "Batch 1200 Loss: 2.287503242492676\n",
            "Batch 1400 Loss: 2.285827159881592\n",
            "[Epoch 10] Train Loss: 2.2867801288604737 Vaidation Loss: 2.310447797012329 Train Acc: 0.1336 Validation Acc: 0.0964\n",
            "Batch 0 Loss: 2.233342409133911\n",
            "Batch 200 Loss: 2.2899250984191895\n",
            "Batch 400 Loss: 2.2527456283569336\n",
            "Batch 600 Loss: 2.2772109508514404\n",
            "Batch 800 Loss: 2.2718732357025146\n",
            "Batch 1000 Loss: 2.26233172416687\n",
            "Batch 1200 Loss: 2.279689073562622\n",
            "Batch 1400 Loss: 2.263449192047119\n",
            "[Epoch 11] Train Loss: 2.283373490524292 Vaidation Loss: 2.309800023651123 Train Acc: 0.13856 Validation Acc: 0.1017\n",
            "Batch 0 Loss: 2.2644600868225098\n",
            "Batch 200 Loss: 2.2739639282226562\n",
            "Batch 400 Loss: 2.288505792617798\n",
            "Batch 600 Loss: 2.2941672801971436\n",
            "Batch 800 Loss: 2.2834079265594482\n",
            "Batch 1000 Loss: 2.2446413040161133\n",
            "Batch 1200 Loss: 2.2653112411499023\n",
            "Batch 1400 Loss: 2.2995872497558594\n",
            "[Epoch 12] Train Loss: 2.279794241104126 Vaidation Loss: 2.313960506439209 Train Acc: 0.1427 Validation Acc: 0.0981\n",
            "Batch 0 Loss: 2.2502148151397705\n",
            "Batch 200 Loss: 2.2948460578918457\n",
            "Batch 400 Loss: 2.251875400543213\n",
            "Batch 600 Loss: 2.260108709335327\n",
            "Batch 800 Loss: 2.288620948791504\n",
            "Batch 1000 Loss: 2.219338893890381\n",
            "Batch 1200 Loss: 2.3360230922698975\n",
            "Batch 1400 Loss: 2.2269721031188965\n",
            "[Epoch 13] Train Loss: 2.274534725265503 Vaidation Loss: 2.31321861038208 Train Acc: 0.14922 Validation Acc: 0.1011\n",
            "Batch 0 Loss: 2.2696783542633057\n",
            "Batch 200 Loss: 2.3132433891296387\n",
            "Batch 400 Loss: 2.2743380069732666\n",
            "Batch 600 Loss: 2.255127191543579\n",
            "Batch 800 Loss: 2.2215373516082764\n",
            "Batch 1000 Loss: 2.291222095489502\n",
            "Batch 1200 Loss: 2.2825722694396973\n",
            "Batch 1400 Loss: 2.3149774074554443\n",
            "[Epoch 14] Train Loss: 2.268480372772217 Vaidation Loss: 2.316776600265503 Train Acc: 0.15326 Validation Acc: 0.1053\n",
            "Batch 0 Loss: 2.2508552074432373\n",
            "Batch 200 Loss: 2.235473871231079\n",
            "Batch 400 Loss: 2.218097686767578\n",
            "Batch 600 Loss: 2.254328489303589\n",
            "Batch 800 Loss: 2.349748373031616\n",
            "Batch 1000 Loss: 2.313430070877075\n",
            "Batch 1200 Loss: 2.156921625137329\n",
            "Batch 1400 Loss: 2.2941536903381348\n",
            "[Epoch 15] Train Loss: 2.2633527142333985 Vaidation Loss: 2.320815679931641 Train Acc: 0.15908 Validation Acc: 0.1052\n",
            "Batch 0 Loss: 2.2855048179626465\n",
            "Batch 200 Loss: 2.2057762145996094\n",
            "Batch 400 Loss: 2.1921474933624268\n",
            "Batch 600 Loss: 2.183820962905884\n",
            "Batch 800 Loss: 2.243638038635254\n",
            "Batch 1000 Loss: 2.23483943939209\n",
            "Batch 1200 Loss: 2.1767048835754395\n",
            "Batch 1400 Loss: 2.3060483932495117\n",
            "[Epoch 16] Train Loss: 2.2565084078979494 Vaidation Loss: 2.337238144302368 Train Acc: 0.1612 Validation Acc: 0.106\n",
            "Batch 0 Loss: 2.198258399963379\n",
            "Batch 200 Loss: 2.30930757522583\n",
            "Batch 400 Loss: 2.249086618423462\n",
            "Batch 600 Loss: 2.2321577072143555\n",
            "Batch 800 Loss: 2.232835292816162\n",
            "Batch 1000 Loss: 2.2905216217041016\n",
            "Batch 1200 Loss: 2.215785503387451\n",
            "Batch 1400 Loss: 2.310422897338867\n",
            "[Epoch 17] Train Loss: 2.249316374206543 Vaidation Loss: 2.340967681503296 Train Acc: 0.16516 Validation Acc: 0.108\n",
            "Batch 0 Loss: 2.1412789821624756\n",
            "Batch 200 Loss: 2.198213577270508\n",
            "Batch 400 Loss: 2.169877290725708\n",
            "Batch 600 Loss: 2.268886089324951\n",
            "Batch 800 Loss: 2.2251312732696533\n",
            "Batch 1000 Loss: 2.251497983932495\n",
            "Batch 1200 Loss: 2.242445945739746\n",
            "Batch 1400 Loss: 2.2642505168914795\n",
            "[Epoch 18] Train Loss: 2.240751935195923 Vaidation Loss: 2.345716806411743 Train Acc: 0.16856 Validation Acc: 0.1009\n",
            "Batch 0 Loss: 2.2232730388641357\n",
            "Batch 200 Loss: 2.2811970710754395\n",
            "Batch 400 Loss: 2.255671262741089\n",
            "Batch 600 Loss: 2.1826441287994385\n",
            "Batch 800 Loss: 2.2722270488739014\n",
            "Batch 1000 Loss: 2.2755775451660156\n",
            "Batch 1200 Loss: 2.2622063159942627\n",
            "Batch 1400 Loss: 2.30259108543396\n",
            "[Epoch 19] Train Loss: 2.233037818222046 Vaidation Loss: 2.3508790420532226 Train Acc: 0.1746 Validation Acc: 0.0998\n",
            "Finished Training\n"
          ],
          "name": "stdout"
        }
      ]
    },
    {
      "cell_type": "code",
      "metadata": {
        "id": "u0uJWei_Syxi",
        "colab": {
          "base_uri": "https://localhost:8080/",
          "height": 404
        },
        "outputId": "bbbe3275-f5b9-430f-8ad7-06613d334667"
      },
      "source": [
        "plot_losses(train_losses, valid_losses, train_accs, validation_accs, \"WideResNet 100% corruption\")"
      ],
      "execution_count": 41,
      "outputs": [
        {
          "output_type": "display_data",
          "data": {
            "image/png": "[encoded data removed]",
            "text/plain": [
              "<Figure size 1152x432 with 2 Axes>"
            ]
          },
          "metadata": {
            "tags": [],
            "needs_background": "light"
          }
        }
      ]
    },
    {
      "cell_type": "code",
      "metadata": {
        "id": "gHn-sHHXSyxi",
        "colab": {
          "base_uri": "https://localhost:8080/"
        },
        "outputId": "2f0de7ea-7daa-46d2-f651-195be0385630"
      },
      "source": [
        "model = WideResNet()\n",
        "sd = torch.load(\"WideResNet_corr_100.pth\")\n",
        "model.load_state_dict(sd)\n",
        "model = model.to(device)\n",
        "testy, pred = run_testing(test_loader, model, device)\n",
        "\n",
        "print(\"Accuracy:\", accuracy_score(testy, pred))\n",
        "print(\"Confusion Matrix:\\n\", confusion_matrix(testy, pred))\n"
      ],
      "execution_count": 42,
      "outputs": [
        {
          "output_type": "stream",
          "text": [
            "Accuracy: 0.108\n",
            "Confusion Matrix:\n",
            " [[ 77  84  83 313  36  72 193  74  55  27]\n",
            " [ 54  91  62 361  30  56 216  85  62  23]\n",
            " [ 70  93  63 344  39  63 164  76  55  24]\n",
            " [ 60  91  68 394  41  64 158  77  44  15]\n",
            " [ 73  88  71 316  30  54 164  75  49  25]\n",
            " [ 64  94  69 340  38  74 176  79  53  30]\n",
            " [ 69  86  56 361  30  65 191  74  49  16]\n",
            " [ 74  85  75 351  36  62 148  88  50  24]\n",
            " [ 62  79  66 345  29  66 178  76  47  25]\n",
            " [ 65  82  61 358  31  77 181  80  58  25]]\n"
          ],
          "name": "stdout"
        }
      ]
    },
    {
      "cell_type": "code",
      "metadata": {
        "id": "_jgKGC0WSyxj"
      },
      "source": [
        "final_dict[100] = {}\n",
        "final_dict[100][\"train_losses\"] = train_losses\n",
        "final_dict[100][\"valid_losses\"] = valid_losses\n",
        "final_dict[100][\"train_accs\"] = train_accs\n",
        "final_dict[100][\"validation_accs\"] = validation_accs\n",
        "final_dict[100][\"best_test_acc\"]  = accuracy_score(testy, pred)\n"
      ],
      "execution_count": 43,
      "outputs": []
    },
    {
      "cell_type": "code",
      "metadata": {
        "id": "up7SnPUnR1n2"
      },
      "source": [
        "with open('final.pickle', 'wb') as f:\n",
        "    pickle.dump(final_dict, f, protocol=pickle.HIGHEST_PROTOCOL)\n"
      ],
      "execution_count": 44,
      "outputs": []
    },
    {
      "cell_type": "code",
      "metadata": {
        "id": "meI1PIqQTKwW",
        "colab": {
          "base_uri": "https://localhost:8080/"
        },
        "outputId": "43695d1c-8490-49de-a2d2-5847f41dd21d"
      },
      "source": [
        "!curl bashupload.com -T final.pickle"
      ],
      "execution_count": 45,
      "outputs": [
        {
          "output_type": "stream",
          "text": [
            "  % Total    % Received % Xferd  Average Speed   Time    Time     Time  Current\n",
            "                                 Dload  Upload   Total   Spent    Left  Speed\n",
            "\r  0     0    0     0    0     0      0      0 --:--:-- --:--:-- --:--:--     0\n",
            "=========================\n",
            "\n",
            "Uploaded 1 file, 4 794 bytes\n",
            "\n",
            "wget http://bashupload.com/10NRR/final.pickle\n",
            "\n",
            "=========================\n",
            "\n",
            "\r100  4926    0   132  100  4794    469  17060 --:--:-- --:--:-- --:--:-- 17530\n"
          ],
          "name": "stdout"
        }
      ]
    },
    {
      "cell_type": "code",
      "metadata": {
        "colab": {
          "base_uri": "https://localhost:8080/"
        },
        "id": "jB0YExL-dRkD",
        "outputId": "c78d9ef2-bb37-4ba4-bad1-407582646964"
      },
      "source": [
        "!zip wideresnet.zip *.*\n",
        "!curl bashupload.com -T wideresnet.zip"
      ],
      "execution_count": 46,
      "outputs": [
        {
          "output_type": "stream",
          "text": [
            "  adding: final.pickle (deflated 21%)\n",
            "  adding: WideResNet_corr_0.pth (deflated 10%)\n",
            "  adding: WideResNet_corr_100.pth (deflated 10%)\n",
            "  adding: WideResNet_corr_20.pth (deflated 10%)\n",
            "  adding: WideResNet_corr_40.pth (deflated 10%)\n",
            "  adding: WideResNet_corr_60.pth (deflated 10%)\n",
            "  adding: WideResNet_corr_80.pth (deflated 10%)\n",
            "  % Total    % Received % Xferd  Average Speed   Time    Time     Time  Current\n",
            "                                 Dload  Upload   Total   Spent    Left  Speed\n",
            " 63 8143k    0     0   63 5152k      0  5762k  0:00:01 --:--:--  0:00:01 5756k\n",
            "=========================\n",
            "\n",
            "Uploaded 1 file, 8 338 571 bytes\n",
            "\n",
            "wget http://bashupload.com/kfuI6/wideresnet.zip\n",
            "\n",
            "=========================\n",
            "\n",
            "100 8143k    0   138  100 8143k    106  6307k  0:00:01  0:00:01 --:--:-- 6307k\n"
          ],
          "name": "stdout"
        }
      ]
    },
    {
      "cell_type": "code",
      "metadata": {
        "id": "6yqjjjbBdU1I"
      },
      "source": [
        ""
      ],
      "execution_count": null,
      "outputs": []
    }
  ]
}